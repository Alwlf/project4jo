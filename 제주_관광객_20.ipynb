{
 "cells": [
  {
   "cell_type": "code",
   "execution_count": 34,
   "metadata": {},
   "outputs": [],
   "source": [
    "import pandas as pd\n",
    "import numpy as np\n",
    "import matplotlib.pyplot as plt\n",
    "from matplotlib import rc\n",
    "import seaborn as sns\n",
    "\n",
    "%matplotlib inline\n",
    "\n",
    "rc('font', family='Malgun Gothic')\n",
    "plt.rcParams['axes.unicode_minus'] = False"
   ]
  },
  {
   "cell_type": "code",
   "execution_count": 35,
   "metadata": {},
   "outputs": [],
   "source": [
    "tl_1 = pd.read_excel('jejutour/2020년1월+관광객입도현황(확정치).xls')\n",
    "tl_2 = pd.read_excel('jejutour/2020년+2월관광객입도현황(확정치).xls')\n",
    "tl_3 = pd.read_excel('jejutour/2020년+3월관광객입도현황(확정치).xls')\n",
    "tl_4 = pd.read_excel('jejutour/2020년+4월관광객입도현황(확정치).xls')\n",
    "tl_5 = pd.read_excel('jejutour/2020년+5월관광객입도현황(확정치).xls')\n",
    "tl_6 = pd.read_excel('jejutour/2020년+6월관광객입도현황(확정치).xls')\n",
    "tl_7 = pd.read_excel('jejutour/2020년+7월관광객입도현황(확정치).xls')\n",
    "tl_8 = pd.read_excel('jejutour/2020년+8월관광객입도현황(확정치).xls')\n",
    "tl_9 = pd.read_excel('jejutour/2020년+9월관광객입도현황(확정치).xls')\n",
    "tl_10 = pd.read_excel('jejutour/2020년+10월관광객입도현황(확정치).xls')\n",
    "tl_11 = pd.read_excel('jejutour/2020년+11월관광객입도현황(확정치).xls')\n",
    "tl_12 = pd.read_excel('jejutour/2020년+12월관광객입도현황(확정치).xls')"
   ]
  },
  {
   "cell_type": "code",
   "execution_count": 36,
   "metadata": {},
   "outputs": [],
   "source": [
    "# 제주도 2020년 내국인 관광객 각 월계 입도현황\n",
    "tl_01 = tl_1.loc[4,[\"Unnamed: 6\"]]\n",
    "tl_02 = tl_2.loc[4,[\"Unnamed: 6\"]]\n",
    "tl_03 = tl_3.loc[4,[\"Unnamed: 6\"]]\n",
    "tl_04 = tl_4.loc[4,[\"Unnamed: 6\"]]\n",
    "tl_05 = tl_5.loc[4,[\"Unnamed: 6\"]]\n",
    "tl_06 = tl_6.loc[4,[\"Unnamed: 6\"]]\n",
    "tl_07 = tl_7.loc[4,[\"Unnamed: 6\"]]\n",
    "tl_08 = tl_8.loc[4,[\"Unnamed: 6\"]]\n",
    "tl_09 = tl_9.loc[4,[\"Unnamed: 6\"]]\n",
    "tl_10 = tl_10.loc[4,[\"Unnamed: 6\"]]\n",
    "tl_11 = tl_11.loc[4,[\"Unnamed: 6\"]]\n",
    "tl_12 = tl_12.loc[4,[\"Unnamed: 6\"]]"
   ]
  },
  {
   "cell_type": "code",
   "execution_count": 37,
   "metadata": {},
   "outputs": [
    {
     "data": {
      "text/html": [
       "<div>\n",
       "<style scoped>\n",
       "    .dataframe tbody tr th:only-of-type {\n",
       "        vertical-align: middle;\n",
       "    }\n",
       "\n",
       "    .dataframe tbody tr th {\n",
       "        vertical-align: top;\n",
       "    }\n",
       "\n",
       "    .dataframe thead th {\n",
       "        text-align: right;\n",
       "    }\n",
       "</style>\n",
       "<table border=\"1\" class=\"dataframe\">\n",
       "  <thead>\n",
       "    <tr style=\"text-align: right;\">\n",
       "      <th></th>\n",
       "      <th>4</th>\n",
       "    </tr>\n",
       "  </thead>\n",
       "  <tbody>\n",
       "    <tr>\n",
       "      <th>Unnamed: 6</th>\n",
       "      <td>1104438</td>\n",
       "    </tr>\n",
       "    <tr>\n",
       "      <th>Unnamed: 6</th>\n",
       "      <td>599575</td>\n",
       "    </tr>\n",
       "    <tr>\n",
       "      <th>Unnamed: 6</th>\n",
       "      <td>477176</td>\n",
       "    </tr>\n",
       "    <tr>\n",
       "      <th>Unnamed: 6</th>\n",
       "      <td>541099</td>\n",
       "    </tr>\n",
       "    <tr>\n",
       "      <th>Unnamed: 6</th>\n",
       "      <td>765616</td>\n",
       "    </tr>\n",
       "    <tr>\n",
       "      <th>Unnamed: 6</th>\n",
       "      <td>860528</td>\n",
       "    </tr>\n",
       "    <tr>\n",
       "      <th>Unnamed: 6</th>\n",
       "      <td>988094</td>\n",
       "    </tr>\n",
       "    <tr>\n",
       "      <th>Unnamed: 6</th>\n",
       "      <td>1127097</td>\n",
       "    </tr>\n",
       "    <tr>\n",
       "      <th>Unnamed: 6</th>\n",
       "      <td>726169</td>\n",
       "    </tr>\n",
       "    <tr>\n",
       "      <th>Unnamed: 6</th>\n",
       "      <td>1072455</td>\n",
       "    </tr>\n",
       "    <tr>\n",
       "      <th>Unnamed: 6</th>\n",
       "      <td>1138369</td>\n",
       "    </tr>\n",
       "    <tr>\n",
       "      <th>Unnamed: 6</th>\n",
       "      <td>623062</td>\n",
       "    </tr>\n",
       "  </tbody>\n",
       "</table>\n",
       "</div>"
      ],
      "text/plain": [
       "                  4\n",
       "Unnamed: 6  1104438\n",
       "Unnamed: 6   599575\n",
       "Unnamed: 6   477176\n",
       "Unnamed: 6   541099\n",
       "Unnamed: 6   765616\n",
       "Unnamed: 6   860528\n",
       "Unnamed: 6   988094\n",
       "Unnamed: 6  1127097\n",
       "Unnamed: 6   726169\n",
       "Unnamed: 6  1072455\n",
       "Unnamed: 6  1138369\n",
       "Unnamed: 6   623062"
      ]
     },
     "execution_count": 37,
     "metadata": {},
     "output_type": "execute_result"
    }
   ],
   "source": [
    "# 제주도 2021년 내국인 관광객 각 월계 입도현황 concat\n",
    "tl_l_20 = pd.concat([tl_01,tl_02,tl_03,tl_04,tl_05,tl_06,tl_07,tl_08,tl_09,tl_10,tl_11,tl_12])\n",
    "tl_l_20.to_frame()"
   ]
  },
  {
   "cell_type": "code",
   "execution_count": 38,
   "metadata": {},
   "outputs": [],
   "source": [
    "tl_l_211 = tl_l_20.to_frame()"
   ]
  },
  {
   "cell_type": "code",
   "execution_count": 39,
   "metadata": {},
   "outputs": [
    {
     "data": {
      "text/html": [
       "<div>\n",
       "<style scoped>\n",
       "    .dataframe tbody tr th:only-of-type {\n",
       "        vertical-align: middle;\n",
       "    }\n",
       "\n",
       "    .dataframe tbody tr th {\n",
       "        vertical-align: top;\n",
       "    }\n",
       "\n",
       "    .dataframe thead th {\n",
       "        text-align: right;\n",
       "    }\n",
       "</style>\n",
       "<table border=\"1\" class=\"dataframe\">\n",
       "  <thead>\n",
       "    <tr style=\"text-align: right;\">\n",
       "      <th></th>\n",
       "      <th>내국인</th>\n",
       "    </tr>\n",
       "  </thead>\n",
       "  <tbody>\n",
       "    <tr>\n",
       "      <th>Unnamed: 6</th>\n",
       "      <td>1104438</td>\n",
       "    </tr>\n",
       "    <tr>\n",
       "      <th>Unnamed: 6</th>\n",
       "      <td>599575</td>\n",
       "    </tr>\n",
       "    <tr>\n",
       "      <th>Unnamed: 6</th>\n",
       "      <td>477176</td>\n",
       "    </tr>\n",
       "    <tr>\n",
       "      <th>Unnamed: 6</th>\n",
       "      <td>541099</td>\n",
       "    </tr>\n",
       "    <tr>\n",
       "      <th>Unnamed: 6</th>\n",
       "      <td>765616</td>\n",
       "    </tr>\n",
       "    <tr>\n",
       "      <th>Unnamed: 6</th>\n",
       "      <td>860528</td>\n",
       "    </tr>\n",
       "    <tr>\n",
       "      <th>Unnamed: 6</th>\n",
       "      <td>988094</td>\n",
       "    </tr>\n",
       "    <tr>\n",
       "      <th>Unnamed: 6</th>\n",
       "      <td>1127097</td>\n",
       "    </tr>\n",
       "    <tr>\n",
       "      <th>Unnamed: 6</th>\n",
       "      <td>726169</td>\n",
       "    </tr>\n",
       "    <tr>\n",
       "      <th>Unnamed: 6</th>\n",
       "      <td>1072455</td>\n",
       "    </tr>\n",
       "    <tr>\n",
       "      <th>Unnamed: 6</th>\n",
       "      <td>1138369</td>\n",
       "    </tr>\n",
       "    <tr>\n",
       "      <th>Unnamed: 6</th>\n",
       "      <td>623062</td>\n",
       "    </tr>\n",
       "  </tbody>\n",
       "</table>\n",
       "</div>"
      ],
      "text/plain": [
       "                내국인\n",
       "Unnamed: 6  1104438\n",
       "Unnamed: 6   599575\n",
       "Unnamed: 6   477176\n",
       "Unnamed: 6   541099\n",
       "Unnamed: 6   765616\n",
       "Unnamed: 6   860528\n",
       "Unnamed: 6   988094\n",
       "Unnamed: 6  1127097\n",
       "Unnamed: 6   726169\n",
       "Unnamed: 6  1072455\n",
       "Unnamed: 6  1138369\n",
       "Unnamed: 6   623062"
      ]
     },
     "execution_count": 39,
     "metadata": {},
     "output_type": "execute_result"
    }
   ],
   "source": [
    "# 컬럼명 변환\n",
    "tl_l_211.columns=['내국인']\n",
    "tl_l_211"
   ]
  },
  {
   "cell_type": "code",
   "execution_count": 40,
   "metadata": {},
   "outputs": [],
   "source": [
    "# 인덱스명 변환\n",
    "tl_l_211.index = [\"1월\",\"2월\",\"3월\",\"4월\",\"5월\",\"6월\",\"7월\",\"8월\",\"9월\",\"10월\",\"11월\",\"12월\"]"
   ]
  },
  {
   "cell_type": "code",
   "execution_count": 41,
   "metadata": {},
   "outputs": [
    {
     "data": {
      "text/html": [
       "<div>\n",
       "<style scoped>\n",
       "    .dataframe tbody tr th:only-of-type {\n",
       "        vertical-align: middle;\n",
       "    }\n",
       "\n",
       "    .dataframe tbody tr th {\n",
       "        vertical-align: top;\n",
       "    }\n",
       "\n",
       "    .dataframe thead th {\n",
       "        text-align: right;\n",
       "    }\n",
       "</style>\n",
       "<table border=\"1\" class=\"dataframe\">\n",
       "  <thead>\n",
       "    <tr style=\"text-align: right;\">\n",
       "      <th></th>\n",
       "      <th>내국인</th>\n",
       "    </tr>\n",
       "  </thead>\n",
       "  <tbody>\n",
       "    <tr>\n",
       "      <th>1월</th>\n",
       "      <td>1104438</td>\n",
       "    </tr>\n",
       "    <tr>\n",
       "      <th>2월</th>\n",
       "      <td>599575</td>\n",
       "    </tr>\n",
       "    <tr>\n",
       "      <th>3월</th>\n",
       "      <td>477176</td>\n",
       "    </tr>\n",
       "    <tr>\n",
       "      <th>4월</th>\n",
       "      <td>541099</td>\n",
       "    </tr>\n",
       "    <tr>\n",
       "      <th>5월</th>\n",
       "      <td>765616</td>\n",
       "    </tr>\n",
       "    <tr>\n",
       "      <th>6월</th>\n",
       "      <td>860528</td>\n",
       "    </tr>\n",
       "    <tr>\n",
       "      <th>7월</th>\n",
       "      <td>988094</td>\n",
       "    </tr>\n",
       "    <tr>\n",
       "      <th>8월</th>\n",
       "      <td>1127097</td>\n",
       "    </tr>\n",
       "    <tr>\n",
       "      <th>9월</th>\n",
       "      <td>726169</td>\n",
       "    </tr>\n",
       "    <tr>\n",
       "      <th>10월</th>\n",
       "      <td>1072455</td>\n",
       "    </tr>\n",
       "    <tr>\n",
       "      <th>11월</th>\n",
       "      <td>1138369</td>\n",
       "    </tr>\n",
       "    <tr>\n",
       "      <th>12월</th>\n",
       "      <td>623062</td>\n",
       "    </tr>\n",
       "  </tbody>\n",
       "</table>\n",
       "</div>"
      ],
      "text/plain": [
       "         내국인\n",
       "1월   1104438\n",
       "2월    599575\n",
       "3월    477176\n",
       "4월    541099\n",
       "5월    765616\n",
       "6월    860528\n",
       "7월    988094\n",
       "8월   1127097\n",
       "9월    726169\n",
       "10월  1072455\n",
       "11월  1138369\n",
       "12월   623062"
      ]
     },
     "execution_count": 41,
     "metadata": {},
     "output_type": "execute_result"
    }
   ],
   "source": [
    "tl_l_211"
   ]
  },
  {
   "cell_type": "code",
   "execution_count": 57,
   "metadata": {},
   "outputs": [],
   "source": [
    "# tl_l_211.to_excel('2020년제주도내국인관광객.xlsx')"
   ]
  },
  {
   "cell_type": "code",
   "execution_count": 42,
   "metadata": {},
   "outputs": [
    {
     "data": {
      "text/plain": [
       "Text(0.5, 1.0, '2020년 내국인관광객 월계 입도현황')"
      ]
     },
     "execution_count": 42,
     "metadata": {},
     "output_type": "execute_result"
    },
    {
     "data": {
      "image/png": "[encoded data removed]",
      "text/plain": [
       "<Figure size 640x480 with 1 Axes>"
      ]
     },
     "metadata": {},
     "output_type": "display_data"
    }
   ],
   "source": [
    "# 2021년 내국인관광객 월계 입도현황 바 그래프\n",
    "tl_l_211.plot.bar()\n",
    "plt.xlabel('월')\n",
    "plt.ylabel('내국인 관광객 월계')\n",
    "plt.title('2020년 내국인관광객 월계 입도현황')"
   ]
  },
  {
   "cell_type": "code",
   "execution_count": 53,
   "metadata": {},
   "outputs": [
    {
     "name": "stdout",
     "output_type": "stream",
     "text": [
      "       2020년 1월 관광객입도현황        Unnamed: 1 Unnamed: 2  Unnamed: 3  Unnamed: 4  \\\n",
      "0                 □ 형태별               NaN        NaN         NaN         NaN   \n",
      "1  구                  분               NaN        NaN         NaN         NaN   \n",
      "2  총                  계               NaN        NaN         NaN         NaN   \n",
      "3                   NaN               NaN        NaN         NaN         NaN   \n",
      "4                   내국인  소              계        NaN         NaN         NaN   \n",
      "\n",
      "  Unnamed: 5 Unnamed: 6 Unnamed: 7 Unnamed: 8  \n",
      "0        NaN        NaN        NaN   (단위 : 명)  \n",
      "1        NaN      2020년      2019년     증감율(%)  \n",
      "2         월계    1250046    1130843  10.541074  \n",
      "3         누계    1250046    1130843  10.541074  \n",
      "4         월계    1104438    1024130   7.841583  \n",
      "       2020년 2월 관광객입도현황        Unnamed: 1 Unnamed: 2  Unnamed: 3  Unnamed: 4  \\\n",
      "0                 □ 형태별               NaN        NaN         NaN         NaN   \n",
      "1  구                  분               NaN        NaN         NaN         NaN   \n",
      "2  총                  계               NaN        NaN         NaN         NaN   \n",
      "3                   NaN               NaN        NaN         NaN         NaN   \n",
      "4                   내국인  소              계        NaN         NaN         NaN   \n",
      "\n",
      "  Unnamed: 5 Unnamed: 6 Unnamed: 7 Unnamed: 8  \n",
      "0        NaN        NaN        NaN   (단위 : 명)  \n",
      "1        NaN      2020년      2019년     증감율(%)  \n",
      "2         월계     628804    1110817 -43.392656  \n",
      "3         누계    1878850    2241660 -16.184881  \n",
      "4         월계     599575     998890 -39.975873  \n",
      "       2020년 3월 관광객입도현황        Unnamed: 1 Unnamed: 2  Unnamed: 3  Unnamed: 4  \\\n",
      "0                 □ 형태별               NaN        NaN         NaN         NaN   \n",
      "1  구                  분               NaN        NaN         NaN         NaN   \n",
      "2  총                  계               NaN        NaN         NaN         NaN   \n",
      "3                   NaN               NaN        NaN         NaN         NaN   \n",
      "4                   내국인  소              계        NaN         NaN         NaN   \n",
      "\n",
      "  Unnamed: 5 Unnamed: 6 Unnamed: 7 Unnamed: 8  \n",
      "0        NaN        NaN        NaN   (단위 : 명)  \n",
      "1        NaN      2020년      2019년     증감율(%)  \n",
      "2         월계     480762    1164834 -58.726995  \n",
      "3         누계    2359612    3406494 -30.731949  \n",
      "4         월계     477176    1038223 -54.039161  \n",
      "       2020년 4월 관광객입도현황        Unnamed: 1 Unnamed: 2  Unnamed: 3  Unnamed: 4  \\\n",
      "0                 □ 형태별               NaN        NaN         NaN         NaN   \n",
      "1  구                  분               NaN        NaN         NaN         NaN   \n",
      "2  총                  계               NaN        NaN         NaN         NaN   \n",
      "3                   NaN               NaN        NaN         NaN         NaN   \n",
      "4                   내국인  소              계        NaN         NaN         NaN   \n",
      "\n",
      "  Unnamed: 5 Unnamed: 6 Unnamed: 7 Unnamed: 8  \n",
      "0        NaN        NaN        NaN   (단위 : 명)  \n",
      "1        NaN      2020년      2019년     증감율(%)  \n",
      "2         월계     542258    1298026 -58.224412  \n",
      "3         누계    2901870    4704520 -38.317405  \n",
      "4         월계     541099    1158666 -53.299829  \n",
      "       2020년 5월 관광객입도현황        Unnamed: 1 Unnamed: 2  Unnamed: 3  Unnamed: 4  \\\n",
      "0                 □ 형태별               NaN        NaN         NaN         NaN   \n",
      "1  구                  분               NaN        NaN         NaN         NaN   \n",
      "2  총                  계               NaN        NaN         NaN         NaN   \n",
      "3                   NaN               NaN        NaN         NaN         NaN   \n",
      "4                   내국인  소              계        NaN         NaN         NaN   \n",
      "\n",
      "  Unnamed: 5 Unnamed: 6 Unnamed: 7 Unnamed: 8  \n",
      "0        NaN        NaN        NaN   (단위 : 명)  \n",
      "1        NaN      2020년      2019년     증감율(%)  \n",
      "2         월계     768102    1323866 -41.980382  \n",
      "3         누계    3669972    6028386 -39.121815  \n",
      "4         월계     765616    1176059 -34.899865  \n",
      "       2020년 6월 관광객입도현황        Unnamed: 1 Unnamed: 2  Unnamed: 3  Unnamed: 4  \\\n",
      "0                 □ 형태별               NaN        NaN         NaN         NaN   \n",
      "1  구                  분               NaN        NaN         NaN         NaN   \n",
      "2  총                  계               NaN        NaN         NaN         NaN   \n",
      "3                   NaN               NaN        NaN         NaN         NaN   \n",
      "4                   내국인  소              계        NaN         NaN         NaN   \n",
      "\n",
      "  Unnamed: 5 Unnamed: 6 Unnamed: 7 Unnamed: 8  \n",
      "0        NaN        NaN        NaN   (단위 : 명)  \n",
      "1        NaN      2020년      2019년     증감율(%)  \n",
      "2         월계     863417    1307217 -33.949987  \n",
      "3         누계    4533389    7335603 -38.200186  \n",
      "4         월계     860528    1155020 -25.496701  \n",
      "       2020년 7월 관광객입도현황        Unnamed: 1 Unnamed: 2  Unnamed: 3  Unnamed: 4  \\\n",
      "0                 □ 형태별               NaN        NaN         NaN         NaN   \n",
      "1  구                  분               NaN        NaN         NaN         NaN   \n",
      "2  총                  계               NaN        NaN         NaN         NaN   \n",
      "3                   NaN               NaN        NaN         NaN         NaN   \n",
      "4                   내국인  소              계        NaN         NaN         NaN   \n",
      "\n",
      "  Unnamed: 5 Unnamed: 6 Unnamed: 7 Unnamed: 8  \n",
      "0        NaN        NaN        NaN   (단위 : 명)  \n",
      "1        NaN      2020년      2019년     증감율(%)  \n",
      "2         월계     992476    1310076 -24.242868  \n",
      "3         누계    5525865    8645679  -36.08524  \n",
      "4         월계     988094    1157447 -14.631599  \n",
      "       2020년 8월 관광객입도현황        Unnamed: 1 Unnamed: 2  Unnamed: 3  Unnamed: 4  \\\n",
      "0                 □ 형태별               NaN        NaN         NaN         NaN   \n",
      "1  구                  분               NaN        NaN         NaN         NaN   \n",
      "2  총                  계               NaN        NaN         NaN         NaN   \n",
      "3                   NaN               NaN        NaN         NaN         NaN   \n",
      "4                   내국인  소              계        NaN         NaN         NaN   \n",
      "\n",
      "  Unnamed: 5 Unnamed: 6 Unnamed: 7 Unnamed: 8  \n",
      "0        NaN        NaN        NaN   (단위 : 명)  \n",
      "1        NaN      2020년      2019년     증감율(%)  \n",
      "2         월계    1133095    1421455 -20.286256  \n",
      "3         누계    6658960   10067134 -33.854461  \n",
      "4         월계    1127097    1243132  -9.334085  \n",
      "       2020년 9월 관광객입도현황        Unnamed: 1 Unnamed: 2  Unnamed: 3  Unnamed: 4  \\\n",
      "0                 □ 형태별               NaN        NaN         NaN         NaN   \n",
      "1  구                  분               NaN        NaN         NaN         NaN   \n",
      "2  총                  계               NaN        NaN         NaN         NaN   \n",
      "3                   NaN               NaN        NaN         NaN         NaN   \n",
      "4                   내국인  소              계        NaN         NaN         NaN   \n",
      "\n",
      "  Unnamed: 5 Unnamed: 6 Unnamed: 7 Unnamed: 8  \n",
      "0        NaN        NaN        NaN   (단위 : 명)  \n",
      "1        NaN      2020년      2019년     증감율(%)  \n",
      "2         월계     729677    1181516 -38.242309  \n",
      "3         누계    7388637   11248650 -34.315345  \n",
      "4         월계     726169    1032478 -29.667363  \n",
      "Unnamed: 6    1072455\n",
      "Name: 4, dtype: object\n",
      "Unnamed: 6    1138369\n",
      "Name: 4, dtype: object\n",
      "Unnamed: 6    623062\n",
      "Name: 4, dtype: object\n"
     ]
    }
   ],
   "source": [
    "print(tl_1.head())\n",
    "print(tl_2.head())\n",
    "print(tl_3.head())\n",
    "print(tl_4.head())\n",
    "print(tl_5.head())\n",
    "print(tl_6.head())\n",
    "print(tl_7.head())\n",
    "print(tl_8.head())\n",
    "print(tl_9.head())\n",
    "print(tl_10.head())\n",
    "print(tl_11.head())\n",
    "print(tl_12.head())"
   ]
  },
  {
   "cell_type": "code",
   "execution_count": 55,
   "metadata": {},
   "outputs": [
    {
     "ename": "IndexingError",
     "evalue": "Too many indexers",
     "output_type": "error",
     "traceback": [
      "\u001b[1;31m---------------------------------------------------------------------------\u001b[0m",
      "\u001b[1;31mIndexingError\u001b[0m                             Traceback (most recent call last)",
      "Cell \u001b[1;32mIn[55], line 11\u001b[0m\n\u001b[0;32m      9\u001b[0m tl_08_f \u001b[39m=\u001b[39m tl_8\u001b[39m.\u001b[39mloc[\u001b[39m13\u001b[39m, \u001b[39m\"\u001b[39m\u001b[39mUnnamed: 6\u001b[39m\u001b[39m\"\u001b[39m]\n\u001b[0;32m     10\u001b[0m tl_09_f \u001b[39m=\u001b[39m tl_9\u001b[39m.\u001b[39mloc[\u001b[39m13\u001b[39m, \u001b[39m\"\u001b[39m\u001b[39mUnnamed: 6\u001b[39m\u001b[39m\"\u001b[39m]\n\u001b[1;32m---> 11\u001b[0m tl_10_f \u001b[39m=\u001b[39m tl_10\u001b[39m.\u001b[39;49mloc[\u001b[39m13\u001b[39;49m, \u001b[39m\"\u001b[39;49m\u001b[39mUnnamed: 6\u001b[39;49m\u001b[39m\"\u001b[39;49m]\n\u001b[0;32m     12\u001b[0m tl_11_f \u001b[39m=\u001b[39m tl_11\u001b[39m.\u001b[39mloc[\u001b[39m13\u001b[39m, \u001b[39m\"\u001b[39m\u001b[39mUnnamed: 6\u001b[39m\u001b[39m\"\u001b[39m]\n\u001b[0;32m     13\u001b[0m tl_12_f \u001b[39m=\u001b[39m tl_12\u001b[39m.\u001b[39mloc[\u001b[39m13\u001b[39m, \u001b[39m\"\u001b[39m\u001b[39mUnnamed: 6\u001b[39m\u001b[39m\"\u001b[39m]\n",
      "File \u001b[1;32mc:\\Users\\admin\\AppData\\Local\\anaconda3\\lib\\site-packages\\pandas\\core\\indexing.py:1067\u001b[0m, in \u001b[0;36m_LocationIndexer.__getitem__\u001b[1;34m(self, key)\u001b[0m\n\u001b[0;32m   1065\u001b[0m     \u001b[39mif\u001b[39;00m \u001b[39mself\u001b[39m\u001b[39m.\u001b[39m_is_scalar_access(key):\n\u001b[0;32m   1066\u001b[0m         \u001b[39mreturn\u001b[39;00m \u001b[39mself\u001b[39m\u001b[39m.\u001b[39mobj\u001b[39m.\u001b[39m_get_value(\u001b[39m*\u001b[39mkey, takeable\u001b[39m=\u001b[39m\u001b[39mself\u001b[39m\u001b[39m.\u001b[39m_takeable)\n\u001b[1;32m-> 1067\u001b[0m     \u001b[39mreturn\u001b[39;00m \u001b[39mself\u001b[39;49m\u001b[39m.\u001b[39;49m_getitem_tuple(key)\n\u001b[0;32m   1068\u001b[0m \u001b[39melse\u001b[39;00m:\n\u001b[0;32m   1069\u001b[0m     \u001b[39m# we by definition only have the 0th axis\u001b[39;00m\n\u001b[0;32m   1070\u001b[0m     axis \u001b[39m=\u001b[39m \u001b[39mself\u001b[39m\u001b[39m.\u001b[39maxis \u001b[39mor\u001b[39;00m \u001b[39m0\u001b[39m\n",
      "File \u001b[1;32mc:\\Users\\admin\\AppData\\Local\\anaconda3\\lib\\site-packages\\pandas\\core\\indexing.py:1250\u001b[0m, in \u001b[0;36m_LocIndexer._getitem_tuple\u001b[1;34m(self, tup)\u001b[0m\n\u001b[0;32m   1247\u001b[0m     \u001b[39mreturn\u001b[39;00m \u001b[39mself\u001b[39m\u001b[39m.\u001b[39m_getitem_lowerdim(tup)\n\u001b[0;32m   1249\u001b[0m \u001b[39m# no multi-index, so validate all of the indexers\u001b[39;00m\n\u001b[1;32m-> 1250\u001b[0m tup \u001b[39m=\u001b[39m \u001b[39mself\u001b[39;49m\u001b[39m.\u001b[39;49m_validate_tuple_indexer(tup)\n\u001b[0;32m   1252\u001b[0m \u001b[39m# ugly hack for GH #836\u001b[39;00m\n\u001b[0;32m   1253\u001b[0m \u001b[39mif\u001b[39;00m \u001b[39mself\u001b[39m\u001b[39m.\u001b[39m_multi_take_opportunity(tup):\n",
      "File \u001b[1;32mc:\\Users\\admin\\AppData\\Local\\anaconda3\\lib\\site-packages\\pandas\\core\\indexing.py:869\u001b[0m, in \u001b[0;36m_LocationIndexer._validate_tuple_indexer\u001b[1;34m(self, key)\u001b[0m\n\u001b[0;32m    864\u001b[0m \u001b[39m@final\u001b[39m\n\u001b[0;32m    865\u001b[0m \u001b[39mdef\u001b[39;00m \u001b[39m_validate_tuple_indexer\u001b[39m(\u001b[39mself\u001b[39m, key: \u001b[39mtuple\u001b[39m) \u001b[39m-\u001b[39m\u001b[39m>\u001b[39m \u001b[39mtuple\u001b[39m:\n\u001b[0;32m    866\u001b[0m     \u001b[39m\"\"\"\u001b[39;00m\n\u001b[0;32m    867\u001b[0m \u001b[39m    Check the key for valid keys across my indexer.\u001b[39;00m\n\u001b[0;32m    868\u001b[0m \u001b[39m    \"\"\"\u001b[39;00m\n\u001b[1;32m--> 869\u001b[0m     key \u001b[39m=\u001b[39m \u001b[39mself\u001b[39;49m\u001b[39m.\u001b[39;49m_validate_key_length(key)\n\u001b[0;32m    870\u001b[0m     key \u001b[39m=\u001b[39m \u001b[39mself\u001b[39m\u001b[39m.\u001b[39m_expand_ellipsis(key)\n\u001b[0;32m    871\u001b[0m     \u001b[39mfor\u001b[39;00m i, k \u001b[39min\u001b[39;00m \u001b[39menumerate\u001b[39m(key):\n",
      "File \u001b[1;32mc:\\Users\\admin\\AppData\\Local\\anaconda3\\lib\\site-packages\\pandas\\core\\indexing.py:908\u001b[0m, in \u001b[0;36m_LocationIndexer._validate_key_length\u001b[1;34m(self, key)\u001b[0m\n\u001b[0;32m    906\u001b[0m             \u001b[39mraise\u001b[39;00m IndexingError(_one_ellipsis_message)\n\u001b[0;32m    907\u001b[0m         \u001b[39mreturn\u001b[39;00m \u001b[39mself\u001b[39m\u001b[39m.\u001b[39m_validate_key_length(key)\n\u001b[1;32m--> 908\u001b[0m     \u001b[39mraise\u001b[39;00m IndexingError(\u001b[39m\"\u001b[39m\u001b[39mToo many indexers\u001b[39m\u001b[39m\"\u001b[39m)\n\u001b[0;32m    909\u001b[0m \u001b[39mreturn\u001b[39;00m key\n",
      "\u001b[1;31mIndexingError\u001b[0m: Too many indexers"
     ]
    }
   ],
   "source": [
    "# 제주도 2020년 외국인 관광객 각 월계 입도현황\n",
    "tl_01_f = tl_1.loc[13, \"Unnamed: 6\"]\n",
    "tl_02_f = tl_2.loc[13, \"Unnamed: 6\"]\n",
    "tl_03_f = tl_3.loc[13, \"Unnamed: 6\"]\n",
    "tl_04_f = tl_4.loc[13, \"Unnamed: 6\"]\n",
    "tl_05_f = tl_5.loc[13, \"Unnamed: 6\"]\n",
    "tl_06_f = tl_6.loc[13, \"Unnamed: 6\"]\n",
    "tl_07_f = tl_7.loc[13, \"Unnamed: 6\"]\n",
    "tl_08_f = tl_8.loc[13, \"Unnamed: 6\"]\n",
    "tl_09_f = tl_9.loc[13, \"Unnamed: 6\"]\n",
    "tl_10_f = tl_10.loc[13, \"Unnamed: 6\"]\n",
    "tl_11_f = tl_11.loc[13, \"Unnamed: 6\"]\n",
    "tl_12_f = tl_12.loc[13, \"Unnamed: 6\"]"
   ]
  },
  {
   "cell_type": "code",
   "execution_count": 52,
   "metadata": {},
   "outputs": [
    {
     "ename": "NameError",
     "evalue": "name 'tl_10_f' is not defined",
     "output_type": "error",
     "traceback": [
      "\u001b[1;31m---------------------------------------------------------------------------\u001b[0m",
      "\u001b[1;31mNameError\u001b[0m                                 Traceback (most recent call last)",
      "Cell \u001b[1;32mIn[52], line 2\u001b[0m\n\u001b[0;32m      1\u001b[0m \u001b[39m# 제주도 2021년 외국인 관광객 각 월계 입도현황 concat\u001b[39;00m\n\u001b[1;32m----> 2\u001b[0m tl_f_20 \u001b[39m=\u001b[39m pd\u001b[39m.\u001b[39mconcat([tl_01_f,tl_02_f,tl_03_f,tl_04_f,tl_05_f,tl_06_f,tl_07_f,tl_08_f,tl_09_f,tl_10_f,tl_11_f,tl_12_f])\n\u001b[0;32m      3\u001b[0m tl_f_20\u001b[39m.\u001b[39mto_frame()\n",
      "\u001b[1;31mNameError\u001b[0m: name 'tl_10_f' is not defined"
     ]
    }
   ],
   "source": [
    "# 제주도 2021년 외국인 관광객 각 월계 입도현황 concat\n",
    "tl_f_20 = pd.concat([tl_01_f,tl_02_f,tl_03_f,tl_04_f,tl_05_f,tl_06_f,tl_07_f,tl_08_f,tl_09_f,tl_10_f,tl_11_f,tl_12_f])\n",
    "tl_f_20.to_frame()"
   ]
  },
  {
   "cell_type": "code",
   "execution_count": null,
   "metadata": {},
   "outputs": [],
   "source": [
    "tl_f_211 = tl_f_20.to_frame()"
   ]
  },
  {
   "cell_type": "code",
   "execution_count": null,
   "metadata": {},
   "outputs": [
    {
     "data": {
      "text/html": [
       "<div>\n",
       "<style scoped>\n",
       "    .dataframe tbody tr th:only-of-type {\n",
       "        vertical-align: middle;\n",
       "    }\n",
       "\n",
       "    .dataframe tbody tr th {\n",
       "        vertical-align: top;\n",
       "    }\n",
       "\n",
       "    .dataframe thead th {\n",
       "        text-align: right;\n",
       "    }\n",
       "</style>\n",
       "<table border=\"1\" class=\"dataframe\">\n",
       "  <thead>\n",
       "    <tr style=\"text-align: right;\">\n",
       "      <th></th>\n",
       "      <th>외국인</th>\n",
       "    </tr>\n",
       "  </thead>\n",
       "  <tbody>\n",
       "    <tr>\n",
       "      <th>Unnamed: 6</th>\n",
       "      <td>2344</td>\n",
       "    </tr>\n",
       "    <tr>\n",
       "      <th>Unnamed: 6</th>\n",
       "      <td>3056</td>\n",
       "    </tr>\n",
       "    <tr>\n",
       "      <th>Unnamed: 6</th>\n",
       "      <td>4110</td>\n",
       "    </tr>\n",
       "    <tr>\n",
       "      <th>Unnamed: 6</th>\n",
       "      <td>4102</td>\n",
       "    </tr>\n",
       "    <tr>\n",
       "      <th>Unnamed: 6</th>\n",
       "      <td>4084</td>\n",
       "    </tr>\n",
       "    <tr>\n",
       "      <th>Unnamed: 6</th>\n",
       "      <td>4613</td>\n",
       "    </tr>\n",
       "    <tr>\n",
       "      <th>Unnamed: 6</th>\n",
       "      <td>4627</td>\n",
       "    </tr>\n",
       "    <tr>\n",
       "      <th>Unnamed: 6</th>\n",
       "      <td>4376</td>\n",
       "    </tr>\n",
       "    <tr>\n",
       "      <th>Unnamed: 6</th>\n",
       "      <td>5025</td>\n",
       "    </tr>\n",
       "    <tr>\n",
       "      <th>Unnamed: 6</th>\n",
       "      <td>3939</td>\n",
       "    </tr>\n",
       "  </tbody>\n",
       "</table>\n",
       "</div>"
      ],
      "text/plain": [
       "             외국인\n",
       "Unnamed: 6  2344\n",
       "Unnamed: 6  3056\n",
       "Unnamed: 6  4110\n",
       "Unnamed: 6  4102\n",
       "Unnamed: 6  4084\n",
       "Unnamed: 6  4613\n",
       "Unnamed: 6  4627\n",
       "Unnamed: 6  4376\n",
       "Unnamed: 6  5025\n",
       "Unnamed: 6  3939"
      ]
     },
     "execution_count": 18,
     "metadata": {},
     "output_type": "execute_result"
    }
   ],
   "source": [
    "# 컬럼명 변환\n",
    "tl_f_211.columns=['외국인']\n",
    "tl_f_211"
   ]
  },
  {
   "cell_type": "code",
   "execution_count": 44,
   "metadata": {},
   "outputs": [
    {
     "ename": "NameError",
     "evalue": "name 'tl_f_211' is not defined",
     "output_type": "error",
     "traceback": [
      "\u001b[1;31m---------------------------------------------------------------------------\u001b[0m",
      "\u001b[1;31mNameError\u001b[0m                                 Traceback (most recent call last)",
      "Cell \u001b[1;32mIn[44], line 2\u001b[0m\n\u001b[0;32m      1\u001b[0m \u001b[39m# 인덱스명 변환\u001b[39;00m\n\u001b[1;32m----> 2\u001b[0m tl_f_211\u001b[39m.\u001b[39mindex \u001b[39m=\u001b[39m [\u001b[39m\"\u001b[39m\u001b[39m1월\u001b[39m\u001b[39m\"\u001b[39m,\u001b[39m\"\u001b[39m\u001b[39m2월\u001b[39m\u001b[39m\"\u001b[39m,\u001b[39m\"\u001b[39m\u001b[39m3월\u001b[39m\u001b[39m\"\u001b[39m,\u001b[39m\"\u001b[39m\u001b[39m4월\u001b[39m\u001b[39m\"\u001b[39m,\u001b[39m\"\u001b[39m\u001b[39m5월\u001b[39m\u001b[39m\"\u001b[39m,\u001b[39m\"\u001b[39m\u001b[39m6월\u001b[39m\u001b[39m\"\u001b[39m,\u001b[39m\"\u001b[39m\u001b[39m7월\u001b[39m\u001b[39m\"\u001b[39m,\u001b[39m\"\u001b[39m\u001b[39m8월\u001b[39m\u001b[39m\"\u001b[39m,\u001b[39m\"\u001b[39m\u001b[39m9월\u001b[39m\u001b[39m\"\u001b[39m,\u001b[39m\"\u001b[39m\u001b[39m10월\u001b[39m\u001b[39m\"\u001b[39m,\u001b[39m\"\u001b[39m\u001b[39m11월\u001b[39m\u001b[39m\"\u001b[39m,\u001b[39m\"\u001b[39m\u001b[39m12월\u001b[39m\u001b[39m\"\u001b[39m]\n\u001b[0;32m      3\u001b[0m tl_f_211\n",
      "\u001b[1;31mNameError\u001b[0m: name 'tl_f_211' is not defined"
     ]
    }
   ],
   "source": [
    "# 인덱스명 변환\n",
    "tl_f_211.index = [\"1월\",\"2월\",\"3월\",\"4월\",\"5월\",\"6월\",\"7월\",\"8월\",\"9월\",\"10월\",\"11월\",\"12월\"]\n",
    "tl_f_211"
   ]
  },
  {
   "cell_type": "code",
   "execution_count": null,
   "metadata": {},
   "outputs": [
    {
     "ename": "NameError",
     "evalue": "name 'tl_f_211' is not defined",
     "output_type": "error",
     "traceback": [
      "\u001b[1;31m---------------------------------------------------------------------------\u001b[0m",
      "\u001b[1;31mNameError\u001b[0m                                 Traceback (most recent call last)",
      "Cell \u001b[1;32mIn[12], line 2\u001b[0m\n\u001b[0;32m      1\u001b[0m \u001b[39m# 2021년 외국인관광객 월계 입도현황 바 그래프\u001b[39;00m\n\u001b[1;32m----> 2\u001b[0m tl_f_211\u001b[39m.\u001b[39mplot\u001b[39m.\u001b[39mbar()\n\u001b[0;32m      3\u001b[0m plt\u001b[39m.\u001b[39mxlabel(\u001b[39m'\u001b[39m\u001b[39m월\u001b[39m\u001b[39m'\u001b[39m)\n\u001b[0;32m      4\u001b[0m plt\u001b[39m.\u001b[39mylabel(\u001b[39m'\u001b[39m\u001b[39m외국인 관광객 월계\u001b[39m\u001b[39m'\u001b[39m)\n",
      "\u001b[1;31mNameError\u001b[0m: name 'tl_f_211' is not defined"
     ]
    }
   ],
   "source": [
    "# 2021년 외국인관광객 월계 입도현황 바 그래프\n",
    "tl_f_211.plot.bar()\n",
    "plt.xlabel('월')\n",
    "plt.ylabel('외국인 관광객 월계')\n",
    "plt.title('2020년 외국인 관광객 월계 입도현황')\n",
    "plt.show()"
   ]
  },
  {
   "cell_type": "code",
   "execution_count": null,
   "metadata": {},
   "outputs": [
    {
     "ename": "NameError",
     "evalue": "name 'tl_f_211' is not defined",
     "output_type": "error",
     "traceback": [
      "\u001b[1;31m---------------------------------------------------------------------------\u001b[0m",
      "\u001b[1;31mNameError\u001b[0m                                 Traceback (most recent call last)",
      "Cell \u001b[1;32mIn[13], line 4\u001b[0m\n\u001b[0;32m      1\u001b[0m x1 \u001b[39m=\u001b[39m tl_l_211\u001b[39m.\u001b[39mindex\n\u001b[0;32m      2\u001b[0m y1 \u001b[39m=\u001b[39m tl_l_211\n\u001b[1;32m----> 4\u001b[0m x2 \u001b[39m=\u001b[39m tl_f_211\u001b[39m.\u001b[39mindex\n\u001b[0;32m      5\u001b[0m y2 \u001b[39m=\u001b[39m tl_f_211\n\u001b[0;32m      7\u001b[0m \u001b[39m# 2020년 내국인관광객 월계 입도현황 선 그래프\u001b[39;00m\n",
      "\u001b[1;31mNameError\u001b[0m: name 'tl_f_211' is not defined"
     ]
    }
   ],
   "source": [
    "x1 = tl_l_211.index\n",
    "y1 = tl_l_211\n",
    "\n",
    "x2 = tl_f_211.index\n",
    "y2 = tl_f_211\n",
    "\n",
    "# 2020년 내국인관광객 월계 입도현황 선 그래프\n",
    "fig = plt.figure(figsize=(26,8))\n",
    "fig.suptitle('2020년 내/외국인 관광객 월계 입도현황', fontsize=16)\n",
    "ax1 = fig.add_subplot(1, 2, 1)\n",
    "ax1.plot(x1,y1)\n",
    "ax1.set_title('2020년 내국인 관광객 월계 입도현황')\n",
    "ax1.set_xlabel('월')\n",
    "ax1.set_ylabel('내국인관광객 월계')\n",
    "\n",
    "# 2020년 외국인관광객 월계 입도현황 선 그래프\n",
    "ax2 = fig.add_subplot(1, 2, 2)\n",
    "ax2.plot(x2,y2)\n",
    "ax2.set_title('2020년 외국인 관광객 월계 입도현황')\n",
    "ax2.set_xlabel('월')\n",
    "ax2.set_ylabel('외국인관광객 월계')\n",
    "ax2.set_ylim(0,1200000)"
   ]
  },
  {
   "cell_type": "code",
   "execution_count": null,
   "metadata": {},
   "outputs": [
    {
     "ename": "NameError",
     "evalue": "name 'tl_f_211' is not defined",
     "output_type": "error",
     "traceback": [
      "\u001b[1;31m---------------------------------------------------------------------------\u001b[0m",
      "\u001b[1;31mNameError\u001b[0m                                 Traceback (most recent call last)",
      "Cell \u001b[1;32mIn[14], line 4\u001b[0m\n\u001b[0;32m      1\u001b[0m x1 \u001b[39m=\u001b[39m tl_l_211\u001b[39m.\u001b[39mindex\n\u001b[0;32m      2\u001b[0m y1 \u001b[39m=\u001b[39m tl_l_211\n\u001b[1;32m----> 4\u001b[0m x2 \u001b[39m=\u001b[39m tl_f_211\u001b[39m.\u001b[39mindex\n\u001b[0;32m      5\u001b[0m y2 \u001b[39m=\u001b[39m tl_f_211\n\u001b[0;32m      7\u001b[0m \u001b[39m# 2020년 내국인관광객 월계 입도현황 바 그래프\u001b[39;00m\n",
      "\u001b[1;31mNameError\u001b[0m: name 'tl_f_211' is not defined"
     ]
    }
   ],
   "source": [
    "x1 = tl_l_211.index\n",
    "y1 = tl_l_211\n",
    "\n",
    "x2 = tl_f_211.index\n",
    "y2 = tl_f_211\n",
    "\n",
    "# 2020년 내국인관광객 월계 입도현황 바 그래프\n",
    "fig = plt.figure(figsize=(26,8))\n",
    "fig.suptitle('2020년 내/외국인 관광객 월계 입도현황', fontsize=16)\n",
    "ax1 = fig.add_subplot(1, 2, 1)\n",
    "ax1.plot(x1,y1)\n",
    "ax1.set_title('2020년 내국인 관광객 월계 입도현황')\n",
    "ax1.set_xlabel('월')\n",
    "ax1.set_ylabel('내국인관광객 월계')\n",
    "\n",
    "# 2020년 외국인관광객 월계 입도현황 바 그래프\n",
    "ax2 = fig.add_subplot(1, 2, 2)\n",
    "ax2.plot(x2,y2)\n",
    "ax2.set_title('2020년 외국인 관광객 월계 입도현황')\n",
    "ax2.set_xlabel('월')\n",
    "ax2.set_ylabel('외국인관광객 월계')"
   ]
  },
  {
   "cell_type": "code",
   "execution_count": null,
   "metadata": {},
   "outputs": [
    {
     "ename": "NameError",
     "evalue": "name 'tl_f_211' is not defined",
     "output_type": "error",
     "traceback": [
      "\u001b[1;31m---------------------------------------------------------------------------\u001b[0m",
      "\u001b[1;31mNameError\u001b[0m                                 Traceback (most recent call last)",
      "Cell \u001b[1;32mIn[15], line 1\u001b[0m\n\u001b[1;32m----> 1\u001b[0m result \u001b[39m=\u001b[39m pd\u001b[39m.\u001b[39mconcat([tl_l_211,tl_f_211],axis\u001b[39m=\u001b[39m\u001b[39m1\u001b[39m)\n\u001b[0;32m      2\u001b[0m result\n",
      "\u001b[1;31mNameError\u001b[0m: name 'tl_f_211' is not defined"
     ]
    }
   ],
   "source": [
    "result = pd.concat([tl_l_211,tl_f_211],axis=1)\n",
    "result"
   ]
  },
  {
   "cell_type": "code",
   "execution_count": null,
   "metadata": {},
   "outputs": [
    {
     "ename": "NameError",
     "evalue": "name 'result' is not defined",
     "output_type": "error",
     "traceback": [
      "\u001b[1;31m---------------------------------------------------------------------------\u001b[0m",
      "\u001b[1;31mNameError\u001b[0m                                 Traceback (most recent call last)",
      "Cell \u001b[1;32mIn[16], line 2\u001b[0m\n\u001b[0;32m      1\u001b[0m \u001b[39m# 2020년 내/외국인 관광객 월계 입도현황 바 그래프\u001b[39;00m\n\u001b[1;32m----> 2\u001b[0m result\u001b[39m.\u001b[39mplot\u001b[39m.\u001b[39mbar()\n\u001b[0;32m      3\u001b[0m plt\u001b[39m.\u001b[39mxlabel(\u001b[39m'\u001b[39m\u001b[39m월\u001b[39m\u001b[39m'\u001b[39m)\n\u001b[0;32m      4\u001b[0m plt\u001b[39m.\u001b[39mylabel(\u001b[39m'\u001b[39m\u001b[39m관광객 월계\u001b[39m\u001b[39m'\u001b[39m)\n",
      "\u001b[1;31mNameError\u001b[0m: name 'result' is not defined"
     ]
    }
   ],
   "source": [
    "# 2020년 내/외국인 관광객 월계 입도현황 바 그래프\n",
    "result.plot.bar()\n",
    "plt.xlabel('월')\n",
    "plt.ylabel('관광객 월계')\n",
    "plt.title('2020년 내/외국인 관광객 월계 입도현황')\n",
    "plt.show()"
   ]
  },
  {
   "cell_type": "code",
   "execution_count": null,
   "metadata": {},
   "outputs": [
    {
     "ename": "NameError",
     "evalue": "name 'result' is not defined",
     "output_type": "error",
     "traceback": [
      "\u001b[1;31m---------------------------------------------------------------------------\u001b[0m",
      "\u001b[1;31mNameError\u001b[0m                                 Traceback (most recent call last)",
      "Cell \u001b[1;32mIn[17], line 2\u001b[0m\n\u001b[0;32m      1\u001b[0m \u001b[39m# 2021년 내/외국인 관광객 월계 입도현황 선 그래프\u001b[39;00m\n\u001b[1;32m----> 2\u001b[0m result\u001b[39m.\u001b[39mplot\u001b[39m.\u001b[39mline()\n\u001b[0;32m      3\u001b[0m plt\u001b[39m.\u001b[39mxlabel(\u001b[39m'\u001b[39m\u001b[39m월\u001b[39m\u001b[39m'\u001b[39m)\n\u001b[0;32m      4\u001b[0m plt\u001b[39m.\u001b[39mylabel(\u001b[39m'\u001b[39m\u001b[39m관광객 월계\u001b[39m\u001b[39m'\u001b[39m)\n",
      "\u001b[1;31mNameError\u001b[0m: name 'result' is not defined"
     ]
    }
   ],
   "source": [
    "# 2020년 내/외국인 관광객 월계 입도현황 선 그래프\n",
    "result.plot.line()\n",
    "plt.xlabel('월')\n",
    "plt.ylabel('관광객 월계')\n",
    "plt.title('2020년 내/외국인 관광객 월계 입도현황')\n",
    "plt.show()"
   ]
  },
  {
   "cell_type": "code",
   "execution_count": null,
   "metadata": {},
   "outputs": [],
   "source": []
  },
  {
   "cell_type": "code",
   "execution_count": null,
   "metadata": {},
   "outputs": [],
   "source": []
  }
 ],
 "metadata": {
  "kernelspec": {
   "display_name": "base",
   "language": "python",
   "name": "python3"
  },
  "language_info": {
   "codemirror_mode": {
    "name": "ipython",
    "version": 3
   },
   "file_extension": ".py",
   "mimetype": "text/x-python",
   "name": "python",
   "nbconvert_exporter": "python",
   "pygments_lexer": "ipython3",
   "version": "3.10.9"
  },
  "orig_nbformat": 4
 },
 "nbformat": 4,
 "nbformat_minor": 2
}
