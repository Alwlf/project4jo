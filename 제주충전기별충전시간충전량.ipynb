{
 "cells": [
  {
   "cell_type": "code",
   "execution_count": 1,
   "metadata": {},
   "outputs": [],
   "source": [
    "import pandas as pd\n",
    "import numpy as np\n",
    "import matplotlib.pyplot as plt\n",
    "from matplotlib import rc\n",
    "import seaborn as sns\n",
    "%matplotlib inline\n",
    "\n",
    "rc('font', family='Malgun Gothic')\n",
    "plt.rcParams['axes.unicode_minus'] = False"
   ]
  },
  {
   "cell_type": "code",
   "execution_count": 2,
   "metadata": {},
   "outputs": [
    {
     "ename": "KeyboardInterrupt",
     "evalue": "",
     "output_type": "error",
     "traceback": [
      "\u001b[1;31m---------------------------------------------------------------------------\u001b[0m",
      "\u001b[1;31mKeyboardInterrupt\u001b[0m                         Traceback (most recent call last)",
      "Cell \u001b[1;32mIn[2], line 2\u001b[0m\n\u001b[0;32m      1\u001b[0m jj_20 \u001b[39m=\u001b[39m pd\u001b[39m.\u001b[39mread_excel(\u001b[39m'\u001b[39m\u001b[39m제주20년1월부터12월이상치+주소정리.xlsx\u001b[39m\u001b[39m'\u001b[39m)\n\u001b[1;32m----> 2\u001b[0m jj_21 \u001b[39m=\u001b[39m pd\u001b[39m.\u001b[39;49mread_excel(\u001b[39m'\u001b[39;49m\u001b[39m제주21년1월부터12월이상치+주소정리1.xlsx\u001b[39;49m\u001b[39m'\u001b[39;49m)\n",
      "File \u001b[1;32mc:\\Users\\admin\\AppData\\Local\\anaconda3\\lib\\site-packages\\pandas\\util\\_decorators.py:211\u001b[0m, in \u001b[0;36mdeprecate_kwarg.<locals>._deprecate_kwarg.<locals>.wrapper\u001b[1;34m(*args, **kwargs)\u001b[0m\n\u001b[0;32m    209\u001b[0m     \u001b[39melse\u001b[39;00m:\n\u001b[0;32m    210\u001b[0m         kwargs[new_arg_name] \u001b[39m=\u001b[39m new_arg_value\n\u001b[1;32m--> 211\u001b[0m \u001b[39mreturn\u001b[39;00m func(\u001b[39m*\u001b[39margs, \u001b[39m*\u001b[39m\u001b[39m*\u001b[39mkwargs)\n",
      "File \u001b[1;32mc:\\Users\\admin\\AppData\\Local\\anaconda3\\lib\\site-packages\\pandas\\util\\_decorators.py:331\u001b[0m, in \u001b[0;36mdeprecate_nonkeyword_arguments.<locals>.decorate.<locals>.wrapper\u001b[1;34m(*args, **kwargs)\u001b[0m\n\u001b[0;32m    325\u001b[0m \u001b[39mif\u001b[39;00m \u001b[39mlen\u001b[39m(args) \u001b[39m>\u001b[39m num_allow_args:\n\u001b[0;32m    326\u001b[0m     warnings\u001b[39m.\u001b[39mwarn(\n\u001b[0;32m    327\u001b[0m         msg\u001b[39m.\u001b[39mformat(arguments\u001b[39m=\u001b[39m_format_argument_list(allow_args)),\n\u001b[0;32m    328\u001b[0m         \u001b[39mFutureWarning\u001b[39;00m,\n\u001b[0;32m    329\u001b[0m         stacklevel\u001b[39m=\u001b[39mfind_stack_level(),\n\u001b[0;32m    330\u001b[0m     )\n\u001b[1;32m--> 331\u001b[0m \u001b[39mreturn\u001b[39;00m func(\u001b[39m*\u001b[39margs, \u001b[39m*\u001b[39m\u001b[39m*\u001b[39mkwargs)\n",
      "File \u001b[1;32mc:\\Users\\admin\\AppData\\Local\\anaconda3\\lib\\site-packages\\pandas\\io\\excel\\_base.py:490\u001b[0m, in \u001b[0;36mread_excel\u001b[1;34m(io, sheet_name, header, names, index_col, usecols, squeeze, dtype, engine, converters, true_values, false_values, skiprows, nrows, na_values, keep_default_na, na_filter, verbose, parse_dates, date_parser, thousands, decimal, comment, skipfooter, convert_float, mangle_dupe_cols, storage_options)\u001b[0m\n\u001b[0;32m    484\u001b[0m     \u001b[39mraise\u001b[39;00m \u001b[39mValueError\u001b[39;00m(\n\u001b[0;32m    485\u001b[0m         \u001b[39m\"\u001b[39m\u001b[39mEngine should not be specified when passing \u001b[39m\u001b[39m\"\u001b[39m\n\u001b[0;32m    486\u001b[0m         \u001b[39m\"\u001b[39m\u001b[39man ExcelFile - ExcelFile already has the engine set\u001b[39m\u001b[39m\"\u001b[39m\n\u001b[0;32m    487\u001b[0m     )\n\u001b[0;32m    489\u001b[0m \u001b[39mtry\u001b[39;00m:\n\u001b[1;32m--> 490\u001b[0m     data \u001b[39m=\u001b[39m io\u001b[39m.\u001b[39;49mparse(\n\u001b[0;32m    491\u001b[0m         sheet_name\u001b[39m=\u001b[39;49msheet_name,\n\u001b[0;32m    492\u001b[0m         header\u001b[39m=\u001b[39;49mheader,\n\u001b[0;32m    493\u001b[0m         names\u001b[39m=\u001b[39;49mnames,\n\u001b[0;32m    494\u001b[0m         index_col\u001b[39m=\u001b[39;49mindex_col,\n\u001b[0;32m    495\u001b[0m         usecols\u001b[39m=\u001b[39;49musecols,\n\u001b[0;32m    496\u001b[0m         squeeze\u001b[39m=\u001b[39;49msqueeze,\n\u001b[0;32m    497\u001b[0m         dtype\u001b[39m=\u001b[39;49mdtype,\n\u001b[0;32m    498\u001b[0m         converters\u001b[39m=\u001b[39;49mconverters,\n\u001b[0;32m    499\u001b[0m         true_values\u001b[39m=\u001b[39;49mtrue_values,\n\u001b[0;32m    500\u001b[0m         false_values\u001b[39m=\u001b[39;49mfalse_values,\n\u001b[0;32m    501\u001b[0m         skiprows\u001b[39m=\u001b[39;49mskiprows,\n\u001b[0;32m    502\u001b[0m         nrows\u001b[39m=\u001b[39;49mnrows,\n\u001b[0;32m    503\u001b[0m         na_values\u001b[39m=\u001b[39;49mna_values,\n\u001b[0;32m    504\u001b[0m         keep_default_na\u001b[39m=\u001b[39;49mkeep_default_na,\n\u001b[0;32m    505\u001b[0m         na_filter\u001b[39m=\u001b[39;49mna_filter,\n\u001b[0;32m    506\u001b[0m         verbose\u001b[39m=\u001b[39;49mverbose,\n\u001b[0;32m    507\u001b[0m         parse_dates\u001b[39m=\u001b[39;49mparse_dates,\n\u001b[0;32m    508\u001b[0m         date_parser\u001b[39m=\u001b[39;49mdate_parser,\n\u001b[0;32m    509\u001b[0m         thousands\u001b[39m=\u001b[39;49mthousands,\n\u001b[0;32m    510\u001b[0m         decimal\u001b[39m=\u001b[39;49mdecimal,\n\u001b[0;32m    511\u001b[0m         comment\u001b[39m=\u001b[39;49mcomment,\n\u001b[0;32m    512\u001b[0m         skipfooter\u001b[39m=\u001b[39;49mskipfooter,\n\u001b[0;32m    513\u001b[0m         convert_float\u001b[39m=\u001b[39;49mconvert_float,\n\u001b[0;32m    514\u001b[0m         mangle_dupe_cols\u001b[39m=\u001b[39;49mmangle_dupe_cols,\n\u001b[0;32m    515\u001b[0m     )\n\u001b[0;32m    516\u001b[0m \u001b[39mfinally\u001b[39;00m:\n\u001b[0;32m    517\u001b[0m     \u001b[39m# make sure to close opened file handles\u001b[39;00m\n\u001b[0;32m    518\u001b[0m     \u001b[39mif\u001b[39;00m should_close:\n",
      "File \u001b[1;32mc:\\Users\\admin\\AppData\\Local\\anaconda3\\lib\\site-packages\\pandas\\io\\excel\\_base.py:1734\u001b[0m, in \u001b[0;36mExcelFile.parse\u001b[1;34m(self, sheet_name, header, names, index_col, usecols, squeeze, converters, true_values, false_values, skiprows, nrows, na_values, parse_dates, date_parser, thousands, comment, skipfooter, convert_float, mangle_dupe_cols, **kwds)\u001b[0m\n\u001b[0;32m   1700\u001b[0m \u001b[39mdef\u001b[39;00m \u001b[39mparse\u001b[39m(\n\u001b[0;32m   1701\u001b[0m     \u001b[39mself\u001b[39m,\n\u001b[0;32m   1702\u001b[0m     sheet_name: \u001b[39mstr\u001b[39m \u001b[39m|\u001b[39m \u001b[39mint\u001b[39m \u001b[39m|\u001b[39m \u001b[39mlist\u001b[39m[\u001b[39mint\u001b[39m] \u001b[39m|\u001b[39m \u001b[39mlist\u001b[39m[\u001b[39mstr\u001b[39m] \u001b[39m|\u001b[39m \u001b[39mNone\u001b[39;00m \u001b[39m=\u001b[39m \u001b[39m0\u001b[39m,\n\u001b[1;32m   (...)\u001b[0m\n\u001b[0;32m   1721\u001b[0m     \u001b[39m*\u001b[39m\u001b[39m*\u001b[39mkwds,\n\u001b[0;32m   1722\u001b[0m ) \u001b[39m-\u001b[39m\u001b[39m>\u001b[39m DataFrame \u001b[39m|\u001b[39m \u001b[39mdict\u001b[39m[\u001b[39mstr\u001b[39m, DataFrame] \u001b[39m|\u001b[39m \u001b[39mdict\u001b[39m[\u001b[39mint\u001b[39m, DataFrame]:\n\u001b[0;32m   1723\u001b[0m     \u001b[39m\"\"\"\u001b[39;00m\n\u001b[0;32m   1724\u001b[0m \u001b[39m    Parse specified sheet(s) into a DataFrame.\u001b[39;00m\n\u001b[0;32m   1725\u001b[0m \n\u001b[1;32m   (...)\u001b[0m\n\u001b[0;32m   1732\u001b[0m \u001b[39m        DataFrame from the passed in Excel file.\u001b[39;00m\n\u001b[0;32m   1733\u001b[0m \u001b[39m    \"\"\"\u001b[39;00m\n\u001b[1;32m-> 1734\u001b[0m     \u001b[39mreturn\u001b[39;00m \u001b[39mself\u001b[39m\u001b[39m.\u001b[39m_reader\u001b[39m.\u001b[39mparse(\n\u001b[0;32m   1735\u001b[0m         sheet_name\u001b[39m=\u001b[39msheet_name,\n\u001b[0;32m   1736\u001b[0m         header\u001b[39m=\u001b[39mheader,\n\u001b[0;32m   1737\u001b[0m         names\u001b[39m=\u001b[39mnames,\n\u001b[0;32m   1738\u001b[0m         index_col\u001b[39m=\u001b[39mindex_col,\n\u001b[0;32m   1739\u001b[0m         usecols\u001b[39m=\u001b[39musecols,\n\u001b[0;32m   1740\u001b[0m         squeeze\u001b[39m=\u001b[39msqueeze,\n\u001b[0;32m   1741\u001b[0m         converters\u001b[39m=\u001b[39mconverters,\n\u001b[0;32m   1742\u001b[0m         true_values\u001b[39m=\u001b[39mtrue_values,\n\u001b[0;32m   1743\u001b[0m         false_values\u001b[39m=\u001b[39mfalse_values,\n\u001b[0;32m   1744\u001b[0m         skiprows\u001b[39m=\u001b[39mskiprows,\n\u001b[0;32m   1745\u001b[0m         nrows\u001b[39m=\u001b[39mnrows,\n\u001b[0;32m   1746\u001b[0m         na_values\u001b[39m=\u001b[39mna_values,\n\u001b[0;32m   1747\u001b[0m         parse_dates\u001b[39m=\u001b[39mparse_dates,\n\u001b[0;32m   1748\u001b[0m         date_parser\u001b[39m=\u001b[39mdate_parser,\n\u001b[0;32m   1749\u001b[0m         thousands\u001b[39m=\u001b[39mthousands,\n\u001b[0;32m   1750\u001b[0m         comment\u001b[39m=\u001b[39mcomment,\n\u001b[0;32m   1751\u001b[0m         skipfooter\u001b[39m=\u001b[39mskipfooter,\n\u001b[0;32m   1752\u001b[0m         convert_float\u001b[39m=\u001b[39mconvert_float,\n\u001b[0;32m   1753\u001b[0m         mangle_dupe_cols\u001b[39m=\u001b[39mmangle_dupe_cols,\n\u001b[0;32m   1754\u001b[0m         \u001b[39m*\u001b[39m\u001b[39m*\u001b[39mkwds,\n\u001b[0;32m   1755\u001b[0m     )\n",
      "File \u001b[1;32mc:\\Users\\admin\\AppData\\Local\\anaconda3\\lib\\site-packages\\pandas\\io\\excel\\_base.py:765\u001b[0m, in \u001b[0;36mBaseExcelReader.parse\u001b[1;34m(self, sheet_name, header, names, index_col, usecols, squeeze, dtype, true_values, false_values, skiprows, nrows, na_values, verbose, parse_dates, date_parser, thousands, decimal, comment, skipfooter, convert_float, mangle_dupe_cols, **kwds)\u001b[0m\n\u001b[0;32m    762\u001b[0m     sheet \u001b[39m=\u001b[39m \u001b[39mself\u001b[39m\u001b[39m.\u001b[39mget_sheet_by_index(asheetname)\n\u001b[0;32m    764\u001b[0m file_rows_needed \u001b[39m=\u001b[39m \u001b[39mself\u001b[39m\u001b[39m.\u001b[39m_calc_rows(header, index_col, skiprows, nrows)\n\u001b[1;32m--> 765\u001b[0m data \u001b[39m=\u001b[39m \u001b[39mself\u001b[39;49m\u001b[39m.\u001b[39;49mget_sheet_data(sheet, convert_float, file_rows_needed)\n\u001b[0;32m    766\u001b[0m \u001b[39mif\u001b[39;00m \u001b[39mhasattr\u001b[39m(sheet, \u001b[39m\"\u001b[39m\u001b[39mclose\u001b[39m\u001b[39m\"\u001b[39m):\n\u001b[0;32m    767\u001b[0m     \u001b[39m# pyxlsb opens two TemporaryFiles\u001b[39;00m\n\u001b[0;32m    768\u001b[0m     sheet\u001b[39m.\u001b[39mclose()\n",
      "File \u001b[1;32mc:\\Users\\admin\\AppData\\Local\\anaconda3\\lib\\site-packages\\pandas\\io\\excel\\_openpyxl.py:615\u001b[0m, in \u001b[0;36mOpenpyxlReader.get_sheet_data\u001b[1;34m(self, sheet, convert_float, file_rows_needed)\u001b[0m\n\u001b[0;32m    613\u001b[0m data: \u001b[39mlist\u001b[39m[\u001b[39mlist\u001b[39m[Scalar]] \u001b[39m=\u001b[39m []\n\u001b[0;32m    614\u001b[0m last_row_with_data \u001b[39m=\u001b[39m \u001b[39m-\u001b[39m\u001b[39m1\u001b[39m\n\u001b[1;32m--> 615\u001b[0m \u001b[39mfor\u001b[39;00m row_number, row \u001b[39min\u001b[39;00m \u001b[39menumerate\u001b[39m(sheet\u001b[39m.\u001b[39mrows):\n\u001b[0;32m    616\u001b[0m     converted_row \u001b[39m=\u001b[39m [\u001b[39mself\u001b[39m\u001b[39m.\u001b[39m_convert_cell(cell, convert_float) \u001b[39mfor\u001b[39;00m cell \u001b[39min\u001b[39;00m row]\n\u001b[0;32m    617\u001b[0m     \u001b[39mwhile\u001b[39;00m converted_row \u001b[39mand\u001b[39;00m converted_row[\u001b[39m-\u001b[39m\u001b[39m1\u001b[39m] \u001b[39m==\u001b[39m \u001b[39m\"\u001b[39m\u001b[39m\"\u001b[39m:\n\u001b[0;32m    618\u001b[0m         \u001b[39m# trim trailing empty elements\u001b[39;00m\n",
      "File \u001b[1;32mc:\\Users\\admin\\AppData\\Local\\anaconda3\\lib\\site-packages\\openpyxl\\worksheet\\_read_only.py:79\u001b[0m, in \u001b[0;36mReadOnlyWorksheet._cells_by_row\u001b[1;34m(self, min_col, min_row, max_col, max_row, values_only)\u001b[0m\n\u001b[0;32m     75\u001b[0m src \u001b[39m=\u001b[39m \u001b[39mself\u001b[39m\u001b[39m.\u001b[39m_get_source()\n\u001b[0;32m     76\u001b[0m parser \u001b[39m=\u001b[39m WorkSheetParser(src, \u001b[39mself\u001b[39m\u001b[39m.\u001b[39m_shared_strings,\n\u001b[0;32m     77\u001b[0m                          data_only\u001b[39m=\u001b[39m\u001b[39mself\u001b[39m\u001b[39m.\u001b[39mparent\u001b[39m.\u001b[39mdata_only, epoch\u001b[39m=\u001b[39m\u001b[39mself\u001b[39m\u001b[39m.\u001b[39mparent\u001b[39m.\u001b[39mepoch,\n\u001b[0;32m     78\u001b[0m                          date_formats\u001b[39m=\u001b[39m\u001b[39mself\u001b[39m\u001b[39m.\u001b[39mparent\u001b[39m.\u001b[39m_date_formats)\n\u001b[1;32m---> 79\u001b[0m \u001b[39mfor\u001b[39;00m idx, row \u001b[39min\u001b[39;00m parser\u001b[39m.\u001b[39mparse():\n\u001b[0;32m     80\u001b[0m     \u001b[39mif\u001b[39;00m max_row \u001b[39mis\u001b[39;00m \u001b[39mnot\u001b[39;00m \u001b[39mNone\u001b[39;00m \u001b[39mand\u001b[39;00m idx \u001b[39m>\u001b[39m max_row:\n\u001b[0;32m     81\u001b[0m         \u001b[39mbreak\u001b[39;00m\n",
      "File \u001b[1;32mc:\\Users\\admin\\AppData\\Local\\anaconda3\\lib\\site-packages\\openpyxl\\worksheet\\_reader.py:144\u001b[0m, in \u001b[0;36mparse\u001b[1;34m()\u001b[0m\n",
      "File \u001b[1;32mc:\\Users\\admin\\AppData\\Local\\anaconda3\\lib\\xml\\etree\\ElementTree.py:1255\u001b[0m, in \u001b[0;36miterparse.<locals>.iterator\u001b[1;34m(source)\u001b[0m\n\u001b[0;32m   1253\u001b[0m \u001b[39myield from\u001b[39;00m pullparser\u001b[39m.\u001b[39mread_events()\n\u001b[0;32m   1254\u001b[0m \u001b[39m# load event buffer\u001b[39;00m\n\u001b[1;32m-> 1255\u001b[0m data \u001b[39m=\u001b[39m source\u001b[39m.\u001b[39;49mread(\u001b[39m16\u001b[39;49m \u001b[39m*\u001b[39;49m \u001b[39m1024\u001b[39;49m)\n\u001b[0;32m   1256\u001b[0m \u001b[39mif\u001b[39;00m \u001b[39mnot\u001b[39;00m data:\n\u001b[0;32m   1257\u001b[0m     \u001b[39mbreak\u001b[39;00m\n",
      "File \u001b[1;32mc:\\Users\\admin\\AppData\\Local\\anaconda3\\lib\\zipfile.py:925\u001b[0m, in \u001b[0;36mZipExtFile.read\u001b[1;34m(self, n)\u001b[0m\n\u001b[0;32m    923\u001b[0m \u001b[39mself\u001b[39m\u001b[39m.\u001b[39m_offset \u001b[39m=\u001b[39m \u001b[39m0\u001b[39m\n\u001b[0;32m    924\u001b[0m \u001b[39mwhile\u001b[39;00m n \u001b[39m>\u001b[39m \u001b[39m0\u001b[39m \u001b[39mand\u001b[39;00m \u001b[39mnot\u001b[39;00m \u001b[39mself\u001b[39m\u001b[39m.\u001b[39m_eof:\n\u001b[1;32m--> 925\u001b[0m     data \u001b[39m=\u001b[39m \u001b[39mself\u001b[39;49m\u001b[39m.\u001b[39;49m_read1(n)\n\u001b[0;32m    926\u001b[0m     \u001b[39mif\u001b[39;00m n \u001b[39m<\u001b[39m \u001b[39mlen\u001b[39m(data):\n\u001b[0;32m    927\u001b[0m         \u001b[39mself\u001b[39m\u001b[39m.\u001b[39m_readbuffer \u001b[39m=\u001b[39m data\n",
      "File \u001b[1;32mc:\\Users\\admin\\AppData\\Local\\anaconda3\\lib\\zipfile.py:1001\u001b[0m, in \u001b[0;36mZipExtFile._read1\u001b[1;34m(self, n)\u001b[0m\n\u001b[0;32m    999\u001b[0m \u001b[39melif\u001b[39;00m \u001b[39mself\u001b[39m\u001b[39m.\u001b[39m_compress_type \u001b[39m==\u001b[39m ZIP_DEFLATED:\n\u001b[0;32m   1000\u001b[0m     n \u001b[39m=\u001b[39m \u001b[39mmax\u001b[39m(n, \u001b[39mself\u001b[39m\u001b[39m.\u001b[39mMIN_READ_SIZE)\n\u001b[1;32m-> 1001\u001b[0m     data \u001b[39m=\u001b[39m \u001b[39mself\u001b[39;49m\u001b[39m.\u001b[39;49m_decompressor\u001b[39m.\u001b[39;49mdecompress(data, n)\n\u001b[0;32m   1002\u001b[0m     \u001b[39mself\u001b[39m\u001b[39m.\u001b[39m_eof \u001b[39m=\u001b[39m (\u001b[39mself\u001b[39m\u001b[39m.\u001b[39m_decompressor\u001b[39m.\u001b[39meof \u001b[39mor\u001b[39;00m\n\u001b[0;32m   1003\u001b[0m                  \u001b[39mself\u001b[39m\u001b[39m.\u001b[39m_compress_left \u001b[39m<\u001b[39m\u001b[39m=\u001b[39m \u001b[39m0\u001b[39m \u001b[39mand\u001b[39;00m\n\u001b[0;32m   1004\u001b[0m                  \u001b[39mnot\u001b[39;00m \u001b[39mself\u001b[39m\u001b[39m.\u001b[39m_decompressor\u001b[39m.\u001b[39munconsumed_tail)\n\u001b[0;32m   1005\u001b[0m     \u001b[39mif\u001b[39;00m \u001b[39mself\u001b[39m\u001b[39m.\u001b[39m_eof:\n",
      "\u001b[1;31mKeyboardInterrupt\u001b[0m: "
     ]
    }
   ],
   "source": [
    "jj_20 = pd.read_excel('제주20년1월부터12월이상치+주소정리.xlsx')\n",
    "jj_21 = pd.read_excel('제주21년1월부터12월이상치+주소정리1.xlsx')"
   ]
  },
  {
   "cell_type": "code",
   "execution_count": null,
   "metadata": {},
   "outputs": [],
   "source": [
    "jj_2020 = pd.read_excel('제주20년1월부터12월이상치+주소정리.xlsx')\n",
    "jj_2021 = pd.read_excel('제주21년1월부터12월이상치+주소정리1.xlsx')"
   ]
  },
  {
   "cell_type": "code",
   "execution_count": null,
   "metadata": {},
   "outputs": [
    {
     "ename": "NameError",
     "evalue": "name 'jj_2021' is not defined",
     "output_type": "error",
     "traceback": [
      "\u001b[1;31m---------------------------------------------------------------------------\u001b[0m",
      "\u001b[1;31mNameError\u001b[0m                                 Traceback (most recent call last)",
      "Cell \u001b[1;32mIn[1], line 1\u001b[0m\n\u001b[1;32m----> 1\u001b[0m jj_2021\n",
      "\u001b[1;31mNameError\u001b[0m: name 'jj_2021' is not defined"
     ]
    }
   ],
   "source": [
    "jj_2021"
   ]
  },
  {
   "cell_type": "code",
   "execution_count": null,
   "metadata": {},
   "outputs": [
    {
     "data": {
      "text/html": [
       "<div>\n",
       "<style scoped>\n",
       "    .dataframe tbody tr th:only-of-type {\n",
       "        vertical-align: middle;\n",
       "    }\n",
       "\n",
       "    .dataframe tbody tr th {\n",
       "        vertical-align: top;\n",
       "    }\n",
       "\n",
       "    .dataframe thead th {\n",
       "        text-align: right;\n",
       "    }\n",
       "</style>\n",
       "<table border=\"1\" class=\"dataframe\">\n",
       "  <thead>\n",
       "    <tr style=\"text-align: right;\">\n",
       "      <th></th>\n",
       "      <th>Unnamed: 0</th>\n",
       "      <th>본부</th>\n",
       "      <th>사업소</th>\n",
       "      <th>충전소명</th>\n",
       "      <th>충전기</th>\n",
       "      <th>충전기ID</th>\n",
       "      <th>주소</th>\n",
       "      <th>충전기구분</th>\n",
       "      <th>충전용량</th>\n",
       "      <th>충전량</th>\n",
       "      <th>충전시간</th>\n",
       "      <th>충전분</th>\n",
       "      <th>충전종료일자</th>\n",
       "      <th>충전시작시각</th>\n",
       "      <th>충전종료시각</th>\n",
       "      <th>시</th>\n",
       "      <th>구</th>\n",
       "      <th>도로명주소</th>\n",
       "      <th>month</th>\n",
       "    </tr>\n",
       "  </thead>\n",
       "  <tbody>\n",
       "    <tr>\n",
       "      <th>111725</th>\n",
       "      <td>1219313</td>\n",
       "      <td>제주</td>\n",
       "      <td>서귀포</td>\n",
       "      <td>서귀포혁신LH1단지</td>\n",
       "      <td>급속01</td>\n",
       "      <td>5242</td>\n",
       "      <td>제주특별자치도 서귀포시 서호동 서호남로 92-15</td>\n",
       "      <td>급속</td>\n",
       "      <td>50.0</td>\n",
       "      <td>101.896</td>\n",
       "      <td>7</td>\n",
       "      <td>39</td>\n",
       "      <td>2021-07-19</td>\n",
       "      <td>2021-07-18 22:57:21</td>\n",
       "      <td>2021-07-19 06:36:49</td>\n",
       "      <td>제주특별자치도</td>\n",
       "      <td>서귀포시</td>\n",
       "      <td>서호동 서호남로 92-15</td>\n",
       "      <td>2021-07</td>\n",
       "    </tr>\n",
       "  </tbody>\n",
       "</table>\n",
       "</div>"
      ],
      "text/plain": [
       "        Unnamed: 0  본부  사업소        충전소명   충전기  충전기ID  \\\n",
       "111725     1219313  제주  서귀포  서귀포혁신LH1단지  급속01   5242   \n",
       "\n",
       "                                 주소 충전기구분  충전용량      충전량  충전시간  충전분  \\\n",
       "111725  제주특별자치도 서귀포시 서호동 서호남로 92-15    급속  50.0  101.896     7   39   \n",
       "\n",
       "           충전종료일자               충전시작시각               충전종료시각        시     구  \\\n",
       "111725 2021-07-19  2021-07-18 22:57:21  2021-07-19 06:36:49  제주특별자치도  서귀포시   \n",
       "\n",
       "                 도로명주소    month  \n",
       "111725  서호동 서호남로 92-15  2021-07  "
      ]
     },
     "execution_count": 4,
     "metadata": {},
     "output_type": "execute_result"
    }
   ],
   "source": [
    "jj_21[jj_21['충전량'] > 100]"
   ]
  },
  {
   "cell_type": "code",
   "execution_count": null,
   "metadata": {},
   "outputs": [
    {
     "name": "stdout",
     "output_type": "stream",
     "text": [
      "<class 'pandas.core.frame.DataFrame'>\n",
      "RangeIndex: 248028 entries, 0 to 248027\n",
      "Data columns (total 18 columns):\n",
      " #   Column      Non-Null Count   Dtype  \n",
      "---  ------      --------------   -----  \n",
      " 0   Unnamed: 0  248028 non-null  int64  \n",
      " 1   본부          248028 non-null  object \n",
      " 2   사업소         248028 non-null  object \n",
      " 3   충전소명        248028 non-null  object \n",
      " 4   충전기         248028 non-null  object \n",
      " 5   충전기ID       248028 non-null  int64  \n",
      " 6   주소          248028 non-null  object \n",
      " 7   충전기구분       248028 non-null  object \n",
      " 8   충전용량        245926 non-null  float64\n",
      " 9   충전량         248028 non-null  float64\n",
      " 10  충전시간        248028 non-null  int64  \n",
      " 11  충전분         248028 non-null  int64  \n",
      " 12  충전종료일자      248028 non-null  object \n",
      " 13  충전시작시각      248028 non-null  object \n",
      " 14  충전종료시각      248028 non-null  object \n",
      " 15  시           248028 non-null  object \n",
      " 16  구           248028 non-null  object \n",
      " 17  도로명주소       248028 non-null  object \n",
      "dtypes: float64(2), int64(4), object(12)\n",
      "memory usage: 34.1+ MB\n"
     ]
    }
   ],
   "source": [
    "jj_20.info()"
   ]
  },
  {
   "cell_type": "code",
   "execution_count": null,
   "metadata": {},
   "outputs": [
    {
     "name": "stdout",
     "output_type": "stream",
     "text": [
      "<class 'pandas.core.frame.DataFrame'>\n",
      "RangeIndex: 181589 entries, 0 to 181588\n",
      "Data columns (total 19 columns):\n",
      " #   Column      Non-Null Count   Dtype         \n",
      "---  ------      --------------   -----         \n",
      " 0   Unnamed: 0  181589 non-null  int64         \n",
      " 1   본부          181589 non-null  object        \n",
      " 2   사업소         181589 non-null  object        \n",
      " 3   충전소명        181589 non-null  object        \n",
      " 4   충전기         181589 non-null  object        \n",
      " 5   충전기ID       181589 non-null  int64         \n",
      " 6   주소          181589 non-null  object        \n",
      " 7   충전기구분       181589 non-null  object        \n",
      " 8   충전용량        180417 non-null  float64       \n",
      " 9   충전량         181589 non-null  float64       \n",
      " 10  충전시간        181589 non-null  int64         \n",
      " 11  충전분         181589 non-null  int64         \n",
      " 12  충전종료일자      181589 non-null  datetime64[ns]\n",
      " 13  충전시작시각      181589 non-null  object        \n",
      " 14  충전종료시각      181589 non-null  object        \n",
      " 15  시           181589 non-null  object        \n",
      " 16  구           181589 non-null  object        \n",
      " 17  도로명주소       181589 non-null  object        \n",
      " 18  month       181589 non-null  object        \n",
      "dtypes: datetime64[ns](1), float64(2), int64(4), object(12)\n",
      "memory usage: 26.3+ MB\n"
     ]
    }
   ],
   "source": [
    "jj_21.info()"
   ]
  },
  {
   "cell_type": "code",
   "execution_count": null,
   "metadata": {},
   "outputs": [
    {
     "data": {
      "text/html": [
       "<div>\n",
       "<style scoped>\n",
       "    .dataframe tbody tr th:only-of-type {\n",
       "        vertical-align: middle;\n",
       "    }\n",
       "\n",
       "    .dataframe tbody tr th {\n",
       "        vertical-align: top;\n",
       "    }\n",
       "\n",
       "    .dataframe thead th {\n",
       "        text-align: right;\n",
       "    }\n",
       "</style>\n",
       "<table border=\"1\" class=\"dataframe\">\n",
       "  <thead>\n",
       "    <tr style=\"text-align: right;\">\n",
       "      <th></th>\n",
       "      <th>Unnamed: 0</th>\n",
       "      <th>본부</th>\n",
       "      <th>사업소</th>\n",
       "      <th>충전소명</th>\n",
       "      <th>충전기</th>\n",
       "      <th>충전기ID</th>\n",
       "      <th>주소</th>\n",
       "      <th>충전기구분</th>\n",
       "      <th>충전용량</th>\n",
       "      <th>충전량</th>\n",
       "      <th>충전시간</th>\n",
       "      <th>충전분</th>\n",
       "      <th>충전종료일자</th>\n",
       "      <th>충전시작시각</th>\n",
       "      <th>충전종료시각</th>\n",
       "      <th>시</th>\n",
       "      <th>구</th>\n",
       "      <th>도로명주소</th>\n",
       "      <th>month</th>\n",
       "    </tr>\n",
       "  </thead>\n",
       "  <tbody>\n",
       "    <tr>\n",
       "      <th>0</th>\n",
       "      <td>23</td>\n",
       "      <td>제주</td>\n",
       "      <td>제주직할</td>\n",
       "      <td>아이린4차 아파트</td>\n",
       "      <td>완속01</td>\n",
       "      <td>3558</td>\n",
       "      <td>제주특별자치도 제주시 이도일동 동광로 35</td>\n",
       "      <td>완속</td>\n",
       "      <td>7.0</td>\n",
       "      <td>12.30</td>\n",
       "      <td>1</td>\n",
       "      <td>57</td>\n",
       "      <td>2020-01-01</td>\n",
       "      <td>2020-01-01 20:34:00</td>\n",
       "      <td>2020-01-01 22:31:00</td>\n",
       "      <td>제주특별자치도</td>\n",
       "      <td>제주시</td>\n",
       "      <td>이도일동 동광로 35</td>\n",
       "      <td>NaN</td>\n",
       "    </tr>\n",
       "    <tr>\n",
       "      <th>1</th>\n",
       "      <td>27</td>\n",
       "      <td>제주</td>\n",
       "      <td>제주직할</td>\n",
       "      <td>아라원신 아파트</td>\n",
       "      <td>급속01</td>\n",
       "      <td>3551</td>\n",
       "      <td>제주특별자치도 제주시 아라일동 중앙로 578</td>\n",
       "      <td>급속</td>\n",
       "      <td>50.0</td>\n",
       "      <td>50.37</td>\n",
       "      <td>1</td>\n",
       "      <td>34</td>\n",
       "      <td>2020-01-01</td>\n",
       "      <td>2020-01-01 21:20:00</td>\n",
       "      <td>2020-01-01 22:54:00</td>\n",
       "      <td>제주특별자치도</td>\n",
       "      <td>제주시</td>\n",
       "      <td>아라일동 중앙로 578</td>\n",
       "      <td>NaN</td>\n",
       "    </tr>\n",
       "    <tr>\n",
       "      <th>2</th>\n",
       "      <td>43</td>\n",
       "      <td>제주</td>\n",
       "      <td>제주직할</td>\n",
       "      <td>방선문5차빌리지</td>\n",
       "      <td>완속01</td>\n",
       "      <td>3529</td>\n",
       "      <td>제주특별자치도 제주시 아라일동 아란1길 30</td>\n",
       "      <td>완속</td>\n",
       "      <td>7.0</td>\n",
       "      <td>14.36</td>\n",
       "      <td>2</td>\n",
       "      <td>13</td>\n",
       "      <td>2020-01-01</td>\n",
       "      <td>2020-01-01 20:51:00</td>\n",
       "      <td>2020-01-01 23:05:00</td>\n",
       "      <td>제주특별자치도</td>\n",
       "      <td>제주시</td>\n",
       "      <td>아라일동 아란1길 30</td>\n",
       "      <td>NaN</td>\n",
       "    </tr>\n",
       "    <tr>\n",
       "      <th>3</th>\n",
       "      <td>63</td>\n",
       "      <td>제주</td>\n",
       "      <td>제주직할</td>\n",
       "      <td>종합경기장</td>\n",
       "      <td>급속01</td>\n",
       "      <td>628</td>\n",
       "      <td>제주특별자치도 제주시 서광로2길 24 (오라일동)</td>\n",
       "      <td>급속</td>\n",
       "      <td>50.0</td>\n",
       "      <td>11.03</td>\n",
       "      <td>0</td>\n",
       "      <td>24</td>\n",
       "      <td>2020-01-01</td>\n",
       "      <td>2020-01-01 21:40:00</td>\n",
       "      <td>2020-01-01 22:05:00</td>\n",
       "      <td>제주특별자치도</td>\n",
       "      <td>제주시</td>\n",
       "      <td>서광로2길 24 (오라일동)</td>\n",
       "      <td>NaN</td>\n",
       "    </tr>\n",
       "    <tr>\n",
       "      <th>4</th>\n",
       "      <td>65</td>\n",
       "      <td>제주</td>\n",
       "      <td>제주직할</td>\n",
       "      <td>노형2차부영 아파트</td>\n",
       "      <td>완속02</td>\n",
       "      <td>3516</td>\n",
       "      <td>제주특별자치도 제주시 노형동 754-4</td>\n",
       "      <td>완속</td>\n",
       "      <td>7.0</td>\n",
       "      <td>9.44</td>\n",
       "      <td>1</td>\n",
       "      <td>48</td>\n",
       "      <td>2020-01-01</td>\n",
       "      <td>2020-01-01 21:41:00</td>\n",
       "      <td>2020-01-01 23:30:00</td>\n",
       "      <td>제주특별자치도</td>\n",
       "      <td>제주시</td>\n",
       "      <td>노형동 754-4</td>\n",
       "      <td>NaN</td>\n",
       "    </tr>\n",
       "    <tr>\n",
       "      <th>...</th>\n",
       "      <td>...</td>\n",
       "      <td>...</td>\n",
       "      <td>...</td>\n",
       "      <td>...</td>\n",
       "      <td>...</td>\n",
       "      <td>...</td>\n",
       "      <td>...</td>\n",
       "      <td>...</td>\n",
       "      <td>...</td>\n",
       "      <td>...</td>\n",
       "      <td>...</td>\n",
       "      <td>...</td>\n",
       "      <td>...</td>\n",
       "      <td>...</td>\n",
       "      <td>...</td>\n",
       "      <td>...</td>\n",
       "      <td>...</td>\n",
       "      <td>...</td>\n",
       "      <td>...</td>\n",
       "    </tr>\n",
       "    <tr>\n",
       "      <th>181584</th>\n",
       "      <td>2097129</td>\n",
       "      <td>제주</td>\n",
       "      <td>제주직할</td>\n",
       "      <td>노형아이파크</td>\n",
       "      <td>완속02</td>\n",
       "      <td>3519</td>\n",
       "      <td>제주특별자치도 제주시 노형동 원노형로 90</td>\n",
       "      <td>완속</td>\n",
       "      <td>7.0</td>\n",
       "      <td>18.90</td>\n",
       "      <td>3</td>\n",
       "      <td>7</td>\n",
       "      <td>2021-10-17 00:00:00</td>\n",
       "      <td>2021-10-16 22:08:32</td>\n",
       "      <td>2021-10-17 01:15:58</td>\n",
       "      <td>제주특별자치도</td>\n",
       "      <td>제주시</td>\n",
       "      <td>노형동 원노형로 90</td>\n",
       "      <td>2021-10</td>\n",
       "    </tr>\n",
       "    <tr>\n",
       "      <th>181585</th>\n",
       "      <td>2097135</td>\n",
       "      <td>제주</td>\n",
       "      <td>서귀포</td>\n",
       "      <td>중문메리디안</td>\n",
       "      <td>완속02</td>\n",
       "      <td>5849</td>\n",
       "      <td>제주특별자치도 서귀포시 중문동 1100로 36</td>\n",
       "      <td>완속</td>\n",
       "      <td>7.0</td>\n",
       "      <td>26.79</td>\n",
       "      <td>4</td>\n",
       "      <td>31</td>\n",
       "      <td>2021-10-17 00:00:00</td>\n",
       "      <td>2021-10-16 21:35:11</td>\n",
       "      <td>2021-10-17 02:06:26</td>\n",
       "      <td>제주특별자치도</td>\n",
       "      <td>서귀포시</td>\n",
       "      <td>중문동 1100로 36</td>\n",
       "      <td>2021-10</td>\n",
       "    </tr>\n",
       "    <tr>\n",
       "      <th>181586</th>\n",
       "      <td>2097137</td>\n",
       "      <td>제주</td>\n",
       "      <td>제주직할</td>\n",
       "      <td>노형지구중흥S클래스 아파트</td>\n",
       "      <td>완속02</td>\n",
       "      <td>3522</td>\n",
       "      <td>제주특별자치도 제주시 노형동 광평동로 66</td>\n",
       "      <td>완속</td>\n",
       "      <td>7.0</td>\n",
       "      <td>32.33</td>\n",
       "      <td>5</td>\n",
       "      <td>54</td>\n",
       "      <td>2021-10-17 00:00:00</td>\n",
       "      <td>2021-10-16 21:05:09</td>\n",
       "      <td>2021-10-17 03:00:06</td>\n",
       "      <td>제주특별자치도</td>\n",
       "      <td>제주시</td>\n",
       "      <td>노형동 광평동로 66</td>\n",
       "      <td>2021-10</td>\n",
       "    </tr>\n",
       "    <tr>\n",
       "      <th>181587</th>\n",
       "      <td>2097143</td>\n",
       "      <td>제주</td>\n",
       "      <td>제주직할</td>\n",
       "      <td>제주으뜸마을LH 아파트</td>\n",
       "      <td>급속01</td>\n",
       "      <td>3610</td>\n",
       "      <td>제주특별자치도 제주시 노형동 진군1길 3</td>\n",
       "      <td>급속</td>\n",
       "      <td>50.0</td>\n",
       "      <td>16.88</td>\n",
       "      <td>0</td>\n",
       "      <td>29</td>\n",
       "      <td>2021-10-17 00:00:00</td>\n",
       "      <td>2021-10-17 12:22:40</td>\n",
       "      <td>2021-10-17 12:51:44</td>\n",
       "      <td>제주특별자치도</td>\n",
       "      <td>제주시</td>\n",
       "      <td>노형동 진군1길 3</td>\n",
       "      <td>2021-10</td>\n",
       "    </tr>\n",
       "    <tr>\n",
       "      <th>181588</th>\n",
       "      <td>2097146</td>\n",
       "      <td>제주</td>\n",
       "      <td>서귀포</td>\n",
       "      <td>서귀포지사</td>\n",
       "      <td>급속02</td>\n",
       "      <td>8819</td>\n",
       "      <td>제주특별자치도 서귀포시 신중로 56</td>\n",
       "      <td>급속</td>\n",
       "      <td>50.0</td>\n",
       "      <td>67.99</td>\n",
       "      <td>2</td>\n",
       "      <td>18</td>\n",
       "      <td>2021-10-17 00:00:00</td>\n",
       "      <td>2021-10-17 18:24:50</td>\n",
       "      <td>2021-10-17 20:43:29</td>\n",
       "      <td>제주특별자치도</td>\n",
       "      <td>서귀포시</td>\n",
       "      <td>신중로 56</td>\n",
       "      <td>2021-10</td>\n",
       "    </tr>\n",
       "  </tbody>\n",
       "</table>\n",
       "<p>429617 rows × 19 columns</p>\n",
       "</div>"
      ],
      "text/plain": [
       "        Unnamed: 0  본부   사업소            충전소명   충전기  충전기ID  \\\n",
       "0               23  제주  제주직할       아이린4차 아파트  완속01   3558   \n",
       "1               27  제주  제주직할        아라원신 아파트  급속01   3551   \n",
       "2               43  제주  제주직할        방선문5차빌리지  완속01   3529   \n",
       "3               63  제주  제주직할           종합경기장  급속01    628   \n",
       "4               65  제주  제주직할      노형2차부영 아파트  완속02   3516   \n",
       "...            ...  ..   ...             ...   ...    ...   \n",
       "181584     2097129  제주  제주직할          노형아이파크  완속02   3519   \n",
       "181585     2097135  제주   서귀포          중문메리디안  완속02   5849   \n",
       "181586     2097137  제주  제주직할  노형지구중흥S클래스 아파트  완속02   3522   \n",
       "181587     2097143  제주  제주직할    제주으뜸마을LH 아파트  급속01   3610   \n",
       "181588     2097146  제주   서귀포           서귀포지사  급속02   8819   \n",
       "\n",
       "                                 주소 충전기구분  충전용량    충전량  충전시간  충전분  \\\n",
       "0           제주특별자치도 제주시 이도일동 동광로 35    완속   7.0  12.30     1   57   \n",
       "1          제주특별자치도 제주시 아라일동 중앙로 578    급속  50.0  50.37     1   34   \n",
       "2          제주특별자치도 제주시 아라일동 아란1길 30    완속   7.0  14.36     2   13   \n",
       "3       제주특별자치도 제주시 서광로2길 24 (오라일동)    급속  50.0  11.03     0   24   \n",
       "4             제주특별자치도 제주시 노형동 754-4    완속   7.0   9.44     1   48   \n",
       "...                             ...   ...   ...    ...   ...  ...   \n",
       "181584      제주특별자치도 제주시 노형동 원노형로 90    완속   7.0  18.90     3    7   \n",
       "181585    제주특별자치도 서귀포시 중문동 1100로 36    완속   7.0  26.79     4   31   \n",
       "181586      제주특별자치도 제주시 노형동 광평동로 66    완속   7.0  32.33     5   54   \n",
       "181587       제주특별자치도 제주시 노형동 진군1길 3    급속  50.0  16.88     0   29   \n",
       "181588          제주특별자치도 서귀포시 신중로 56    급속  50.0  67.99     2   18   \n",
       "\n",
       "                     충전종료일자               충전시작시각               충전종료시각  \\\n",
       "0                2020-01-01  2020-01-01 20:34:00  2020-01-01 22:31:00   \n",
       "1                2020-01-01  2020-01-01 21:20:00  2020-01-01 22:54:00   \n",
       "2                2020-01-01  2020-01-01 20:51:00  2020-01-01 23:05:00   \n",
       "3                2020-01-01  2020-01-01 21:40:00  2020-01-01 22:05:00   \n",
       "4                2020-01-01  2020-01-01 21:41:00  2020-01-01 23:30:00   \n",
       "...                     ...                  ...                  ...   \n",
       "181584  2021-10-17 00:00:00  2021-10-16 22:08:32  2021-10-17 01:15:58   \n",
       "181585  2021-10-17 00:00:00  2021-10-16 21:35:11  2021-10-17 02:06:26   \n",
       "181586  2021-10-17 00:00:00  2021-10-16 21:05:09  2021-10-17 03:00:06   \n",
       "181587  2021-10-17 00:00:00  2021-10-17 12:22:40  2021-10-17 12:51:44   \n",
       "181588  2021-10-17 00:00:00  2021-10-17 18:24:50  2021-10-17 20:43:29   \n",
       "\n",
       "              시     구            도로명주소    month  \n",
       "0       제주특별자치도   제주시      이도일동 동광로 35      NaN  \n",
       "1       제주특별자치도   제주시     아라일동 중앙로 578      NaN  \n",
       "2       제주특별자치도   제주시     아라일동 아란1길 30      NaN  \n",
       "3       제주특별자치도   제주시  서광로2길 24 (오라일동)      NaN  \n",
       "4       제주특별자치도   제주시        노형동 754-4      NaN  \n",
       "...         ...   ...              ...      ...  \n",
       "181584  제주특별자치도   제주시      노형동 원노형로 90  2021-10  \n",
       "181585  제주특별자치도  서귀포시     중문동 1100로 36  2021-10  \n",
       "181586  제주특별자치도   제주시      노형동 광평동로 66  2021-10  \n",
       "181587  제주특별자치도   제주시       노형동 진군1길 3  2021-10  \n",
       "181588  제주특별자치도  서귀포시           신중로 56  2021-10  \n",
       "\n",
       "[429617 rows x 19 columns]"
      ]
     },
     "execution_count": 7,
     "metadata": {},
     "output_type": "execute_result"
    }
   ],
   "source": [
    "jj_20_21 = pd.concat([jj_20, jj_21])\n",
    "jj_20_21"
   ]
  },
  {
   "cell_type": "code",
   "execution_count": null,
   "metadata": {},
   "outputs": [
    {
     "data": {
      "text/plain": [
       "101.896"
      ]
     },
     "execution_count": 8,
     "metadata": {},
     "output_type": "execute_result"
    }
   ],
   "source": [
    "jj_20_21['충전량'].max()"
   ]
  },
  {
   "cell_type": "code",
   "execution_count": null,
   "metadata": {},
   "outputs": [
    {
     "data": {
      "text/plain": [
       "Index(['Unnamed: 0', '본부', '사업소', '충전소명', '충전기', '충전기ID', '주소', '충전기구분',\n",
       "       '충전용량', '충전량', '충전시간', '충전분', '충전종료일자', '충전시작시각', '충전종료시각', '시', '구',\n",
       "       '도로명주소', 'month'],\n",
       "      dtype='object')"
      ]
     },
     "execution_count": 9,
     "metadata": {},
     "output_type": "execute_result"
    }
   ],
   "source": [
    "jj_20_21.columns"
   ]
  },
  {
   "cell_type": "code",
   "execution_count": null,
   "metadata": {},
   "outputs": [],
   "source": [
    "jj_2020 = jj_2020[['충전기구분','충전량', '충전시간', '충전분']]\n",
    "jj_2021 = jj_2021[['충전기구분','충전량', '충전시간', '충전분']]"
   ]
  },
  {
   "cell_type": "code",
   "execution_count": null,
   "metadata": {},
   "outputs": [],
   "source": [
    "jj_2020['총 충전시간(시간+분)'] = jj_2020['충전시간']*60 + jj_2020['충전분']"
   ]
  },
  {
   "cell_type": "code",
   "execution_count": null,
   "metadata": {},
   "outputs": [],
   "source": [
    "jj_2021['총 충전시간(시간+분)'] = jj_2021['충전시간']*60 + jj_2021['충전분']"
   ]
  },
  {
   "cell_type": "code",
   "execution_count": null,
   "metadata": {},
   "outputs": [
    {
     "data": {
      "text/plain": [
       "Index(['충전기구분', '충전량', '충전시간', '충전분', '총 충전시간(시간+분)'], dtype='object')"
      ]
     },
     "execution_count": 49,
     "metadata": {},
     "output_type": "execute_result"
    }
   ],
   "source": [
    "jj_2021.columns"
   ]
  },
  {
   "cell_type": "code",
   "execution_count": null,
   "metadata": {},
   "outputs": [],
   "source": [
    "jj_2020_time = jj_2020[['충전기구분', '충전량', '총 충전시간(시간+분)']]\n",
    "jj_2021_time = jj_2021[['충전기구분', '충전량', '총 충전시간(시간+분)']]"
   ]
  },
  {
   "cell_type": "code",
   "execution_count": null,
   "metadata": {},
   "outputs": [
    {
     "data": {
      "text/html": [
       "<div>\n",
       "<style scoped>\n",
       "    .dataframe tbody tr th:only-of-type {\n",
       "        vertical-align: middle;\n",
       "    }\n",
       "\n",
       "    .dataframe tbody tr th {\n",
       "        vertical-align: top;\n",
       "    }\n",
       "\n",
       "    .dataframe thead th {\n",
       "        text-align: right;\n",
       "    }\n",
       "</style>\n",
       "<table border=\"1\" class=\"dataframe\">\n",
       "  <thead>\n",
       "    <tr style=\"text-align: right;\">\n",
       "      <th></th>\n",
       "      <th>충전기구분</th>\n",
       "      <th>충전량</th>\n",
       "      <th>총 충전시간(시간+분)</th>\n",
       "    </tr>\n",
       "  </thead>\n",
       "  <tbody>\n",
       "    <tr>\n",
       "      <th>157527</th>\n",
       "      <td>급속</td>\n",
       "      <td>0.040</td>\n",
       "      <td>0</td>\n",
       "    </tr>\n",
       "    <tr>\n",
       "      <th>180505</th>\n",
       "      <td>급속</td>\n",
       "      <td>0.152</td>\n",
       "      <td>0</td>\n",
       "    </tr>\n",
       "    <tr>\n",
       "      <th>180486</th>\n",
       "      <td>급속</td>\n",
       "      <td>0.155</td>\n",
       "      <td>0</td>\n",
       "    </tr>\n",
       "    <tr>\n",
       "      <th>224792</th>\n",
       "      <td>급속</td>\n",
       "      <td>0.010</td>\n",
       "      <td>0</td>\n",
       "    </tr>\n",
       "    <tr>\n",
       "      <th>224791</th>\n",
       "      <td>급속</td>\n",
       "      <td>0.010</td>\n",
       "      <td>0</td>\n",
       "    </tr>\n",
       "    <tr>\n",
       "      <th>...</th>\n",
       "      <td>...</td>\n",
       "      <td>...</td>\n",
       "      <td>...</td>\n",
       "    </tr>\n",
       "    <tr>\n",
       "      <th>155903</th>\n",
       "      <td>완속</td>\n",
       "      <td>15.900</td>\n",
       "      <td>4122</td>\n",
       "    </tr>\n",
       "    <tr>\n",
       "      <th>144790</th>\n",
       "      <td>완속</td>\n",
       "      <td>6.990</td>\n",
       "      <td>4382</td>\n",
       "    </tr>\n",
       "    <tr>\n",
       "      <th>16956</th>\n",
       "      <td>급속</td>\n",
       "      <td>29.740</td>\n",
       "      <td>5236</td>\n",
       "    </tr>\n",
       "    <tr>\n",
       "      <th>167878</th>\n",
       "      <td>완속</td>\n",
       "      <td>4.480</td>\n",
       "      <td>5756</td>\n",
       "    </tr>\n",
       "    <tr>\n",
       "      <th>90671</th>\n",
       "      <td>완속</td>\n",
       "      <td>29.050</td>\n",
       "      <td>8378</td>\n",
       "    </tr>\n",
       "  </tbody>\n",
       "</table>\n",
       "<p>248028 rows × 3 columns</p>\n",
       "</div>"
      ],
      "text/plain": [
       "       충전기구분     충전량  총 충전시간(시간+분)\n",
       "157527    급속   0.040             0\n",
       "180505    급속   0.152             0\n",
       "180486    급속   0.155             0\n",
       "224792    급속   0.010             0\n",
       "224791    급속   0.010             0\n",
       "...      ...     ...           ...\n",
       "155903    완속  15.900          4122\n",
       "144790    완속   6.990          4382\n",
       "16956     급속  29.740          5236\n",
       "167878    완속   4.480          5756\n",
       "90671     완속  29.050          8378\n",
       "\n",
       "[248028 rows x 3 columns]"
      ]
     },
     "execution_count": 51,
     "metadata": {},
     "output_type": "execute_result"
    }
   ],
   "source": [
    "jj_2020_time.sort_values('총 충전시간(시간+분)')"
   ]
  },
  {
   "cell_type": "code",
   "execution_count": null,
   "metadata": {},
   "outputs": [
    {
     "data": {
      "text/html": [
       "<div>\n",
       "<style scoped>\n",
       "    .dataframe tbody tr th:only-of-type {\n",
       "        vertical-align: middle;\n",
       "    }\n",
       "\n",
       "    .dataframe tbody tr th {\n",
       "        vertical-align: top;\n",
       "    }\n",
       "\n",
       "    .dataframe thead th {\n",
       "        text-align: right;\n",
       "    }\n",
       "</style>\n",
       "<table border=\"1\" class=\"dataframe\">\n",
       "  <thead>\n",
       "    <tr style=\"text-align: right;\">\n",
       "      <th></th>\n",
       "      <th>충전기구분</th>\n",
       "      <th>충전량</th>\n",
       "      <th>총 충전시간(시간+분)</th>\n",
       "    </tr>\n",
       "  </thead>\n",
       "  <tbody>\n",
       "    <tr>\n",
       "      <th>10119</th>\n",
       "      <td>급속</td>\n",
       "      <td>34.46</td>\n",
       "      <td>-681</td>\n",
       "    </tr>\n",
       "    <tr>\n",
       "      <th>126248</th>\n",
       "      <td>급속</td>\n",
       "      <td>0.07</td>\n",
       "      <td>0</td>\n",
       "    </tr>\n",
       "    <tr>\n",
       "      <th>7783</th>\n",
       "      <td>급속</td>\n",
       "      <td>0.20</td>\n",
       "      <td>0</td>\n",
       "    </tr>\n",
       "    <tr>\n",
       "      <th>75352</th>\n",
       "      <td>급속</td>\n",
       "      <td>0.05</td>\n",
       "      <td>0</td>\n",
       "    </tr>\n",
       "    <tr>\n",
       "      <th>39921</th>\n",
       "      <td>급속</td>\n",
       "      <td>0.15</td>\n",
       "      <td>0</td>\n",
       "    </tr>\n",
       "    <tr>\n",
       "      <th>...</th>\n",
       "      <td>...</td>\n",
       "      <td>...</td>\n",
       "      <td>...</td>\n",
       "    </tr>\n",
       "    <tr>\n",
       "      <th>115714</th>\n",
       "      <td>완속</td>\n",
       "      <td>3.33</td>\n",
       "      <td>2852</td>\n",
       "    </tr>\n",
       "    <tr>\n",
       "      <th>117985</th>\n",
       "      <td>급속</td>\n",
       "      <td>23.89</td>\n",
       "      <td>3329</td>\n",
       "    </tr>\n",
       "    <tr>\n",
       "      <th>129094</th>\n",
       "      <td>완속</td>\n",
       "      <td>35.94</td>\n",
       "      <td>4020</td>\n",
       "    </tr>\n",
       "    <tr>\n",
       "      <th>93965</th>\n",
       "      <td>완속</td>\n",
       "      <td>0.01</td>\n",
       "      <td>4084</td>\n",
       "    </tr>\n",
       "    <tr>\n",
       "      <th>5082</th>\n",
       "      <td>급속</td>\n",
       "      <td>57.00</td>\n",
       "      <td>5631</td>\n",
       "    </tr>\n",
       "  </tbody>\n",
       "</table>\n",
       "<p>181589 rows × 3 columns</p>\n",
       "</div>"
      ],
      "text/plain": [
       "       충전기구분    충전량  총 충전시간(시간+분)\n",
       "10119     급속  34.46          -681\n",
       "126248    급속   0.07             0\n",
       "7783      급속   0.20             0\n",
       "75352     급속   0.05             0\n",
       "39921     급속   0.15             0\n",
       "...      ...    ...           ...\n",
       "115714    완속   3.33          2852\n",
       "117985    급속  23.89          3329\n",
       "129094    완속  35.94          4020\n",
       "93965     완속   0.01          4084\n",
       "5082      급속  57.00          5631\n",
       "\n",
       "[181589 rows x 3 columns]"
      ]
     },
     "execution_count": 52,
     "metadata": {},
     "output_type": "execute_result"
    }
   ],
   "source": [
    "jj_2021_time.sort_values('총 충전시간(시간+분)')"
   ]
  },
  {
   "cell_type": "code",
   "execution_count": null,
   "metadata": {},
   "outputs": [],
   "source": []
  },
  {
   "cell_type": "code",
   "execution_count": null,
   "metadata": {},
   "outputs": [],
   "source": []
  },
  {
   "cell_type": "code",
   "execution_count": null,
   "metadata": {},
   "outputs": [],
   "source": []
  },
  {
   "cell_type": "code",
   "execution_count": null,
   "metadata": {},
   "outputs": [
    {
     "data": {
      "text/html": [
       "<div>\n",
       "<style scoped>\n",
       "    .dataframe tbody tr th:only-of-type {\n",
       "        vertical-align: middle;\n",
       "    }\n",
       "\n",
       "    .dataframe tbody tr th {\n",
       "        vertical-align: top;\n",
       "    }\n",
       "\n",
       "    .dataframe thead th {\n",
       "        text-align: right;\n",
       "    }\n",
       "</style>\n",
       "<table border=\"1\" class=\"dataframe\">\n",
       "  <thead>\n",
       "    <tr style=\"text-align: right;\">\n",
       "      <th></th>\n",
       "      <th>충전기구분</th>\n",
       "      <th>충전량</th>\n",
       "      <th>충전시간</th>\n",
       "      <th>충전분</th>\n",
       "    </tr>\n",
       "  </thead>\n",
       "  <tbody>\n",
       "    <tr>\n",
       "      <th>0</th>\n",
       "      <td>완속</td>\n",
       "      <td>12.30</td>\n",
       "      <td>1</td>\n",
       "      <td>57</td>\n",
       "    </tr>\n",
       "    <tr>\n",
       "      <th>1</th>\n",
       "      <td>급속</td>\n",
       "      <td>50.37</td>\n",
       "      <td>1</td>\n",
       "      <td>34</td>\n",
       "    </tr>\n",
       "    <tr>\n",
       "      <th>2</th>\n",
       "      <td>완속</td>\n",
       "      <td>14.36</td>\n",
       "      <td>2</td>\n",
       "      <td>13</td>\n",
       "    </tr>\n",
       "    <tr>\n",
       "      <th>3</th>\n",
       "      <td>급속</td>\n",
       "      <td>11.03</td>\n",
       "      <td>0</td>\n",
       "      <td>24</td>\n",
       "    </tr>\n",
       "    <tr>\n",
       "      <th>4</th>\n",
       "      <td>완속</td>\n",
       "      <td>9.44</td>\n",
       "      <td>1</td>\n",
       "      <td>48</td>\n",
       "    </tr>\n",
       "    <tr>\n",
       "      <th>...</th>\n",
       "      <td>...</td>\n",
       "      <td>...</td>\n",
       "      <td>...</td>\n",
       "      <td>...</td>\n",
       "    </tr>\n",
       "    <tr>\n",
       "      <th>181584</th>\n",
       "      <td>완속</td>\n",
       "      <td>18.90</td>\n",
       "      <td>3</td>\n",
       "      <td>7</td>\n",
       "    </tr>\n",
       "    <tr>\n",
       "      <th>181585</th>\n",
       "      <td>완속</td>\n",
       "      <td>26.79</td>\n",
       "      <td>4</td>\n",
       "      <td>31</td>\n",
       "    </tr>\n",
       "    <tr>\n",
       "      <th>181586</th>\n",
       "      <td>완속</td>\n",
       "      <td>32.33</td>\n",
       "      <td>5</td>\n",
       "      <td>54</td>\n",
       "    </tr>\n",
       "    <tr>\n",
       "      <th>181587</th>\n",
       "      <td>급속</td>\n",
       "      <td>16.88</td>\n",
       "      <td>0</td>\n",
       "      <td>29</td>\n",
       "    </tr>\n",
       "    <tr>\n",
       "      <th>181588</th>\n",
       "      <td>급속</td>\n",
       "      <td>67.99</td>\n",
       "      <td>2</td>\n",
       "      <td>18</td>\n",
       "    </tr>\n",
       "  </tbody>\n",
       "</table>\n",
       "<p>429617 rows × 4 columns</p>\n",
       "</div>"
      ],
      "text/plain": [
       "       충전기구분    충전량  충전시간  충전분\n",
       "0         완속  12.30     1   57\n",
       "1         급속  50.37     1   34\n",
       "2         완속  14.36     2   13\n",
       "3         급속  11.03     0   24\n",
       "4         완속   9.44     1   48\n",
       "...      ...    ...   ...  ...\n",
       "181584    완속  18.90     3    7\n",
       "181585    완속  26.79     4   31\n",
       "181586    완속  32.33     5   54\n",
       "181587    급속  16.88     0   29\n",
       "181588    급속  67.99     2   18\n",
       "\n",
       "[429617 rows x 4 columns]"
      ]
     },
     "execution_count": 10,
     "metadata": {},
     "output_type": "execute_result"
    }
   ],
   "source": [
    "jj_20_21_c = jj_20_21[['충전기구분','충전량', '충전시간', '충전분']]\n",
    "jj_20_21_c"
   ]
  },
  {
   "cell_type": "code",
   "execution_count": null,
   "metadata": {},
   "outputs": [
    {
     "name": "stderr",
     "output_type": "stream",
     "text": [
      "C:\\Users\\admin\\AppData\\Local\\Temp\\ipykernel_17364\\3128356415.py:1: SettingWithCopyWarning: \n",
      "A value is trying to be set on a copy of a slice from a DataFrame.\n",
      "Try using .loc[row_indexer,col_indexer] = value instead\n",
      "\n",
      "See the caveats in the documentation: https://pandas.pydata.org/pandas-docs/stable/user_guide/indexing.html#returning-a-view-versus-a-copy\n",
      "  jj_20_21_c['총 충전시간(시간+분)'] = jj_20_21_c['충전시간']*60 + jj_20_21_c['충전분']\n"
     ]
    },
    {
     "data": {
      "text/html": [
       "<div>\n",
       "<style scoped>\n",
       "    .dataframe tbody tr th:only-of-type {\n",
       "        vertical-align: middle;\n",
       "    }\n",
       "\n",
       "    .dataframe tbody tr th {\n",
       "        vertical-align: top;\n",
       "    }\n",
       "\n",
       "    .dataframe thead th {\n",
       "        text-align: right;\n",
       "    }\n",
       "</style>\n",
       "<table border=\"1\" class=\"dataframe\">\n",
       "  <thead>\n",
       "    <tr style=\"text-align: right;\">\n",
       "      <th></th>\n",
       "      <th>충전기구분</th>\n",
       "      <th>충전량</th>\n",
       "      <th>충전시간</th>\n",
       "      <th>충전분</th>\n",
       "      <th>총 충전시간(시간+분)</th>\n",
       "    </tr>\n",
       "  </thead>\n",
       "  <tbody>\n",
       "    <tr>\n",
       "      <th>0</th>\n",
       "      <td>완속</td>\n",
       "      <td>12.30</td>\n",
       "      <td>1</td>\n",
       "      <td>57</td>\n",
       "      <td>117</td>\n",
       "    </tr>\n",
       "    <tr>\n",
       "      <th>1</th>\n",
       "      <td>급속</td>\n",
       "      <td>50.37</td>\n",
       "      <td>1</td>\n",
       "      <td>34</td>\n",
       "      <td>94</td>\n",
       "    </tr>\n",
       "    <tr>\n",
       "      <th>2</th>\n",
       "      <td>완속</td>\n",
       "      <td>14.36</td>\n",
       "      <td>2</td>\n",
       "      <td>13</td>\n",
       "      <td>133</td>\n",
       "    </tr>\n",
       "    <tr>\n",
       "      <th>3</th>\n",
       "      <td>급속</td>\n",
       "      <td>11.03</td>\n",
       "      <td>0</td>\n",
       "      <td>24</td>\n",
       "      <td>24</td>\n",
       "    </tr>\n",
       "    <tr>\n",
       "      <th>4</th>\n",
       "      <td>완속</td>\n",
       "      <td>9.44</td>\n",
       "      <td>1</td>\n",
       "      <td>48</td>\n",
       "      <td>108</td>\n",
       "    </tr>\n",
       "    <tr>\n",
       "      <th>...</th>\n",
       "      <td>...</td>\n",
       "      <td>...</td>\n",
       "      <td>...</td>\n",
       "      <td>...</td>\n",
       "      <td>...</td>\n",
       "    </tr>\n",
       "    <tr>\n",
       "      <th>181584</th>\n",
       "      <td>완속</td>\n",
       "      <td>18.90</td>\n",
       "      <td>3</td>\n",
       "      <td>7</td>\n",
       "      <td>187</td>\n",
       "    </tr>\n",
       "    <tr>\n",
       "      <th>181585</th>\n",
       "      <td>완속</td>\n",
       "      <td>26.79</td>\n",
       "      <td>4</td>\n",
       "      <td>31</td>\n",
       "      <td>271</td>\n",
       "    </tr>\n",
       "    <tr>\n",
       "      <th>181586</th>\n",
       "      <td>완속</td>\n",
       "      <td>32.33</td>\n",
       "      <td>5</td>\n",
       "      <td>54</td>\n",
       "      <td>354</td>\n",
       "    </tr>\n",
       "    <tr>\n",
       "      <th>181587</th>\n",
       "      <td>급속</td>\n",
       "      <td>16.88</td>\n",
       "      <td>0</td>\n",
       "      <td>29</td>\n",
       "      <td>29</td>\n",
       "    </tr>\n",
       "    <tr>\n",
       "      <th>181588</th>\n",
       "      <td>급속</td>\n",
       "      <td>67.99</td>\n",
       "      <td>2</td>\n",
       "      <td>18</td>\n",
       "      <td>138</td>\n",
       "    </tr>\n",
       "  </tbody>\n",
       "</table>\n",
       "<p>429617 rows × 5 columns</p>\n",
       "</div>"
      ],
      "text/plain": [
       "       충전기구분    충전량  충전시간  충전분  총 충전시간(시간+분)\n",
       "0         완속  12.30     1   57           117\n",
       "1         급속  50.37     1   34            94\n",
       "2         완속  14.36     2   13           133\n",
       "3         급속  11.03     0   24            24\n",
       "4         완속   9.44     1   48           108\n",
       "...      ...    ...   ...  ...           ...\n",
       "181584    완속  18.90     3    7           187\n",
       "181585    완속  26.79     4   31           271\n",
       "181586    완속  32.33     5   54           354\n",
       "181587    급속  16.88     0   29            29\n",
       "181588    급속  67.99     2   18           138\n",
       "\n",
       "[429617 rows x 5 columns]"
      ]
     },
     "execution_count": 11,
     "metadata": {},
     "output_type": "execute_result"
    }
   ],
   "source": [
    "jj_20_21_c['총 충전시간(시간+분)'] = jj_20_21_c['충전시간']*60 + jj_20_21_c['충전분']\n",
    "jj_20_21_c"
   ]
  },
  {
   "cell_type": "code",
   "execution_count": null,
   "metadata": {},
   "outputs": [
    {
     "data": {
      "text/plain": [
       "Index(['충전기구분', '충전량', '충전시간', '충전분', '총 충전시간(시간+분)'], dtype='object')"
      ]
     },
     "execution_count": 12,
     "metadata": {},
     "output_type": "execute_result"
    }
   ],
   "source": [
    "jj_20_21_c.columns"
   ]
  },
  {
   "cell_type": "code",
   "execution_count": null,
   "metadata": {},
   "outputs": [
    {
     "data": {
      "text/html": [
       "<div>\n",
       "<style scoped>\n",
       "    .dataframe tbody tr th:only-of-type {\n",
       "        vertical-align: middle;\n",
       "    }\n",
       "\n",
       "    .dataframe tbody tr th {\n",
       "        vertical-align: top;\n",
       "    }\n",
       "\n",
       "    .dataframe thead th {\n",
       "        text-align: right;\n",
       "    }\n",
       "</style>\n",
       "<table border=\"1\" class=\"dataframe\">\n",
       "  <thead>\n",
       "    <tr style=\"text-align: right;\">\n",
       "      <th></th>\n",
       "      <th>충전기구분</th>\n",
       "      <th>충전량</th>\n",
       "      <th>총 충전시간(시간+분)</th>\n",
       "    </tr>\n",
       "  </thead>\n",
       "  <tbody>\n",
       "    <tr>\n",
       "      <th>0</th>\n",
       "      <td>완속</td>\n",
       "      <td>12.30</td>\n",
       "      <td>117</td>\n",
       "    </tr>\n",
       "    <tr>\n",
       "      <th>1</th>\n",
       "      <td>급속</td>\n",
       "      <td>50.37</td>\n",
       "      <td>94</td>\n",
       "    </tr>\n",
       "    <tr>\n",
       "      <th>2</th>\n",
       "      <td>완속</td>\n",
       "      <td>14.36</td>\n",
       "      <td>133</td>\n",
       "    </tr>\n",
       "    <tr>\n",
       "      <th>3</th>\n",
       "      <td>급속</td>\n",
       "      <td>11.03</td>\n",
       "      <td>24</td>\n",
       "    </tr>\n",
       "    <tr>\n",
       "      <th>4</th>\n",
       "      <td>완속</td>\n",
       "      <td>9.44</td>\n",
       "      <td>108</td>\n",
       "    </tr>\n",
       "    <tr>\n",
       "      <th>...</th>\n",
       "      <td>...</td>\n",
       "      <td>...</td>\n",
       "      <td>...</td>\n",
       "    </tr>\n",
       "    <tr>\n",
       "      <th>181584</th>\n",
       "      <td>완속</td>\n",
       "      <td>18.90</td>\n",
       "      <td>187</td>\n",
       "    </tr>\n",
       "    <tr>\n",
       "      <th>181585</th>\n",
       "      <td>완속</td>\n",
       "      <td>26.79</td>\n",
       "      <td>271</td>\n",
       "    </tr>\n",
       "    <tr>\n",
       "      <th>181586</th>\n",
       "      <td>완속</td>\n",
       "      <td>32.33</td>\n",
       "      <td>354</td>\n",
       "    </tr>\n",
       "    <tr>\n",
       "      <th>181587</th>\n",
       "      <td>급속</td>\n",
       "      <td>16.88</td>\n",
       "      <td>29</td>\n",
       "    </tr>\n",
       "    <tr>\n",
       "      <th>181588</th>\n",
       "      <td>급속</td>\n",
       "      <td>67.99</td>\n",
       "      <td>138</td>\n",
       "    </tr>\n",
       "  </tbody>\n",
       "</table>\n",
       "<p>429617 rows × 3 columns</p>\n",
       "</div>"
      ],
      "text/plain": [
       "       충전기구분    충전량  총 충전시간(시간+분)\n",
       "0         완속  12.30           117\n",
       "1         급속  50.37            94\n",
       "2         완속  14.36           133\n",
       "3         급속  11.03            24\n",
       "4         완속   9.44           108\n",
       "...      ...    ...           ...\n",
       "181584    완속  18.90           187\n",
       "181585    완속  26.79           271\n",
       "181586    완속  32.33           354\n",
       "181587    급속  16.88            29\n",
       "181588    급속  67.99           138\n",
       "\n",
       "[429617 rows x 3 columns]"
      ]
     },
     "execution_count": 13,
     "metadata": {},
     "output_type": "execute_result"
    }
   ],
   "source": [
    "jj_20_21_ct = jj_20_21_c[['충전기구분', '충전량', '총 충전시간(시간+분)']]\n",
    "jj_20_21_ct"
   ]
  },
  {
   "cell_type": "code",
   "execution_count": null,
   "metadata": {},
   "outputs": [
    {
     "data": {
      "text/html": [
       "<div>\n",
       "<style scoped>\n",
       "    .dataframe tbody tr th:only-of-type {\n",
       "        vertical-align: middle;\n",
       "    }\n",
       "\n",
       "    .dataframe tbody tr th {\n",
       "        vertical-align: top;\n",
       "    }\n",
       "\n",
       "    .dataframe thead th {\n",
       "        text-align: right;\n",
       "    }\n",
       "</style>\n",
       "<table border=\"1\" class=\"dataframe\">\n",
       "  <thead>\n",
       "    <tr style=\"text-align: right;\">\n",
       "      <th></th>\n",
       "      <th>충전기구분</th>\n",
       "      <th>충전량</th>\n",
       "      <th>총 충전시간(시간+분)</th>\n",
       "    </tr>\n",
       "  </thead>\n",
       "  <tbody>\n",
       "    <tr>\n",
       "      <th>10119</th>\n",
       "      <td>급속</td>\n",
       "      <td>34.46</td>\n",
       "      <td>-681</td>\n",
       "    </tr>\n",
       "    <tr>\n",
       "      <th>82805</th>\n",
       "      <td>급속</td>\n",
       "      <td>0.01</td>\n",
       "      <td>0</td>\n",
       "    </tr>\n",
       "    <tr>\n",
       "      <th>102884</th>\n",
       "      <td>급속</td>\n",
       "      <td>0.20</td>\n",
       "      <td>0</td>\n",
       "    </tr>\n",
       "    <tr>\n",
       "      <th>60919</th>\n",
       "      <td>급속</td>\n",
       "      <td>0.04</td>\n",
       "      <td>0</td>\n",
       "    </tr>\n",
       "    <tr>\n",
       "      <th>19793</th>\n",
       "      <td>급속</td>\n",
       "      <td>0.03</td>\n",
       "      <td>0</td>\n",
       "    </tr>\n",
       "    <tr>\n",
       "      <th>...</th>\n",
       "      <td>...</td>\n",
       "      <td>...</td>\n",
       "      <td>...</td>\n",
       "    </tr>\n",
       "    <tr>\n",
       "      <th>144790</th>\n",
       "      <td>완속</td>\n",
       "      <td>6.99</td>\n",
       "      <td>4382</td>\n",
       "    </tr>\n",
       "    <tr>\n",
       "      <th>16956</th>\n",
       "      <td>급속</td>\n",
       "      <td>29.74</td>\n",
       "      <td>5236</td>\n",
       "    </tr>\n",
       "    <tr>\n",
       "      <th>5082</th>\n",
       "      <td>급속</td>\n",
       "      <td>57.00</td>\n",
       "      <td>5631</td>\n",
       "    </tr>\n",
       "    <tr>\n",
       "      <th>167878</th>\n",
       "      <td>완속</td>\n",
       "      <td>4.48</td>\n",
       "      <td>5756</td>\n",
       "    </tr>\n",
       "    <tr>\n",
       "      <th>90671</th>\n",
       "      <td>완속</td>\n",
       "      <td>29.05</td>\n",
       "      <td>8378</td>\n",
       "    </tr>\n",
       "  </tbody>\n",
       "</table>\n",
       "<p>429617 rows × 3 columns</p>\n",
       "</div>"
      ],
      "text/plain": [
       "       충전기구분    충전량  총 충전시간(시간+분)\n",
       "10119     급속  34.46          -681\n",
       "82805     급속   0.01             0\n",
       "102884    급속   0.20             0\n",
       "60919     급속   0.04             0\n",
       "19793     급속   0.03             0\n",
       "...      ...    ...           ...\n",
       "144790    완속   6.99          4382\n",
       "16956     급속  29.74          5236\n",
       "5082      급속  57.00          5631\n",
       "167878    완속   4.48          5756\n",
       "90671     완속  29.05          8378\n",
       "\n",
       "[429617 rows x 3 columns]"
      ]
     },
     "execution_count": 14,
     "metadata": {},
     "output_type": "execute_result"
    }
   ],
   "source": [
    "jj_20_21_ct.sort_values('총 충전시간(시간+분)')"
   ]
  },
  {
   "cell_type": "code",
   "execution_count": null,
   "metadata": {},
   "outputs": [
    {
     "data": {
      "text/plain": [
       "0         True\n",
       "1         True\n",
       "2         True\n",
       "3         True\n",
       "4         True\n",
       "          ... \n",
       "181584    True\n",
       "181585    True\n",
       "181586    True\n",
       "181587    True\n",
       "181588    True\n",
       "Name: 총 충전시간(시간+분), Length: 429617, dtype: bool"
      ]
     },
     "execution_count": 15,
     "metadata": {},
     "output_type": "execute_result"
    }
   ],
   "source": [
    "jj_20_21_ct['총 충전시간(시간+분)'] > 0"
   ]
  },
  {
   "cell_type": "code",
   "execution_count": null,
   "metadata": {},
   "outputs": [
    {
     "data": {
      "text/html": [
       "<div>\n",
       "<style scoped>\n",
       "    .dataframe tbody tr th:only-of-type {\n",
       "        vertical-align: middle;\n",
       "    }\n",
       "\n",
       "    .dataframe tbody tr th {\n",
       "        vertical-align: top;\n",
       "    }\n",
       "\n",
       "    .dataframe thead th {\n",
       "        text-align: right;\n",
       "    }\n",
       "</style>\n",
       "<table border=\"1\" class=\"dataframe\">\n",
       "  <thead>\n",
       "    <tr style=\"text-align: right;\">\n",
       "      <th></th>\n",
       "      <th>충전기구분</th>\n",
       "      <th>충전량</th>\n",
       "      <th>총 충전시간(시간+분)</th>\n",
       "    </tr>\n",
       "  </thead>\n",
       "  <tbody>\n",
       "    <tr>\n",
       "      <th>0</th>\n",
       "      <td>완속</td>\n",
       "      <td>12.30</td>\n",
       "      <td>117</td>\n",
       "    </tr>\n",
       "    <tr>\n",
       "      <th>1</th>\n",
       "      <td>급속</td>\n",
       "      <td>50.37</td>\n",
       "      <td>94</td>\n",
       "    </tr>\n",
       "    <tr>\n",
       "      <th>2</th>\n",
       "      <td>완속</td>\n",
       "      <td>14.36</td>\n",
       "      <td>133</td>\n",
       "    </tr>\n",
       "    <tr>\n",
       "      <th>3</th>\n",
       "      <td>급속</td>\n",
       "      <td>11.03</td>\n",
       "      <td>24</td>\n",
       "    </tr>\n",
       "    <tr>\n",
       "      <th>4</th>\n",
       "      <td>완속</td>\n",
       "      <td>9.44</td>\n",
       "      <td>108</td>\n",
       "    </tr>\n",
       "    <tr>\n",
       "      <th>...</th>\n",
       "      <td>...</td>\n",
       "      <td>...</td>\n",
       "      <td>...</td>\n",
       "    </tr>\n",
       "    <tr>\n",
       "      <th>181584</th>\n",
       "      <td>완속</td>\n",
       "      <td>18.90</td>\n",
       "      <td>187</td>\n",
       "    </tr>\n",
       "    <tr>\n",
       "      <th>181585</th>\n",
       "      <td>완속</td>\n",
       "      <td>26.79</td>\n",
       "      <td>271</td>\n",
       "    </tr>\n",
       "    <tr>\n",
       "      <th>181586</th>\n",
       "      <td>완속</td>\n",
       "      <td>32.33</td>\n",
       "      <td>354</td>\n",
       "    </tr>\n",
       "    <tr>\n",
       "      <th>181587</th>\n",
       "      <td>급속</td>\n",
       "      <td>16.88</td>\n",
       "      <td>29</td>\n",
       "    </tr>\n",
       "    <tr>\n",
       "      <th>181588</th>\n",
       "      <td>급속</td>\n",
       "      <td>67.99</td>\n",
       "      <td>138</td>\n",
       "    </tr>\n",
       "  </tbody>\n",
       "</table>\n",
       "<p>424194 rows × 3 columns</p>\n",
       "</div>"
      ],
      "text/plain": [
       "       충전기구분    충전량  총 충전시간(시간+분)\n",
       "0         완속  12.30           117\n",
       "1         급속  50.37            94\n",
       "2         완속  14.36           133\n",
       "3         급속  11.03            24\n",
       "4         완속   9.44           108\n",
       "...      ...    ...           ...\n",
       "181584    완속  18.90           187\n",
       "181585    완속  26.79           271\n",
       "181586    완속  32.33           354\n",
       "181587    급속  16.88            29\n",
       "181588    급속  67.99           138\n",
       "\n",
       "[424194 rows x 3 columns]"
      ]
     },
     "execution_count": 16,
     "metadata": {},
     "output_type": "execute_result"
    }
   ],
   "source": [
    "jj_0 = jj_20_21_ct[(jj_20_21_ct['총 충전시간(시간+분)'] > 0)]\n",
    "jj_0"
   ]
  },
  {
   "cell_type": "code",
   "execution_count": null,
   "metadata": {},
   "outputs": [
    {
     "data": {
      "text/plain": [
       "101.896"
      ]
     },
     "execution_count": 17,
     "metadata": {},
     "output_type": "execute_result"
    }
   ],
   "source": [
    "jj_0['충전량'].max()"
   ]
  },
  {
   "cell_type": "code",
   "execution_count": null,
   "metadata": {},
   "outputs": [
    {
     "data": {
      "text/html": [
       "<div>\n",
       "<style scoped>\n",
       "    .dataframe tbody tr th:only-of-type {\n",
       "        vertical-align: middle;\n",
       "    }\n",
       "\n",
       "    .dataframe tbody tr th {\n",
       "        vertical-align: top;\n",
       "    }\n",
       "\n",
       "    .dataframe thead th {\n",
       "        text-align: right;\n",
       "    }\n",
       "</style>\n",
       "<table border=\"1\" class=\"dataframe\">\n",
       "  <thead>\n",
       "    <tr style=\"text-align: right;\">\n",
       "      <th></th>\n",
       "      <th>충전기구분</th>\n",
       "      <th>충전량</th>\n",
       "      <th>총 충전시간(시간+분)</th>\n",
       "    </tr>\n",
       "  </thead>\n",
       "  <tbody>\n",
       "    <tr>\n",
       "      <th>153189</th>\n",
       "      <td>완속</td>\n",
       "      <td>0.10</td>\n",
       "      <td>1</td>\n",
       "    </tr>\n",
       "    <tr>\n",
       "      <th>59024</th>\n",
       "      <td>급속</td>\n",
       "      <td>0.78</td>\n",
       "      <td>1</td>\n",
       "    </tr>\n",
       "    <tr>\n",
       "      <th>124569</th>\n",
       "      <td>급속</td>\n",
       "      <td>0.54</td>\n",
       "      <td>1</td>\n",
       "    </tr>\n",
       "    <tr>\n",
       "      <th>8900</th>\n",
       "      <td>완속</td>\n",
       "      <td>0.20</td>\n",
       "      <td>1</td>\n",
       "    </tr>\n",
       "    <tr>\n",
       "      <th>184294</th>\n",
       "      <td>완속</td>\n",
       "      <td>0.20</td>\n",
       "      <td>1</td>\n",
       "    </tr>\n",
       "    <tr>\n",
       "      <th>...</th>\n",
       "      <td>...</td>\n",
       "      <td>...</td>\n",
       "      <td>...</td>\n",
       "    </tr>\n",
       "    <tr>\n",
       "      <th>144790</th>\n",
       "      <td>완속</td>\n",
       "      <td>6.99</td>\n",
       "      <td>4382</td>\n",
       "    </tr>\n",
       "    <tr>\n",
       "      <th>16956</th>\n",
       "      <td>급속</td>\n",
       "      <td>29.74</td>\n",
       "      <td>5236</td>\n",
       "    </tr>\n",
       "    <tr>\n",
       "      <th>5082</th>\n",
       "      <td>급속</td>\n",
       "      <td>57.00</td>\n",
       "      <td>5631</td>\n",
       "    </tr>\n",
       "    <tr>\n",
       "      <th>167878</th>\n",
       "      <td>완속</td>\n",
       "      <td>4.48</td>\n",
       "      <td>5756</td>\n",
       "    </tr>\n",
       "    <tr>\n",
       "      <th>90671</th>\n",
       "      <td>완속</td>\n",
       "      <td>29.05</td>\n",
       "      <td>8378</td>\n",
       "    </tr>\n",
       "  </tbody>\n",
       "</table>\n",
       "<p>424194 rows × 3 columns</p>\n",
       "</div>"
      ],
      "text/plain": [
       "       충전기구분    충전량  총 충전시간(시간+분)\n",
       "153189    완속   0.10             1\n",
       "59024     급속   0.78             1\n",
       "124569    급속   0.54             1\n",
       "8900      완속   0.20             1\n",
       "184294    완속   0.20             1\n",
       "...      ...    ...           ...\n",
       "144790    완속   6.99          4382\n",
       "16956     급속  29.74          5236\n",
       "5082      급속  57.00          5631\n",
       "167878    완속   4.48          5756\n",
       "90671     완속  29.05          8378\n",
       "\n",
       "[424194 rows x 3 columns]"
      ]
     },
     "execution_count": 18,
     "metadata": {},
     "output_type": "execute_result"
    }
   ],
   "source": [
    "jj_0.sort_values('총 충전시간(시간+분)')"
   ]
  },
  {
   "cell_type": "code",
   "execution_count": null,
   "metadata": {},
   "outputs": [
    {
     "name": "stdout",
     "output_type": "stream",
     "text": [
      "급속    310926\n",
      "완속    113268\n",
      "Name: 충전기구분, dtype: int64\n"
     ]
    }
   ],
   "source": [
    "count_by_type = jj_0['충전기구분'].value_counts()\n",
    "print(count_by_type)"
   ]
  },
  {
   "cell_type": "code",
   "execution_count": null,
   "metadata": {},
   "outputs": [
    {
     "data": {
      "text/plain": [
       "50.23750988981301"
      ]
     },
     "execution_count": 20,
     "metadata": {},
     "output_type": "execute_result"
    }
   ],
   "source": [
    "jj_0[jj_0['충전기구분'] == '급속']['총 충전시간(시간+분)'].sum()/ 310926"
   ]
  },
  {
   "cell_type": "code",
   "execution_count": null,
   "metadata": {},
   "outputs": [
    {
     "data": {
      "text/plain": [
       "223.8154112370661"
      ]
     },
     "execution_count": 21,
     "metadata": {},
     "output_type": "execute_result"
    }
   ],
   "source": [
    "jj_0[jj_0['충전기구분'] == '완속']['총 충전시간(시간+분)'].sum()/ 113268"
   ]
  },
  {
   "cell_type": "code",
   "execution_count": null,
   "metadata": {},
   "outputs": [
    {
     "data": {
      "text/plain": [
       "19.40209222414492"
      ]
     },
     "execution_count": 22,
     "metadata": {},
     "output_type": "execute_result"
    }
   ],
   "source": [
    "jj_0[jj_0['충전기구분'] == '급속']['충전량'].sum()/ 310926"
   ]
  },
  {
   "cell_type": "code",
   "execution_count": null,
   "metadata": {},
   "outputs": [
    {
     "data": {
      "text/plain": [
       "20.94015374692363"
      ]
     },
     "execution_count": 23,
     "metadata": {},
     "output_type": "execute_result"
    }
   ],
   "source": [
    "jj_0[jj_0['충전기구분'] == '완속']['충전량'].sum()/ 113268"
   ]
  },
  {
   "cell_type": "code",
   "execution_count": null,
   "metadata": {},
   "outputs": [
    {
     "data": {
      "text/html": [
       "<div>\n",
       "<style scoped>\n",
       "    .dataframe tbody tr th:only-of-type {\n",
       "        vertical-align: middle;\n",
       "    }\n",
       "\n",
       "    .dataframe tbody tr th {\n",
       "        vertical-align: top;\n",
       "    }\n",
       "\n",
       "    .dataframe thead th {\n",
       "        text-align: right;\n",
       "    }\n",
       "</style>\n",
       "<table border=\"1\" class=\"dataframe\">\n",
       "  <thead>\n",
       "    <tr style=\"text-align: right;\">\n",
       "      <th></th>\n",
       "      <th>충전량</th>\n",
       "      <th>총 충전시간(시간+분)</th>\n",
       "    </tr>\n",
       "    <tr>\n",
       "      <th>충전기구분</th>\n",
       "      <th></th>\n",
       "      <th></th>\n",
       "    </tr>\n",
       "  </thead>\n",
       "  <tbody>\n",
       "    <tr>\n",
       "      <th>급속</th>\n",
       "      <td>6.032615e+06</td>\n",
       "      <td>15620148</td>\n",
       "    </tr>\n",
       "    <tr>\n",
       "      <th>완속</th>\n",
       "      <td>2.371849e+06</td>\n",
       "      <td>25351124</td>\n",
       "    </tr>\n",
       "  </tbody>\n",
       "</table>\n",
       "</div>"
      ],
      "text/plain": [
       "                충전량  총 충전시간(시간+분)\n",
       "충전기구분                            \n",
       "급속     6.032615e+06      15620148\n",
       "완속     2.371849e+06      25351124"
      ]
     },
     "execution_count": 24,
     "metadata": {},
     "output_type": "execute_result"
    }
   ],
   "source": [
    "time = jj_0.groupby('충전기구분').sum()\n",
    "time"
   ]
  },
  {
   "cell_type": "code",
   "execution_count": null,
   "metadata": {},
   "outputs": [
    {
     "data": {
      "text/html": [
       "<div>\n",
       "<style scoped>\n",
       "    .dataframe tbody tr th:only-of-type {\n",
       "        vertical-align: middle;\n",
       "    }\n",
       "\n",
       "    .dataframe tbody tr th {\n",
       "        vertical-align: top;\n",
       "    }\n",
       "\n",
       "    .dataframe thead th {\n",
       "        text-align: right;\n",
       "    }\n",
       "</style>\n",
       "<table border=\"1\" class=\"dataframe\">\n",
       "  <thead>\n",
       "    <tr style=\"text-align: right;\">\n",
       "      <th></th>\n",
       "      <th>충전기구분</th>\n",
       "      <th>충전량</th>\n",
       "      <th>총 충전시간(시간+분)</th>\n",
       "    </tr>\n",
       "  </thead>\n",
       "  <tbody>\n",
       "    <tr>\n",
       "      <th>0</th>\n",
       "      <td>완속</td>\n",
       "      <td>12.30</td>\n",
       "      <td>117</td>\n",
       "    </tr>\n",
       "    <tr>\n",
       "      <th>2</th>\n",
       "      <td>완속</td>\n",
       "      <td>14.36</td>\n",
       "      <td>133</td>\n",
       "    </tr>\n",
       "    <tr>\n",
       "      <th>4</th>\n",
       "      <td>완속</td>\n",
       "      <td>9.44</td>\n",
       "      <td>108</td>\n",
       "    </tr>\n",
       "    <tr>\n",
       "      <th>5</th>\n",
       "      <td>완속</td>\n",
       "      <td>18.99</td>\n",
       "      <td>204</td>\n",
       "    </tr>\n",
       "    <tr>\n",
       "      <th>7</th>\n",
       "      <td>완속</td>\n",
       "      <td>22.34</td>\n",
       "      <td>195</td>\n",
       "    </tr>\n",
       "    <tr>\n",
       "      <th>...</th>\n",
       "      <td>...</td>\n",
       "      <td>...</td>\n",
       "      <td>...</td>\n",
       "    </tr>\n",
       "    <tr>\n",
       "      <th>181581</th>\n",
       "      <td>완속</td>\n",
       "      <td>19.42</td>\n",
       "      <td>174</td>\n",
       "    </tr>\n",
       "    <tr>\n",
       "      <th>181583</th>\n",
       "      <td>완속</td>\n",
       "      <td>14.10</td>\n",
       "      <td>124</td>\n",
       "    </tr>\n",
       "    <tr>\n",
       "      <th>181584</th>\n",
       "      <td>완속</td>\n",
       "      <td>18.90</td>\n",
       "      <td>187</td>\n",
       "    </tr>\n",
       "    <tr>\n",
       "      <th>181585</th>\n",
       "      <td>완속</td>\n",
       "      <td>26.79</td>\n",
       "      <td>271</td>\n",
       "    </tr>\n",
       "    <tr>\n",
       "      <th>181586</th>\n",
       "      <td>완속</td>\n",
       "      <td>32.33</td>\n",
       "      <td>354</td>\n",
       "    </tr>\n",
       "  </tbody>\n",
       "</table>\n",
       "<p>113268 rows × 3 columns</p>\n",
       "</div>"
      ],
      "text/plain": [
       "       충전기구분    충전량  총 충전시간(시간+분)\n",
       "0         완속  12.30           117\n",
       "2         완속  14.36           133\n",
       "4         완속   9.44           108\n",
       "5         완속  18.99           204\n",
       "7         완속  22.34           195\n",
       "...      ...    ...           ...\n",
       "181581    완속  19.42           174\n",
       "181583    완속  14.10           124\n",
       "181584    완속  18.90           187\n",
       "181585    완속  26.79           271\n",
       "181586    완속  32.33           354\n",
       "\n",
       "[113268 rows x 3 columns]"
      ]
     },
     "execution_count": 25,
     "metadata": {},
     "output_type": "execute_result"
    }
   ],
   "source": [
    "jj_f = jj_0[jj_0['충전기구분']=='완속']\n",
    "jj_f"
   ]
  },
  {
   "cell_type": "code",
   "execution_count": null,
   "metadata": {},
   "outputs": [],
   "source": [
    "# plt.figure(figsize=(30,10))\n",
    "# plt.tight_layout()\n",
    "# plt.plot(jj_f['총 충전시간(시간+분)'],jj_f['충전량'])\n",
    "# # jj_f.plot(kind=\"line\",x='총 충전시간(시간+분)',y=\"충전량\")\n",
    "# plt.show()"
   ]
  },
  {
   "cell_type": "code",
   "execution_count": null,
   "metadata": {},
   "outputs": [],
   "source": [
    "# plt.figure(figsize=(30,10))\n",
    "# plt.tight_layout()\n",
    "# jj_s.plot(kind=\"bar\",x='총 충전시간(시간+분)',y=\"충전량\")\n",
    "# plt.xticks(rotation=45)\n",
    "# plt.show()"
   ]
  },
  {
   "cell_type": "code",
   "execution_count": null,
   "metadata": {},
   "outputs": [
    {
     "data": {
      "text/html": [
       "<div>\n",
       "<style scoped>\n",
       "    .dataframe tbody tr th:only-of-type {\n",
       "        vertical-align: middle;\n",
       "    }\n",
       "\n",
       "    .dataframe tbody tr th {\n",
       "        vertical-align: top;\n",
       "    }\n",
       "\n",
       "    .dataframe thead th {\n",
       "        text-align: right;\n",
       "    }\n",
       "</style>\n",
       "<table border=\"1\" class=\"dataframe\">\n",
       "  <thead>\n",
       "    <tr style=\"text-align: right;\">\n",
       "      <th></th>\n",
       "      <th>충전기구분</th>\n",
       "      <th>충전량</th>\n",
       "      <th>총 충전시간(시간+분)</th>\n",
       "    </tr>\n",
       "  </thead>\n",
       "  <tbody>\n",
       "    <tr>\n",
       "      <th>1</th>\n",
       "      <td>급속</td>\n",
       "      <td>50.37</td>\n",
       "      <td>94</td>\n",
       "    </tr>\n",
       "    <tr>\n",
       "      <th>3</th>\n",
       "      <td>급속</td>\n",
       "      <td>11.03</td>\n",
       "      <td>24</td>\n",
       "    </tr>\n",
       "    <tr>\n",
       "      <th>6</th>\n",
       "      <td>급속</td>\n",
       "      <td>19.51</td>\n",
       "      <td>41</td>\n",
       "    </tr>\n",
       "    <tr>\n",
       "      <th>9</th>\n",
       "      <td>급속</td>\n",
       "      <td>63.05</td>\n",
       "      <td>190</td>\n",
       "    </tr>\n",
       "    <tr>\n",
       "      <th>10</th>\n",
       "      <td>급속</td>\n",
       "      <td>13.46</td>\n",
       "      <td>19</td>\n",
       "    </tr>\n",
       "    <tr>\n",
       "      <th>...</th>\n",
       "      <td>...</td>\n",
       "      <td>...</td>\n",
       "      <td>...</td>\n",
       "    </tr>\n",
       "    <tr>\n",
       "      <th>181579</th>\n",
       "      <td>급속</td>\n",
       "      <td>20.76</td>\n",
       "      <td>31</td>\n",
       "    </tr>\n",
       "    <tr>\n",
       "      <th>181580</th>\n",
       "      <td>급속</td>\n",
       "      <td>45.17</td>\n",
       "      <td>276</td>\n",
       "    </tr>\n",
       "    <tr>\n",
       "      <th>181582</th>\n",
       "      <td>급속</td>\n",
       "      <td>12.29</td>\n",
       "      <td>27</td>\n",
       "    </tr>\n",
       "    <tr>\n",
       "      <th>181587</th>\n",
       "      <td>급속</td>\n",
       "      <td>16.88</td>\n",
       "      <td>29</td>\n",
       "    </tr>\n",
       "    <tr>\n",
       "      <th>181588</th>\n",
       "      <td>급속</td>\n",
       "      <td>67.99</td>\n",
       "      <td>138</td>\n",
       "    </tr>\n",
       "  </tbody>\n",
       "</table>\n",
       "<p>310926 rows × 3 columns</p>\n",
       "</div>"
      ],
      "text/plain": [
       "       충전기구분    충전량  총 충전시간(시간+분)\n",
       "1         급속  50.37            94\n",
       "3         급속  11.03            24\n",
       "6         급속  19.51            41\n",
       "9         급속  63.05           190\n",
       "10        급속  13.46            19\n",
       "...      ...    ...           ...\n",
       "181579    급속  20.76            31\n",
       "181580    급속  45.17           276\n",
       "181582    급속  12.29            27\n",
       "181587    급속  16.88            29\n",
       "181588    급속  67.99           138\n",
       "\n",
       "[310926 rows x 3 columns]"
      ]
     },
     "execution_count": 28,
     "metadata": {},
     "output_type": "execute_result"
    }
   ],
   "source": [
    "jj_s = jj_0[jj_0['충전기구분']=='급속']\n",
    "jj_s"
   ]
  },
  {
   "cell_type": "code",
   "execution_count": null,
   "metadata": {},
   "outputs": [],
   "source": [
    "# plt.figure(figsize=(30,10))\n",
    "# plt.tight_layout()\n",
    "# jj_s.plot(kind=\"bar\",x='총 충전시간(시간+분)',y=\"충전량\")\n",
    "# plt.xticks(rotation=45)\n",
    "# plt.show()"
   ]
  },
  {
   "cell_type": "code",
   "execution_count": null,
   "metadata": {},
   "outputs": [
    {
     "data": {
      "text/plain": [
       "count    424194.000000\n",
       "mean         19.812784\n",
       "std          14.096023\n",
       "min           0.010000\n",
       "25%           9.690000\n",
       "50%          16.440000\n",
       "75%          26.180000\n",
       "max         101.896000\n",
       "Name: 충전량, dtype: float64"
      ]
     },
     "execution_count": 30,
     "metadata": {},
     "output_type": "execute_result"
    }
   ],
   "source": [
    "jj_0['충전량'].describe()"
   ]
  },
  {
   "cell_type": "code",
   "execution_count": null,
   "metadata": {},
   "outputs": [
    {
     "data": {
      "text/plain": [
       "101.896"
      ]
     },
     "execution_count": 31,
     "metadata": {},
     "output_type": "execute_result"
    }
   ],
   "source": [
    "jj_0['충전량'].max()"
   ]
  },
  {
   "cell_type": "code",
   "execution_count": null,
   "metadata": {},
   "outputs": [
    {
     "data": {
      "image/png": "[encoded data removed]",
      "text/plain": [
       "<Figure size 640x480 with 1 Axes>"
      ]
     },
     "metadata": {},
     "output_type": "display_data"
    }
   ],
   "source": [
    "plt.hist(jj_0['충전량'], bins=100)\n",
    "plt.title('충전량 분포')\n",
    "plt.xlabel('충전량')\n",
    "plt.ylabel('빈도수')\n",
    "plt.show()"
   ]
  },
  {
   "cell_type": "code",
   "execution_count": null,
   "metadata": {},
   "outputs": [
    {
     "name": "stdout",
     "output_type": "stream",
     "text": [
      "       충전기구분      충전량  총 충전시간(시간+분)\n",
      "111725    급속  101.896           459\n"
     ]
    }
   ],
   "source": [
    "max_value = jj_0['충전량'].max()  # 충전량 열의 최댓값\n",
    "max_row = jj_0[jj_0['충전량'] == max_value]  # 충전량이 최댓값인 행 선택\n",
    "print(max_row)"
   ]
  },
  {
   "cell_type": "code",
   "execution_count": null,
   "metadata": {},
   "outputs": [],
   "source": []
  },
  {
   "attachments": {},
   "cell_type": "markdown",
   "metadata": {},
   "source": [
    "### 급속/완속 충전기 구분"
   ]
  },
  {
   "cell_type": "code",
   "execution_count": null,
   "metadata": {},
   "outputs": [
    {
     "data": {
      "text/plain": [
       "급속    310926\n",
       "완속    113268\n",
       "Name: 충전기구분, dtype: int64"
      ]
     },
     "execution_count": 34,
     "metadata": {},
     "output_type": "execute_result"
    }
   ],
   "source": [
    "count_by_type"
   ]
  },
  {
   "cell_type": "code",
   "execution_count": null,
   "metadata": {},
   "outputs": [
    {
     "data": {
      "text/html": [
       "<div>\n",
       "<style scoped>\n",
       "    .dataframe tbody tr th:only-of-type {\n",
       "        vertical-align: middle;\n",
       "    }\n",
       "\n",
       "    .dataframe tbody tr th {\n",
       "        vertical-align: top;\n",
       "    }\n",
       "\n",
       "    .dataframe thead th {\n",
       "        text-align: right;\n",
       "    }\n",
       "</style>\n",
       "<table border=\"1\" class=\"dataframe\">\n",
       "  <thead>\n",
       "    <tr style=\"text-align: right;\">\n",
       "      <th></th>\n",
       "      <th>충전기구분</th>\n",
       "      <th>충전량</th>\n",
       "      <th>총 충전시간(시간+분)</th>\n",
       "    </tr>\n",
       "  </thead>\n",
       "  <tbody>\n",
       "    <tr>\n",
       "      <th>0</th>\n",
       "      <td>완속</td>\n",
       "      <td>12.30</td>\n",
       "      <td>117</td>\n",
       "    </tr>\n",
       "    <tr>\n",
       "      <th>1</th>\n",
       "      <td>급속</td>\n",
       "      <td>50.37</td>\n",
       "      <td>94</td>\n",
       "    </tr>\n",
       "    <tr>\n",
       "      <th>2</th>\n",
       "      <td>완속</td>\n",
       "      <td>14.36</td>\n",
       "      <td>133</td>\n",
       "    </tr>\n",
       "    <tr>\n",
       "      <th>3</th>\n",
       "      <td>급속</td>\n",
       "      <td>11.03</td>\n",
       "      <td>24</td>\n",
       "    </tr>\n",
       "    <tr>\n",
       "      <th>4</th>\n",
       "      <td>완속</td>\n",
       "      <td>9.44</td>\n",
       "      <td>108</td>\n",
       "    </tr>\n",
       "    <tr>\n",
       "      <th>...</th>\n",
       "      <td>...</td>\n",
       "      <td>...</td>\n",
       "      <td>...</td>\n",
       "    </tr>\n",
       "    <tr>\n",
       "      <th>181584</th>\n",
       "      <td>완속</td>\n",
       "      <td>18.90</td>\n",
       "      <td>187</td>\n",
       "    </tr>\n",
       "    <tr>\n",
       "      <th>181585</th>\n",
       "      <td>완속</td>\n",
       "      <td>26.79</td>\n",
       "      <td>271</td>\n",
       "    </tr>\n",
       "    <tr>\n",
       "      <th>181586</th>\n",
       "      <td>완속</td>\n",
       "      <td>32.33</td>\n",
       "      <td>354</td>\n",
       "    </tr>\n",
       "    <tr>\n",
       "      <th>181587</th>\n",
       "      <td>급속</td>\n",
       "      <td>16.88</td>\n",
       "      <td>29</td>\n",
       "    </tr>\n",
       "    <tr>\n",
       "      <th>181588</th>\n",
       "      <td>급속</td>\n",
       "      <td>67.99</td>\n",
       "      <td>138</td>\n",
       "    </tr>\n",
       "  </tbody>\n",
       "</table>\n",
       "<p>424194 rows × 3 columns</p>\n",
       "</div>"
      ],
      "text/plain": [
       "       충전기구분    충전량  총 충전시간(시간+분)\n",
       "0         완속  12.30           117\n",
       "1         급속  50.37            94\n",
       "2         완속  14.36           133\n",
       "3         급속  11.03            24\n",
       "4         완속   9.44           108\n",
       "...      ...    ...           ...\n",
       "181584    완속  18.90           187\n",
       "181585    완속  26.79           271\n",
       "181586    완속  32.33           354\n",
       "181587    급속  16.88            29\n",
       "181588    급속  67.99           138\n",
       "\n",
       "[424194 rows x 3 columns]"
      ]
     },
     "execution_count": 35,
     "metadata": {},
     "output_type": "execute_result"
    }
   ],
   "source": [
    "jj_0"
   ]
  },
  {
   "cell_type": "code",
   "execution_count": null,
   "metadata": {},
   "outputs": [
    {
     "name": "stdout",
     "output_type": "stream",
     "text": [
      "급속    310926\n",
      "완속    113268\n",
      "Name: 충전기구분, dtype: int64\n"
     ]
    }
   ],
   "source": [
    "print(jj_0['충전기구분'].value_counts())"
   ]
  },
  {
   "cell_type": "code",
   "execution_count": null,
   "metadata": {},
   "outputs": [
    {
     "data": {
      "text/plain": [
       "<bound method NDFrame._add_numeric_operations.<locals>.sum of 0         완속\n",
       "1         급속\n",
       "2         완속\n",
       "3         급속\n",
       "4         완속\n",
       "          ..\n",
       "181584    완속\n",
       "181585    완속\n",
       "181586    완속\n",
       "181587    급속\n",
       "181588    급속\n",
       "Name: 충전기구분, Length: 424194, dtype: object>"
      ]
     },
     "execution_count": 37,
     "metadata": {},
     "output_type": "execute_result"
    }
   ],
   "source": [
    "jj_0['충전기구분'].sum"
   ]
  },
  {
   "cell_type": "code",
   "execution_count": null,
   "metadata": {},
   "outputs": [
    {
     "data": {
      "text/plain": [
       "급속    0.73\n",
       "완속    0.27\n",
       "Name: 충전기구분, dtype: float64"
      ]
     },
     "execution_count": 38,
     "metadata": {},
     "output_type": "execute_result"
    }
   ],
   "source": [
    "np.round(jj_0['충전기구분'].value_counts().div(424194),2)"
   ]
  },
  {
   "cell_type": "code",
   "execution_count": null,
   "metadata": {},
   "outputs": [
    {
     "data": {
      "image/png": "[encoded data removed]",
      "text/plain": [
       "<Figure size 640x480 with 1 Axes>"
      ]
     },
     "metadata": {},
     "output_type": "display_data"
    }
   ],
   "source": [
    "ratio = [73,27]\n",
    "labels = ['급속', '완속']\n",
    "plt.pie(ratio, labels=labels, autopct='%.1f%%', startangle=260, counterclock=False, shadow=True)\n",
    "plt.title('충전기 종류별 사용률(2020,2021)')\n",
    "plt.show()"
   ]
  },
  {
   "cell_type": "code",
   "execution_count": null,
   "metadata": {},
   "outputs": [
    {
     "name": "stdout",
     "output_type": "stream",
     "text": [
      "완속 평균 충전시간: 223.82\n",
      "급속 평균 충전시간: 50.24\n"
     ]
    }
   ],
   "source": [
    "# \"충전기구분\" 열을 기준으로 그룹화하여 \"총 충전시간\" 열의 평균 계산\n",
    "grouped = jj_0.groupby('충전기구분')\n",
    "slow_mean_time = grouped.get_group('완속')['총 충전시간(시간+분)'].mean()\n",
    "fast_mean_time = grouped.get_group('급속')['총 충전시간(시간+분)'].mean()\n",
    "\n",
    "print(\"완속 평균 충전시간:\", round(slow_mean_time, 2))\n",
    "print(\"급속 평균 충전시간:\", round(fast_mean_time, 2))"
   ]
  },
  {
   "cell_type": "code",
   "execution_count": null,
   "metadata": {},
   "outputs": [
    {
     "data": {
      "image/png": "[encoded data removed]",
      "text/plain": [
       "<Figure size 640x480 with 1 Axes>"
      ]
     },
     "metadata": {},
     "output_type": "display_data"
    }
   ],
   "source": [
    "chargemean = jj_0.groupby('충전기구분')\n",
    "slow_mean_time = chargemean.get_group('완속')['총 충전시간(시간+분)'].mean()\n",
    "fast_mean_time = chargemean.get_group('급속')['총 충전시간(시간+분)'].mean()\n",
    "\n",
    "plt.bar(['완속', '급속'], [slow_mean_time, fast_mean_time])\n",
    "plt.title('완속/급속 평균충전시간')\n",
    "plt.xlabel('충전기구분')\n",
    "plt.ylabel('평균충전시간(분)')\n",
    "plt.show()"
   ]
  },
  {
   "cell_type": "code",
   "execution_count": null,
   "metadata": {},
   "outputs": [],
   "source": []
  },
  {
   "cell_type": "code",
   "execution_count": null,
   "metadata": {},
   "outputs": [],
   "source": []
  },
  {
   "cell_type": "code",
   "execution_count": null,
   "metadata": {},
   "outputs": [],
   "source": []
  },
  {
   "cell_type": "code",
   "execution_count": null,
   "metadata": {},
   "outputs": [],
   "source": []
  },
  {
   "cell_type": "code",
   "execution_count": null,
   "metadata": {},
   "outputs": [],
   "source": []
  },
  {
   "cell_type": "code",
   "execution_count": null,
   "metadata": {},
   "outputs": [],
   "source": []
  },
  {
   "cell_type": "code",
   "execution_count": null,
   "metadata": {},
   "outputs": [],
   "source": []
  }
 ],
 "metadata": {
  "kernelspec": {
   "display_name": "base",
   "language": "python",
   "name": "python3"
  },
  "language_info": {
   "codemirror_mode": {
    "name": "ipython",
    "version": 3
   },
   "file_extension": ".py",
   "mimetype": "text/x-python",
   "name": "python",
   "nbconvert_exporter": "python",
   "pygments_lexer": "ipython3",
   "version": "3.10.9"
  },
  "orig_nbformat": 4
 },
 "nbformat": 4,
 "nbformat_minor": 2
}
