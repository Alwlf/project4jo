{
 "cells": [
  {
   "cell_type": "code",
   "execution_count": 104,
   "metadata": {},
   "outputs": [],
   "source": [
    "import pandas as pd\n",
    "import warnings\n",
    "warnings.filterwarnings(action='ignore')"
   ]
  },
  {
   "cell_type": "code",
   "execution_count": 51,
   "metadata": {},
   "outputs": [],
   "source": [
    "import matplotlib.pyplot as plt"
   ]
  },
  {
   "cell_type": "code",
   "execution_count": 114,
   "metadata": {},
   "outputs": [
    {
     "data": {
      "text/html": [
       "<div>\n",
       "<style scoped>\n",
       "    .dataframe tbody tr th:only-of-type {\n",
       "        vertical-align: middle;\n",
       "    }\n",
       "\n",
       "    .dataframe tbody tr th {\n",
       "        vertical-align: top;\n",
       "    }\n",
       "\n",
       "    .dataframe thead th {\n",
       "        text-align: right;\n",
       "    }\n",
       "</style>\n",
       "<table border=\"1\" class=\"dataframe\">\n",
       "  <thead>\n",
       "    <tr style=\"text-align: right;\">\n",
       "      <th></th>\n",
       "      <th>행정구역별</th>\n",
       "      <th>2018</th>\n",
       "      <th>2019</th>\n",
       "      <th>2020</th>\n",
       "      <th>2021</th>\n",
       "    </tr>\n",
       "  </thead>\n",
       "  <tbody>\n",
       "    <tr>\n",
       "      <th>0</th>\n",
       "      <td>전국</td>\n",
       "      <td>514.4</td>\n",
       "      <td>515.7</td>\n",
       "      <td>516.2</td>\n",
       "      <td>515.2</td>\n",
       "    </tr>\n",
       "    <tr>\n",
       "      <th>1</th>\n",
       "      <td>서울특별시</td>\n",
       "      <td>15983.7</td>\n",
       "      <td>15926.9</td>\n",
       "      <td>15839.0</td>\n",
       "      <td>15650.1</td>\n",
       "    </tr>\n",
       "    <tr>\n",
       "      <th>2</th>\n",
       "      <td>부산광역시</td>\n",
       "      <td>4409.8</td>\n",
       "      <td>4379.7</td>\n",
       "      <td>4348.9</td>\n",
       "      <td>4316.4</td>\n",
       "    </tr>\n",
       "    <tr>\n",
       "      <th>3</th>\n",
       "      <td>대구광역시</td>\n",
       "      <td>2766.7</td>\n",
       "      <td>2750.3</td>\n",
       "      <td>2728.6</td>\n",
       "      <td>2702.2</td>\n",
       "    </tr>\n",
       "    <tr>\n",
       "      <th>4</th>\n",
       "      <td>인천광역시</td>\n",
       "      <td>2761.4</td>\n",
       "      <td>2776.6</td>\n",
       "      <td>2765.1</td>\n",
       "      <td>2772.8</td>\n",
       "    </tr>\n",
       "    <tr>\n",
       "      <th>5</th>\n",
       "      <td>광주광역시</td>\n",
       "      <td>2973.2</td>\n",
       "      <td>2972.7</td>\n",
       "      <td>2948.5</td>\n",
       "      <td>2944.0</td>\n",
       "    </tr>\n",
       "    <tr>\n",
       "      <th>6</th>\n",
       "      <td>대전광역시</td>\n",
       "      <td>2801.0</td>\n",
       "      <td>2777.5</td>\n",
       "      <td>2758.1</td>\n",
       "      <td>2742.8</td>\n",
       "    </tr>\n",
       "    <tr>\n",
       "      <th>7</th>\n",
       "      <td>울산광역시</td>\n",
       "      <td>1083.4</td>\n",
       "      <td>1076.9</td>\n",
       "      <td>1069.0</td>\n",
       "      <td>1055.0</td>\n",
       "    </tr>\n",
       "    <tr>\n",
       "      <th>8</th>\n",
       "      <td>세종특별자치시</td>\n",
       "      <td>671.9</td>\n",
       "      <td>727.3</td>\n",
       "      <td>761.3</td>\n",
       "      <td>787.7</td>\n",
       "    </tr>\n",
       "    <tr>\n",
       "      <th>9</th>\n",
       "      <td>경기도</td>\n",
       "      <td>1286.2</td>\n",
       "      <td>1305.0</td>\n",
       "      <td>1325.3</td>\n",
       "      <td>1338.9</td>\n",
       "    </tr>\n",
       "    <tr>\n",
       "      <th>10</th>\n",
       "      <td>강원도</td>\n",
       "      <td>90.3</td>\n",
       "      <td>90.3</td>\n",
       "      <td>90.4</td>\n",
       "      <td>90.4</td>\n",
       "    </tr>\n",
       "    <tr>\n",
       "      <th>11</th>\n",
       "      <td>충청북도</td>\n",
       "      <td>218.8</td>\n",
       "      <td>220.0</td>\n",
       "      <td>220.3</td>\n",
       "      <td>219.4</td>\n",
       "    </tr>\n",
       "    <tr>\n",
       "      <th>12</th>\n",
       "      <td>충청남도</td>\n",
       "      <td>265.1</td>\n",
       "      <td>265.4</td>\n",
       "      <td>264.0</td>\n",
       "      <td>263.8</td>\n",
       "    </tr>\n",
       "    <tr>\n",
       "      <th>13</th>\n",
       "      <td>전라북도</td>\n",
       "      <td>225.3</td>\n",
       "      <td>224.0</td>\n",
       "      <td>223.4</td>\n",
       "      <td>221.4</td>\n",
       "    </tr>\n",
       "    <tr>\n",
       "      <th>14</th>\n",
       "      <td>전라남도</td>\n",
       "      <td>145.0</td>\n",
       "      <td>144.8</td>\n",
       "      <td>144.9</td>\n",
       "      <td>143.9</td>\n",
       "    </tr>\n",
       "    <tr>\n",
       "      <th>15</th>\n",
       "      <td>경상북도</td>\n",
       "      <td>140.4</td>\n",
       "      <td>140.2</td>\n",
       "      <td>138.9</td>\n",
       "      <td>138.4</td>\n",
       "    </tr>\n",
       "    <tr>\n",
       "      <th>16</th>\n",
       "      <td>경상남도</td>\n",
       "      <td>317.9</td>\n",
       "      <td>317.6</td>\n",
       "      <td>316.2</td>\n",
       "      <td>313.6</td>\n",
       "    </tr>\n",
       "    <tr>\n",
       "      <th>17</th>\n",
       "      <td>제주도</td>\n",
       "      <td>355.8</td>\n",
       "      <td>359.4</td>\n",
       "      <td>362.6</td>\n",
       "      <td>363.8</td>\n",
       "    </tr>\n",
       "  </tbody>\n",
       "</table>\n",
       "</div>"
      ],
      "text/plain": [
       "      행정구역별     2018     2019     2020     2021\n",
       "0        전국    514.4    515.7    516.2    515.2\n",
       "1     서울특별시  15983.7  15926.9  15839.0  15650.1\n",
       "2     부산광역시   4409.8   4379.7   4348.9   4316.4\n",
       "3     대구광역시   2766.7   2750.3   2728.6   2702.2\n",
       "4     인천광역시   2761.4   2776.6   2765.1   2772.8\n",
       "5     광주광역시   2973.2   2972.7   2948.5   2944.0\n",
       "6     대전광역시   2801.0   2777.5   2758.1   2742.8\n",
       "7     울산광역시   1083.4   1076.9   1069.0   1055.0\n",
       "8   세종특별자치시    671.9    727.3    761.3    787.7\n",
       "9       경기도   1286.2   1305.0   1325.3   1338.9\n",
       "10      강원도     90.3     90.3     90.4     90.4\n",
       "11     충청북도    218.8    220.0    220.3    219.4\n",
       "12     충청남도    265.1    265.4    264.0    263.8\n",
       "13     전라북도    225.3    224.0    223.4    221.4\n",
       "14     전라남도    145.0    144.8    144.9    143.9\n",
       "15     경상북도    140.4    140.2    138.9    138.4\n",
       "16     경상남도    317.9    317.6    316.2    313.6\n",
       "17      제주도    355.8    359.4    362.6    363.8"
      ]
     },
     "execution_count": 114,
     "metadata": {},
     "output_type": "execute_result"
    }
   ],
   "source": [
    "people = pd.read_csv('인구밀도_인구주택총조사기준_2018-2021.csv', encoding='cp949')\n",
    "people"
   ]
  },
  {
   "cell_type": "code",
   "execution_count": 117,
   "metadata": {},
   "outputs": [],
   "source": [
    "people = people.loc[people['행정구역별'].apply(lambda x: x in ['서울특별시','제주도']),['행정구역별',\"2020\",\"2021\"]]"
   ]
  },
  {
   "cell_type": "code",
   "execution_count": 118,
   "metadata": {},
   "outputs": [],
   "source": [
    "people.reset_index(drop=True,inplace=True)"
   ]
  },
  {
   "cell_type": "code",
   "execution_count": 124,
   "metadata": {},
   "outputs": [],
   "source": [
    "people = people.rename(columns={\"행정구역별\":\"지역\"})"
   ]
  },
  {
   "cell_type": "code",
   "execution_count": 133,
   "metadata": {},
   "outputs": [
    {
     "data": {
      "text/html": [
       "<div>\n",
       "<style scoped>\n",
       "    .dataframe tbody tr th:only-of-type {\n",
       "        vertical-align: middle;\n",
       "    }\n",
       "\n",
       "    .dataframe tbody tr th {\n",
       "        vertical-align: top;\n",
       "    }\n",
       "\n",
       "    .dataframe thead th {\n",
       "        text-align: right;\n",
       "    }\n",
       "</style>\n",
       "<table border=\"1\" class=\"dataframe\">\n",
       "  <thead>\n",
       "    <tr style=\"text-align: right;\">\n",
       "      <th></th>\n",
       "      <th>지역</th>\n",
       "      <th>2020</th>\n",
       "      <th>2021</th>\n",
       "    </tr>\n",
       "  </thead>\n",
       "  <tbody>\n",
       "    <tr>\n",
       "      <th>0</th>\n",
       "      <td>서울특별시</td>\n",
       "      <td>15839.0</td>\n",
       "      <td>15650.1</td>\n",
       "    </tr>\n",
       "    <tr>\n",
       "      <th>1</th>\n",
       "      <td>제주도</td>\n",
       "      <td>362.6</td>\n",
       "      <td>363.8</td>\n",
       "    </tr>\n",
       "  </tbody>\n",
       "</table>\n",
       "</div>"
      ],
      "text/plain": [
       "      지역     2020     2021\n",
       "0  서울특별시  15839.0  15650.1\n",
       "1    제주도    362.6    363.8"
      ]
     },
     "execution_count": 133,
     "metadata": {},
     "output_type": "execute_result"
    }
   ],
   "source": [
    "people"
   ]
  },
  {
   "cell_type": "code",
   "execution_count": 128,
   "metadata": {},
   "outputs": [],
   "source": [
    "plt.rcParams['font.family'] = 'Malgun Gothic'\n",
    "plt.rcParams['font.size'] = 15\n",
    "plt.rcParams['axes.unicode_minus']=False  "
   ]
  },
  {
   "cell_type": "code",
   "execution_count": 148,
   "metadata": {},
   "outputs": [
    {
     "data": {
      "image/png": "[encoded data removed]",
      "text/plain": [
       "<Figure size 640x480 with 1 Axes>"
      ]
     },
     "metadata": {},
     "output_type": "display_data"
    }
   ],
   "source": [
    "plt.pie(people['2020'],labels=people['지역'],autopct='%1.1f%%')\n",
    "plt.show()"
   ]
  },
  {
   "cell_type": "code",
   "execution_count": null,
   "metadata": {},
   "outputs": [],
   "source": []
  }
 ],
 "metadata": {
  "kernelspec": {
   "display_name": "base",
   "language": "python",
   "name": "python3"
  },
  "language_info": {
   "codemirror_mode": {
    "name": "ipython",
    "version": 3
   },
   "file_extension": ".py",
   "mimetype": "text/x-python",
   "name": "python",
   "nbconvert_exporter": "python",
   "pygments_lexer": "ipython3",
   "version": "3.10.9"
  },
  "orig_nbformat": 4
 },
 "nbformat": 4,
 "nbformat_minor": 2
}
