{
 "cells": [
  {
   "cell_type": "code",
   "execution_count": 3,
   "metadata": {},
   "outputs": [],
   "source": [
    "import seaborn as sns\n",
    "import matplotlib.pyplot as plt\n",
    "import pandas as pd\n",
    "import numpy as np\n",
    "\n",
    "import warnings\n",
    "warnings.filterwarnings(action='ignore')\n",
    "\n",
    "\n",
    "from matplotlib import font_manager, rc # 폰트 세팅을 위한 모듈 추가\n",
    "font_path = \"C:/Windows/Fonts/malgun.ttf\" # 사용할 폰트명 경로 삽입\n",
    "font = font_manager.FontProperties(fname = font_path).get_name()\n",
    "rc('font', family = font)"
   ]
  },
  {
   "cell_type": "code",
   "execution_count": 4,
   "metadata": {},
   "outputs": [
    {
     "data": {
      "text/html": [
       "<div>\n",
       "<style scoped>\n",
       "    .dataframe tbody tr th:only-of-type {\n",
       "        vertical-align: middle;\n",
       "    }\n",
       "\n",
       "    .dataframe tbody tr th {\n",
       "        vertical-align: top;\n",
       "    }\n",
       "\n",
       "    .dataframe thead th {\n",
       "        text-align: right;\n",
       "    }\n",
       "</style>\n",
       "<table border=\"1\" class=\"dataframe\">\n",
       "  <thead>\n",
       "    <tr style=\"text-align: right;\">\n",
       "      <th></th>\n",
       "      <th>Unnamed: 0</th>\n",
       "      <th>본부</th>\n",
       "      <th>사업소</th>\n",
       "      <th>충전소명</th>\n",
       "      <th>충전기</th>\n",
       "      <th>충전기ID</th>\n",
       "      <th>주소</th>\n",
       "      <th>충전기구분</th>\n",
       "      <th>충전용량</th>\n",
       "      <th>충전량</th>\n",
       "      <th>충전시간</th>\n",
       "      <th>충전분</th>\n",
       "      <th>충전종료일자</th>\n",
       "      <th>충전시작시각</th>\n",
       "      <th>충전종료시각</th>\n",
       "      <th>시</th>\n",
       "      <th>구</th>\n",
       "      <th>도로명주소</th>\n",
       "    </tr>\n",
       "  </thead>\n",
       "  <tbody>\n",
       "    <tr>\n",
       "      <th>0</th>\n",
       "      <td>24</td>\n",
       "      <td>제주</td>\n",
       "      <td>서귀포</td>\n",
       "      <td>삼정지에듀</td>\n",
       "      <td>완속02</td>\n",
       "      <td>3646</td>\n",
       "      <td>제주특별자치도 서귀포시 대정읍 에듀시티로 148 (보성리, 삼정 G.edu)</td>\n",
       "      <td>완속</td>\n",
       "      <td>7.0</td>\n",
       "      <td>42.55</td>\n",
       "      <td>6</td>\n",
       "      <td>38</td>\n",
       "      <td>2021-01-01</td>\n",
       "      <td>2021-01-01 16:01:42</td>\n",
       "      <td>2021-01-01 22:40:05</td>\n",
       "      <td>제주특별자치도</td>\n",
       "      <td>서귀포시</td>\n",
       "      <td>대정읍 에듀시티로 148 (보성리, 삼정 G.edu)</td>\n",
       "    </tr>\n",
       "    <tr>\n",
       "      <th>1</th>\n",
       "      <td>29</td>\n",
       "      <td>제주</td>\n",
       "      <td>제주직할</td>\n",
       "      <td>삼양2동 공영주차장</td>\n",
       "      <td>급속01</td>\n",
       "      <td>8061</td>\n",
       "      <td>제주특별자치도 제주시 삼양2동 2176-13</td>\n",
       "      <td>급속</td>\n",
       "      <td>50.0</td>\n",
       "      <td>45.03</td>\n",
       "      <td>1</td>\n",
       "      <td>21</td>\n",
       "      <td>2021-01-01</td>\n",
       "      <td>2021-01-01 22:30:09</td>\n",
       "      <td>2021-01-01 23:51:43</td>\n",
       "      <td>제주특별자치도</td>\n",
       "      <td>제주시</td>\n",
       "      <td>삼양2동 2176-13</td>\n",
       "    </tr>\n",
       "    <tr>\n",
       "      <th>2</th>\n",
       "      <td>33</td>\n",
       "      <td>제주</td>\n",
       "      <td>제주직할</td>\n",
       "      <td>LH제주본부</td>\n",
       "      <td>급속01</td>\n",
       "      <td>1431</td>\n",
       "      <td>제주특별자치도 제주시 삼도1동 305-4</td>\n",
       "      <td>급속</td>\n",
       "      <td>50.0</td>\n",
       "      <td>63.61</td>\n",
       "      <td>2</td>\n",
       "      <td>24</td>\n",
       "      <td>2021-01-01</td>\n",
       "      <td>2021-01-01 20:19:25</td>\n",
       "      <td>2021-01-01 22:43:25</td>\n",
       "      <td>제주특별자치도</td>\n",
       "      <td>제주시</td>\n",
       "      <td>삼도1동 305-4</td>\n",
       "    </tr>\n",
       "    <tr>\n",
       "      <th>3</th>\n",
       "      <td>35</td>\n",
       "      <td>제주</td>\n",
       "      <td>서귀포</td>\n",
       "      <td>삼아 아파트</td>\n",
       "      <td>완속02</td>\n",
       "      <td>5241</td>\n",
       "      <td>제주특별자치도 서귀포시 동홍동 태평로 536</td>\n",
       "      <td>완속</td>\n",
       "      <td>7.0</td>\n",
       "      <td>7.80</td>\n",
       "      <td>1</td>\n",
       "      <td>29</td>\n",
       "      <td>2021-01-01</td>\n",
       "      <td>2021-01-01 21:14:36</td>\n",
       "      <td>2021-01-01 22:43:37</td>\n",
       "      <td>제주특별자치도</td>\n",
       "      <td>서귀포시</td>\n",
       "      <td>동홍동 태평로 536</td>\n",
       "    </tr>\n",
       "    <tr>\n",
       "      <th>4</th>\n",
       "      <td>41</td>\n",
       "      <td>제주</td>\n",
       "      <td>제주직할</td>\n",
       "      <td>아라인빌</td>\n",
       "      <td>완속01</td>\n",
       "      <td>7685</td>\n",
       "      <td>제주특별자치도 제주시 제주대학로 64-29</td>\n",
       "      <td>완속</td>\n",
       "      <td>7.0</td>\n",
       "      <td>14.80</td>\n",
       "      <td>4</td>\n",
       "      <td>37</td>\n",
       "      <td>2021-01-01</td>\n",
       "      <td>2021-01-01 17:55:45</td>\n",
       "      <td>2021-01-01 22:33:40</td>\n",
       "      <td>제주특별자치도</td>\n",
       "      <td>제주시</td>\n",
       "      <td>제주대학로 64-29</td>\n",
       "    </tr>\n",
       "    <tr>\n",
       "      <th>...</th>\n",
       "      <td>...</td>\n",
       "      <td>...</td>\n",
       "      <td>...</td>\n",
       "      <td>...</td>\n",
       "      <td>...</td>\n",
       "      <td>...</td>\n",
       "      <td>...</td>\n",
       "      <td>...</td>\n",
       "      <td>...</td>\n",
       "      <td>...</td>\n",
       "      <td>...</td>\n",
       "      <td>...</td>\n",
       "      <td>...</td>\n",
       "      <td>...</td>\n",
       "      <td>...</td>\n",
       "      <td>...</td>\n",
       "      <td>...</td>\n",
       "      <td>...</td>\n",
       "    </tr>\n",
       "    <tr>\n",
       "      <th>181584</th>\n",
       "      <td>2097129</td>\n",
       "      <td>제주</td>\n",
       "      <td>제주직할</td>\n",
       "      <td>노형아이파크</td>\n",
       "      <td>완속02</td>\n",
       "      <td>3519</td>\n",
       "      <td>제주특별자치도 제주시 노형동 원노형로 90</td>\n",
       "      <td>완속</td>\n",
       "      <td>7.0</td>\n",
       "      <td>18.90</td>\n",
       "      <td>3</td>\n",
       "      <td>7</td>\n",
       "      <td>2021-10-17</td>\n",
       "      <td>2021-10-16 22:08:32</td>\n",
       "      <td>2021-10-17 01:15:58</td>\n",
       "      <td>제주특별자치도</td>\n",
       "      <td>제주시</td>\n",
       "      <td>노형동 원노형로 90</td>\n",
       "    </tr>\n",
       "    <tr>\n",
       "      <th>181585</th>\n",
       "      <td>2097135</td>\n",
       "      <td>제주</td>\n",
       "      <td>서귀포</td>\n",
       "      <td>중문메리디안</td>\n",
       "      <td>완속02</td>\n",
       "      <td>5849</td>\n",
       "      <td>제주특별자치도 서귀포시 중문동 1100로 36</td>\n",
       "      <td>완속</td>\n",
       "      <td>7.0</td>\n",
       "      <td>26.79</td>\n",
       "      <td>4</td>\n",
       "      <td>31</td>\n",
       "      <td>2021-10-17</td>\n",
       "      <td>2021-10-16 21:35:11</td>\n",
       "      <td>2021-10-17 02:06:26</td>\n",
       "      <td>제주특별자치도</td>\n",
       "      <td>서귀포시</td>\n",
       "      <td>중문동 1100로 36</td>\n",
       "    </tr>\n",
       "    <tr>\n",
       "      <th>181586</th>\n",
       "      <td>2097137</td>\n",
       "      <td>제주</td>\n",
       "      <td>제주직할</td>\n",
       "      <td>노형지구중흥S클래스 아파트</td>\n",
       "      <td>완속02</td>\n",
       "      <td>3522</td>\n",
       "      <td>제주특별자치도 제주시 노형동 광평동로 66</td>\n",
       "      <td>완속</td>\n",
       "      <td>7.0</td>\n",
       "      <td>32.33</td>\n",
       "      <td>5</td>\n",
       "      <td>54</td>\n",
       "      <td>2021-10-17</td>\n",
       "      <td>2021-10-16 21:05:09</td>\n",
       "      <td>2021-10-17 03:00:06</td>\n",
       "      <td>제주특별자치도</td>\n",
       "      <td>제주시</td>\n",
       "      <td>노형동 광평동로 66</td>\n",
       "    </tr>\n",
       "    <tr>\n",
       "      <th>181587</th>\n",
       "      <td>2097143</td>\n",
       "      <td>제주</td>\n",
       "      <td>제주직할</td>\n",
       "      <td>제주으뜸마을LH 아파트</td>\n",
       "      <td>급속01</td>\n",
       "      <td>3610</td>\n",
       "      <td>제주특별자치도 제주시 노형동 진군1길 3</td>\n",
       "      <td>급속</td>\n",
       "      <td>50.0</td>\n",
       "      <td>16.88</td>\n",
       "      <td>0</td>\n",
       "      <td>29</td>\n",
       "      <td>2021-10-17</td>\n",
       "      <td>2021-10-17 12:22:40</td>\n",
       "      <td>2021-10-17 12:51:44</td>\n",
       "      <td>제주특별자치도</td>\n",
       "      <td>제주시</td>\n",
       "      <td>노형동 진군1길 3</td>\n",
       "    </tr>\n",
       "    <tr>\n",
       "      <th>181588</th>\n",
       "      <td>2097146</td>\n",
       "      <td>제주</td>\n",
       "      <td>서귀포</td>\n",
       "      <td>서귀포지사</td>\n",
       "      <td>급속02</td>\n",
       "      <td>8819</td>\n",
       "      <td>제주특별자치도 서귀포시 신중로 56</td>\n",
       "      <td>급속</td>\n",
       "      <td>50.0</td>\n",
       "      <td>67.99</td>\n",
       "      <td>2</td>\n",
       "      <td>18</td>\n",
       "      <td>2021-10-17</td>\n",
       "      <td>2021-10-17 18:24:50</td>\n",
       "      <td>2021-10-17 20:43:29</td>\n",
       "      <td>제주특별자치도</td>\n",
       "      <td>서귀포시</td>\n",
       "      <td>신중로 56</td>\n",
       "    </tr>\n",
       "  </tbody>\n",
       "</table>\n",
       "<p>181589 rows × 18 columns</p>\n",
       "</div>"
      ],
      "text/plain": [
       "        Unnamed: 0  본부   사업소            충전소명   충전기  충전기ID  \\\n",
       "0               24  제주   서귀포           삼정지에듀  완속02   3646   \n",
       "1               29  제주  제주직할      삼양2동 공영주차장  급속01   8061   \n",
       "2               33  제주  제주직할          LH제주본부  급속01   1431   \n",
       "3               35  제주   서귀포          삼아 아파트  완속02   5241   \n",
       "4               41  제주  제주직할            아라인빌  완속01   7685   \n",
       "...            ...  ..   ...             ...   ...    ...   \n",
       "181584     2097129  제주  제주직할          노형아이파크  완속02   3519   \n",
       "181585     2097135  제주   서귀포          중문메리디안  완속02   5849   \n",
       "181586     2097137  제주  제주직할  노형지구중흥S클래스 아파트  완속02   3522   \n",
       "181587     2097143  제주  제주직할    제주으뜸마을LH 아파트  급속01   3610   \n",
       "181588     2097146  제주   서귀포           서귀포지사  급속02   8819   \n",
       "\n",
       "                                                주소 충전기구분  충전용량    충전량  충전시간  \\\n",
       "0       제주특별자치도 서귀포시 대정읍 에듀시티로 148 (보성리, 삼정 G.edu)    완속   7.0  42.55     6   \n",
       "1                         제주특별자치도 제주시 삼양2동 2176-13    급속  50.0  45.03     1   \n",
       "2                           제주특별자치도 제주시 삼도1동 305-4    급속  50.0  63.61     2   \n",
       "3                         제주특별자치도 서귀포시 동홍동 태평로 536    완속   7.0   7.80     1   \n",
       "4                          제주특별자치도 제주시 제주대학로 64-29    완속   7.0  14.80     4   \n",
       "...                                            ...   ...   ...    ...   ...   \n",
       "181584                     제주특별자치도 제주시 노형동 원노형로 90    완속   7.0  18.90     3   \n",
       "181585                   제주특별자치도 서귀포시 중문동 1100로 36    완속   7.0  26.79     4   \n",
       "181586                     제주특별자치도 제주시 노형동 광평동로 66    완속   7.0  32.33     5   \n",
       "181587                      제주특별자치도 제주시 노형동 진군1길 3    급속  50.0  16.88     0   \n",
       "181588                         제주특별자치도 서귀포시 신중로 56    급속  50.0  67.99     2   \n",
       "\n",
       "        충전분      충전종료일자               충전시작시각               충전종료시각        시  \\\n",
       "0        38  2021-01-01  2021-01-01 16:01:42  2021-01-01 22:40:05  제주특별자치도   \n",
       "1        21  2021-01-01  2021-01-01 22:30:09  2021-01-01 23:51:43  제주특별자치도   \n",
       "2        24  2021-01-01  2021-01-01 20:19:25  2021-01-01 22:43:25  제주특별자치도   \n",
       "3        29  2021-01-01  2021-01-01 21:14:36  2021-01-01 22:43:37  제주특별자치도   \n",
       "4        37  2021-01-01  2021-01-01 17:55:45  2021-01-01 22:33:40  제주특별자치도   \n",
       "...     ...         ...                  ...                  ...      ...   \n",
       "181584    7  2021-10-17  2021-10-16 22:08:32  2021-10-17 01:15:58  제주특별자치도   \n",
       "181585   31  2021-10-17  2021-10-16 21:35:11  2021-10-17 02:06:26  제주특별자치도   \n",
       "181586   54  2021-10-17  2021-10-16 21:05:09  2021-10-17 03:00:06  제주특별자치도   \n",
       "181587   29  2021-10-17  2021-10-17 12:22:40  2021-10-17 12:51:44  제주특별자치도   \n",
       "181588   18  2021-10-17  2021-10-17 18:24:50  2021-10-17 20:43:29  제주특별자치도   \n",
       "\n",
       "           구                          도로명주소  \n",
       "0       서귀포시  대정읍 에듀시티로 148 (보성리, 삼정 G.edu)  \n",
       "1        제주시                   삼양2동 2176-13  \n",
       "2        제주시                     삼도1동 305-4  \n",
       "3       서귀포시                    동홍동 태평로 536  \n",
       "4        제주시                    제주대학로 64-29  \n",
       "...      ...                            ...  \n",
       "181584   제주시                    노형동 원노형로 90  \n",
       "181585  서귀포시                   중문동 1100로 36  \n",
       "181586   제주시                    노형동 광평동로 66  \n",
       "181587   제주시                     노형동 진군1길 3  \n",
       "181588  서귀포시                         신중로 56  \n",
       "\n",
       "[181589 rows x 18 columns]"
      ]
     },
     "execution_count": 4,
     "metadata": {},
     "output_type": "execute_result"
    }
   ],
   "source": [
    "chardatajeju_df = pd.read_excel('제주21년1월부터12월이상치+주소정리.xlsx')\n",
    "chardatajeju_df"
   ]
  },
  {
   "cell_type": "code",
   "execution_count": 5,
   "metadata": {},
   "outputs": [],
   "source": [
    "chardatajeju21_df = chardatajeju_df.loc[:, ['본부', '사업소', '충전소명', '충전기', '주소', '충전기구분', '충전용량', '구']]"
   ]
  },
  {
   "cell_type": "code",
   "execution_count": 6,
   "metadata": {},
   "outputs": [
    {
     "data": {
      "text/html": [
       "<div>\n",
       "<style scoped>\n",
       "    .dataframe tbody tr th:only-of-type {\n",
       "        vertical-align: middle;\n",
       "    }\n",
       "\n",
       "    .dataframe tbody tr th {\n",
       "        vertical-align: top;\n",
       "    }\n",
       "\n",
       "    .dataframe thead th {\n",
       "        text-align: right;\n",
       "    }\n",
       "</style>\n",
       "<table border=\"1\" class=\"dataframe\">\n",
       "  <thead>\n",
       "    <tr style=\"text-align: right;\">\n",
       "      <th></th>\n",
       "      <th>본부</th>\n",
       "      <th>사업소</th>\n",
       "      <th>충전소명</th>\n",
       "      <th>충전기</th>\n",
       "      <th>주소</th>\n",
       "      <th>충전기구분</th>\n",
       "      <th>충전용량</th>\n",
       "      <th>구</th>\n",
       "    </tr>\n",
       "  </thead>\n",
       "  <tbody>\n",
       "    <tr>\n",
       "      <th>0</th>\n",
       "      <td>제주</td>\n",
       "      <td>서귀포</td>\n",
       "      <td>삼정지에듀</td>\n",
       "      <td>완속02</td>\n",
       "      <td>제주특별자치도 서귀포시 대정읍 에듀시티로 148 (보성리, 삼정 G.edu)</td>\n",
       "      <td>완속</td>\n",
       "      <td>7.0</td>\n",
       "      <td>서귀포시</td>\n",
       "    </tr>\n",
       "    <tr>\n",
       "      <th>1</th>\n",
       "      <td>제주</td>\n",
       "      <td>제주직할</td>\n",
       "      <td>삼양2동 공영주차장</td>\n",
       "      <td>급속01</td>\n",
       "      <td>제주특별자치도 제주시 삼양2동 2176-13</td>\n",
       "      <td>급속</td>\n",
       "      <td>50.0</td>\n",
       "      <td>제주시</td>\n",
       "    </tr>\n",
       "    <tr>\n",
       "      <th>2</th>\n",
       "      <td>제주</td>\n",
       "      <td>제주직할</td>\n",
       "      <td>LH제주본부</td>\n",
       "      <td>급속01</td>\n",
       "      <td>제주특별자치도 제주시 삼도1동 305-4</td>\n",
       "      <td>급속</td>\n",
       "      <td>50.0</td>\n",
       "      <td>제주시</td>\n",
       "    </tr>\n",
       "    <tr>\n",
       "      <th>3</th>\n",
       "      <td>제주</td>\n",
       "      <td>서귀포</td>\n",
       "      <td>삼아 아파트</td>\n",
       "      <td>완속02</td>\n",
       "      <td>제주특별자치도 서귀포시 동홍동 태평로 536</td>\n",
       "      <td>완속</td>\n",
       "      <td>7.0</td>\n",
       "      <td>서귀포시</td>\n",
       "    </tr>\n",
       "    <tr>\n",
       "      <th>4</th>\n",
       "      <td>제주</td>\n",
       "      <td>제주직할</td>\n",
       "      <td>아라인빌</td>\n",
       "      <td>완속01</td>\n",
       "      <td>제주특별자치도 제주시 제주대학로 64-29</td>\n",
       "      <td>완속</td>\n",
       "      <td>7.0</td>\n",
       "      <td>제주시</td>\n",
       "    </tr>\n",
       "    <tr>\n",
       "      <th>...</th>\n",
       "      <td>...</td>\n",
       "      <td>...</td>\n",
       "      <td>...</td>\n",
       "      <td>...</td>\n",
       "      <td>...</td>\n",
       "      <td>...</td>\n",
       "      <td>...</td>\n",
       "      <td>...</td>\n",
       "    </tr>\n",
       "    <tr>\n",
       "      <th>175082</th>\n",
       "      <td>환경부</td>\n",
       "      <td>환경부</td>\n",
       "      <td>한국산업인력공단 제주지사</td>\n",
       "      <td>급속01</td>\n",
       "      <td>제주특별자치도 제주시 복지로 19</td>\n",
       "      <td>급속</td>\n",
       "      <td>NaN</td>\n",
       "      <td>제주시</td>\n",
       "    </tr>\n",
       "    <tr>\n",
       "      <th>175130</th>\n",
       "      <td>환경부</td>\n",
       "      <td>환경부</td>\n",
       "      <td>대정감협 인근 공영주차장</td>\n",
       "      <td>급속01</td>\n",
       "      <td>제주특별자치도 서귀포시 대정읍 하모리 964-2</td>\n",
       "      <td>급속</td>\n",
       "      <td>NaN</td>\n",
       "      <td>서귀포시</td>\n",
       "    </tr>\n",
       "    <tr>\n",
       "      <th>175276</th>\n",
       "      <td>환경부</td>\n",
       "      <td>환경부</td>\n",
       "      <td>제주농업기술센터</td>\n",
       "      <td>급속02</td>\n",
       "      <td>제주특별자치도 제주시 애월읍 상귀길 173</td>\n",
       "      <td>급속</td>\n",
       "      <td>NaN</td>\n",
       "      <td>제주시</td>\n",
       "    </tr>\n",
       "    <tr>\n",
       "      <th>177353</th>\n",
       "      <td>환경부</td>\n",
       "      <td>환경부</td>\n",
       "      <td>서귀포보건소</td>\n",
       "      <td>급속01</td>\n",
       "      <td>제주특별자치도 서귀포시 중앙로 101번길 52</td>\n",
       "      <td>급속</td>\n",
       "      <td>NaN</td>\n",
       "      <td>서귀포시</td>\n",
       "    </tr>\n",
       "    <tr>\n",
       "      <th>179692</th>\n",
       "      <td>환경부</td>\n",
       "      <td>환경부</td>\n",
       "      <td>용두암 공영주차장</td>\n",
       "      <td>급속01</td>\n",
       "      <td>제주특별자치도 제주시 용두암길15</td>\n",
       "      <td>급속</td>\n",
       "      <td>NaN</td>\n",
       "      <td>제주시</td>\n",
       "    </tr>\n",
       "  </tbody>\n",
       "</table>\n",
       "<p>668 rows × 8 columns</p>\n",
       "</div>"
      ],
      "text/plain": [
       "         본부   사업소           충전소명   충전기  \\\n",
       "0        제주   서귀포          삼정지에듀  완속02   \n",
       "1        제주  제주직할     삼양2동 공영주차장  급속01   \n",
       "2        제주  제주직할         LH제주본부  급속01   \n",
       "3        제주   서귀포         삼아 아파트  완속02   \n",
       "4        제주  제주직할           아라인빌  완속01   \n",
       "...     ...   ...            ...   ...   \n",
       "175082  환경부   환경부  한국산업인력공단 제주지사  급속01   \n",
       "175130  환경부   환경부  대정감협 인근 공영주차장  급속01   \n",
       "175276  환경부   환경부       제주농업기술센터  급속02   \n",
       "177353  환경부   환경부         서귀포보건소  급속01   \n",
       "179692  환경부   환경부      용두암 공영주차장  급속01   \n",
       "\n",
       "                                                주소 충전기구분  충전용량     구  \n",
       "0       제주특별자치도 서귀포시 대정읍 에듀시티로 148 (보성리, 삼정 G.edu)    완속   7.0  서귀포시  \n",
       "1                         제주특별자치도 제주시 삼양2동 2176-13    급속  50.0   제주시  \n",
       "2                           제주특별자치도 제주시 삼도1동 305-4    급속  50.0   제주시  \n",
       "3                         제주특별자치도 서귀포시 동홍동 태평로 536    완속   7.0  서귀포시  \n",
       "4                          제주특별자치도 제주시 제주대학로 64-29    완속   7.0   제주시  \n",
       "...                                            ...   ...   ...   ...  \n",
       "175082                          제주특별자치도 제주시 복지로 19    급속   NaN   제주시  \n",
       "175130                  제주특별자치도 서귀포시 대정읍 하모리 964-2    급속   NaN  서귀포시  \n",
       "175276                     제주특별자치도 제주시 애월읍 상귀길 173    급속   NaN   제주시  \n",
       "177353                   제주특별자치도 서귀포시 중앙로 101번길 52    급속   NaN  서귀포시  \n",
       "179692                          제주특별자치도 제주시 용두암길15    급속   NaN   제주시  \n",
       "\n",
       "[668 rows x 8 columns]"
      ]
     },
     "execution_count": 6,
     "metadata": {},
     "output_type": "execute_result"
    }
   ],
   "source": [
    "chardatajeju21_df = chardatajeju21_df.drop_duplicates()\n",
    "chardatajeju21_df"
   ]
  },
  {
   "cell_type": "code",
   "execution_count": 7,
   "metadata": {},
   "outputs": [
    {
     "name": "stdout",
     "output_type": "stream",
     "text": [
      "제주시     477\n",
      "서귀포시    191\n",
      "Name: 구, dtype: int64\n"
     ]
    }
   ],
   "source": [
    "print(chardatajeju21_df['구'].value_counts())"
   ]
  },
  {
   "cell_type": "code",
   "execution_count": 8,
   "metadata": {},
   "outputs": [
    {
     "data": {
      "text/plain": [
       "<bound method NDFrame._add_numeric_operations.<locals>.sum of 0         서귀포시\n",
       "1          제주시\n",
       "2          제주시\n",
       "3         서귀포시\n",
       "4          제주시\n",
       "          ... \n",
       "175082     제주시\n",
       "175130    서귀포시\n",
       "175276     제주시\n",
       "177353    서귀포시\n",
       "179692     제주시\n",
       "Name: 구, Length: 668, dtype: object>"
      ]
     },
     "execution_count": 8,
     "metadata": {},
     "output_type": "execute_result"
    }
   ],
   "source": [
    "chardatajeju21_df['구'].sum"
   ]
  },
  {
   "cell_type": "code",
   "execution_count": 18,
   "metadata": {},
   "outputs": [
    {
     "data": {
      "text/plain": [
       "제주시     0.71\n",
       "서귀포시    0.29\n",
       "Name: 구, dtype: float64"
      ]
     },
     "execution_count": 18,
     "metadata": {},
     "output_type": "execute_result"
    }
   ],
   "source": [
    "# 2021년 제주도 구별 충전소 가동률\n",
    "np.round(chardatajeju21_df['구'].value_counts().div(668),2)"
   ]
  },
  {
   "cell_type": "code",
   "execution_count": 19,
   "metadata": {},
   "outputs": [
    {
     "data": {
      "image/png": "[encoded data removed]",
      "text/plain": [
       "<Figure size 640x480 with 1 Axes>"
      ]
     },
     "metadata": {},
     "output_type": "display_data"
    }
   ],
   "source": [
    "# 2021년 전기차 충전소 가동비율 그래프\n",
    "ratio = [71,29]\n",
    "labels = ['제주시', '서귀포시']\n",
    "plt.pie(ratio, labels=labels, autopct='%.1f%%', startangle=260, counterclock=False, shadow=True)\n",
    "plt.show()"
   ]
  },
  {
   "cell_type": "code",
   "execution_count": 20,
   "metadata": {},
   "outputs": [
    {
     "name": "stdout",
     "output_type": "stream",
     "text": [
      "급속    446\n",
      "완속    222\n",
      "Name: 충전기구분, dtype: int64\n"
     ]
    }
   ],
   "source": [
    "# 2021년 제주도 전기차 충전소 급속, 완속 충전기합\n",
    "print(chardatajeju21_df['충전기구분'].value_counts())"
   ]
  },
  {
   "cell_type": "code",
   "execution_count": 21,
   "metadata": {},
   "outputs": [
    {
     "data": {
      "text/plain": [
       "<Axes: >"
      ]
     },
     "execution_count": 21,
     "metadata": {},
     "output_type": "execute_result"
    },
    {
     "data": {
      "image/png": "[encoded data removed]",
      "text/plain": [
       "<Figure size 1000x500 with 1 Axes>"
      ]
     },
     "metadata": {},
     "output_type": "display_data"
    }
   ],
   "source": [
    "# 21년도 충전기 대수 가동 현황 총합 (완속, 급속)\n",
    "\n",
    "chargerjeju20dist = pd.value_counts(chardatajeju21_df['충전기구분'].values, sort=True, ascending = True)\n",
    "chargerjeju20dist.plot.barh()\n",
    "chargerjeju20dist.plot.barh(grid=True, color = ['red', 'yellow'], edgecolor = 'black', linewidth = 2.5, figsize=(10,5), fontsize=15)"
   ]
  },
  {
   "cell_type": "code",
   "execution_count": 22,
   "metadata": {},
   "outputs": [
    {
     "data": {
      "text/html": [
       "<div>\n",
       "<style scoped>\n",
       "    .dataframe tbody tr th:only-of-type {\n",
       "        vertical-align: middle;\n",
       "    }\n",
       "\n",
       "    .dataframe tbody tr th {\n",
       "        vertical-align: top;\n",
       "    }\n",
       "\n",
       "    .dataframe thead th {\n",
       "        text-align: right;\n",
       "    }\n",
       "</style>\n",
       "<table border=\"1\" class=\"dataframe\">\n",
       "  <thead>\n",
       "    <tr style=\"text-align: right;\">\n",
       "      <th></th>\n",
       "      <th></th>\n",
       "      <th>0</th>\n",
       "    </tr>\n",
       "    <tr>\n",
       "      <th>구</th>\n",
       "      <th>충전기구분</th>\n",
       "      <th></th>\n",
       "    </tr>\n",
       "  </thead>\n",
       "  <tbody>\n",
       "    <tr>\n",
       "      <th rowspan=\"2\" valign=\"top\">서귀포시</th>\n",
       "      <th>급속</th>\n",
       "      <td>151</td>\n",
       "    </tr>\n",
       "    <tr>\n",
       "      <th>완속</th>\n",
       "      <td>40</td>\n",
       "    </tr>\n",
       "    <tr>\n",
       "      <th rowspan=\"2\" valign=\"top\">제주시</th>\n",
       "      <th>급속</th>\n",
       "      <td>295</td>\n",
       "    </tr>\n",
       "    <tr>\n",
       "      <th>완속</th>\n",
       "      <td>182</td>\n",
       "    </tr>\n",
       "  </tbody>\n",
       "</table>\n",
       "</div>"
      ],
      "text/plain": [
       "              0\n",
       "구    충전기구분     \n",
       "서귀포시 급속     151\n",
       "     완속      40\n",
       "제주시  급속     295\n",
       "     완속     182"
      ]
     },
     "execution_count": 22,
     "metadata": {},
     "output_type": "execute_result"
    }
   ],
   "source": [
    "# 2021년도 제주도 자치구별, 충전기구분별 데이터 프레임을 추출합니다.\n",
    "\n",
    "chargerjeju21_df = chardatajeju21_df[['구', '충전기구분']]\n",
    "chargerjeju21_df = chargerjeju21_df.groupby([\"구\", \"충전기구분\"]).size()\n",
    "pd.DataFrame(chargerjeju21_df)"
   ]
  },
  {
   "cell_type": "code",
   "execution_count": 23,
   "metadata": {},
   "outputs": [
    {
     "data": {
      "text/plain": [
       "(array([0, 1, 2, 3]),\n",
       " [Text(0, 0, '(서귀포시, 급속)'),\n",
       "  Text(1, 0, '(서귀포시, 완속)'),\n",
       "  Text(2, 0, '(제주시, 급속)'),\n",
       "  Text(3, 0, '(제주시, 완속)')])"
      ]
     },
     "execution_count": 23,
     "metadata": {},
     "output_type": "execute_result"
    },
    {
     "data": {
      "image/png": "[encoded data removed]",
      "text/plain": [
       "<Figure size 1500x500 with 1 Axes>"
      ]
     },
     "metadata": {},
     "output_type": "display_data"
    }
   ],
   "source": [
    "# 2020년도 제주도 자치구별 충전기 가동 현황을  시각화합니다. (구, 급속, 완속)\n",
    "\n",
    "chargerjeju21_df.plot.bar()\n",
    "chargerjeju21_df.plot.bar(grid=True, color = ['red', 'yellow'], edgecolor = 'black', linewidth = 2.5, figsize=(15,5), fontsize=13)\n",
    "plt.xticks(rotation = 360)"
   ]
  },
  {
   "cell_type": "code",
   "execution_count": 29,
   "metadata": {},
   "outputs": [
    {
     "name": "stdout",
     "output_type": "stream",
     "text": [
      "제주시     131162\n",
      "서귀포시     50427\n",
      "Name: 구, dtype: int64\n"
     ]
    }
   ],
   "source": [
    "# 2021년도 전기차충전소 사용빈도(제주시/서귀포시)\n",
    "print(chardatajeju_df['구'].value_counts())"
   ]
  },
  {
   "cell_type": "code",
   "execution_count": 33,
   "metadata": {},
   "outputs": [
    {
     "data": {
      "text/plain": [
       "<Axes: >"
      ]
     },
     "execution_count": 33,
     "metadata": {},
     "output_type": "execute_result"
    },
    {
     "data": {
      "image/png": "[encoded data removed]",
      "text/plain": [
       "<Figure size 1000x800 with 1 Axes>"
      ]
     },
     "metadata": {},
     "output_type": "display_data"
    }
   ],
   "source": [
    "# 2021년도 제주도 전기차 충전소 사용 빈도 시각화\n",
    "\n",
    "chargecountjeju21_df = pd.value_counts(chardatajeju_df['구'].values, sort=True, ascending = True)\n",
    "chargecountjeju21_df.plot.barh()\n",
    "chargecountjeju21_df.plot.barh(grid=True, color = ['red', 'yellow'], edgecolor = 'black', linewidth = 2.5, figsize=(10,8), fontsize=15)"
   ]
  },
  {
   "cell_type": "code",
   "execution_count": 31,
   "metadata": {},
   "outputs": [
    {
     "name": "stdout",
     "output_type": "stream",
     "text": [
      "급속    131692\n",
      "완속     49897\n",
      "Name: 충전기구분, dtype: int64\n"
     ]
    }
   ],
   "source": [
    "# 2021년도 전기차충전소 사용빈도(급속/완속)\n",
    "print(chardatajeju_df['충전기구분'].value_counts())"
   ]
  },
  {
   "cell_type": "code",
   "execution_count": 34,
   "metadata": {},
   "outputs": [
    {
     "data": {
      "text/plain": [
       "<Axes: >"
      ]
     },
     "execution_count": 34,
     "metadata": {},
     "output_type": "execute_result"
    },
    {
     "data": {
      "image/png": "[encoded data removed]",
      "text/plain": [
       "<Figure size 1000x800 with 1 Axes>"
      ]
     },
     "metadata": {},
     "output_type": "display_data"
    }
   ],
   "source": [
    "# 2021년도 제주도 전기차 충전소(급속/완속) 사용 빈도 시각화\n",
    "\n",
    "chargetypecountjeju21_df = pd.value_counts(chardatajeju_df['충전기구분'].values, sort=True, ascending = True)\n",
    "chargetypecountjeju21_df.plot.barh()\n",
    "chargetypecountjeju21_df.plot.barh(grid=True, color = ['red', 'yellow'], edgecolor = 'black', linewidth = 2.5, figsize=(10,8), fontsize=15)"
   ]
  },
  {
   "cell_type": "code",
   "execution_count": null,
   "metadata": {},
   "outputs": [],
   "source": []
  },
  {
   "cell_type": "code",
   "execution_count": null,
   "metadata": {},
   "outputs": [],
   "source": []
  }
 ],
 "metadata": {
  "kernelspec": {
   "display_name": "base",
   "language": "python",
   "name": "python3"
  },
  "language_info": {
   "codemirror_mode": {
    "name": "ipython",
    "version": 3
   },
   "file_extension": ".py",
   "mimetype": "text/x-python",
   "name": "python",
   "nbconvert_exporter": "python",
   "pygments_lexer": "ipython3",
   "version": "3.10.9"
  },
  "orig_nbformat": 4
 },
 "nbformat": 4,
 "nbformat_minor": 2
}
