{
 "cells": [
  {
   "cell_type": "code",
   "execution_count": 13,
   "metadata": {},
   "outputs": [],
   "source": [
    "import seaborn as sns\n",
    "import matplotlib.pyplot as plt\n",
    "import pandas as pd\n",
    "import numpy as np\n",
    "\n",
    "import warnings\n",
    "warnings.filterwarnings(action='ignore')\n",
    "\n",
    "\n",
    "from matplotlib import font_manager, rc # 폰트 세팅을 위한 모듈 추가\n",
    "font_path = \"C:/Windows/Fonts/malgun.ttf\" # 사용할 폰트명 경로 삽입\n",
    "font = font_manager.FontProperties(fname = font_path).get_name()\n",
    "rc('font', family = font)"
   ]
  },
  {
   "cell_type": "code",
   "execution_count": 2,
   "metadata": {},
   "outputs": [
    {
     "data": {
      "text/html": [
       "<div>\n",
       "<style scoped>\n",
       "    .dataframe tbody tr th:only-of-type {\n",
       "        vertical-align: middle;\n",
       "    }\n",
       "\n",
       "    .dataframe tbody tr th {\n",
       "        vertical-align: top;\n",
       "    }\n",
       "\n",
       "    .dataframe thead th {\n",
       "        text-align: right;\n",
       "    }\n",
       "</style>\n",
       "<table border=\"1\" class=\"dataframe\">\n",
       "  <thead>\n",
       "    <tr style=\"text-align: right;\">\n",
       "      <th></th>\n",
       "      <th>Unnamed: 0</th>\n",
       "      <th>본부</th>\n",
       "      <th>사업소</th>\n",
       "      <th>충전소명</th>\n",
       "      <th>충전기</th>\n",
       "      <th>충전기ID</th>\n",
       "      <th>주소</th>\n",
       "      <th>충전기구분</th>\n",
       "      <th>충전용량</th>\n",
       "      <th>충전량</th>\n",
       "      <th>충전시간</th>\n",
       "      <th>충전분</th>\n",
       "      <th>충전종료일자</th>\n",
       "      <th>충전시작시각</th>\n",
       "      <th>충전종료시각</th>\n",
       "      <th>시</th>\n",
       "      <th>구</th>\n",
       "      <th>도로명주소</th>\n",
       "    </tr>\n",
       "  </thead>\n",
       "  <tbody>\n",
       "    <tr>\n",
       "      <th>0</th>\n",
       "      <td>23</td>\n",
       "      <td>제주</td>\n",
       "      <td>제주직할</td>\n",
       "      <td>아이린4차 아파트</td>\n",
       "      <td>완속01</td>\n",
       "      <td>3558</td>\n",
       "      <td>제주특별자치도 제주시 이도일동 동광로 35</td>\n",
       "      <td>완속</td>\n",
       "      <td>7.0</td>\n",
       "      <td>12.30</td>\n",
       "      <td>1</td>\n",
       "      <td>57</td>\n",
       "      <td>2020-01-01</td>\n",
       "      <td>2020-01-01 20:34:00</td>\n",
       "      <td>2020-01-01 22:31:00</td>\n",
       "      <td>제주특별자치도</td>\n",
       "      <td>제주시</td>\n",
       "      <td>이도일동 동광로 35</td>\n",
       "    </tr>\n",
       "    <tr>\n",
       "      <th>1</th>\n",
       "      <td>27</td>\n",
       "      <td>제주</td>\n",
       "      <td>제주직할</td>\n",
       "      <td>아라원신 아파트</td>\n",
       "      <td>급속01</td>\n",
       "      <td>3551</td>\n",
       "      <td>제주특별자치도 제주시 아라일동 중앙로 578</td>\n",
       "      <td>급속</td>\n",
       "      <td>50.0</td>\n",
       "      <td>50.37</td>\n",
       "      <td>1</td>\n",
       "      <td>34</td>\n",
       "      <td>2020-01-01</td>\n",
       "      <td>2020-01-01 21:20:00</td>\n",
       "      <td>2020-01-01 22:54:00</td>\n",
       "      <td>제주특별자치도</td>\n",
       "      <td>제주시</td>\n",
       "      <td>아라일동 중앙로 578</td>\n",
       "    </tr>\n",
       "    <tr>\n",
       "      <th>2</th>\n",
       "      <td>43</td>\n",
       "      <td>제주</td>\n",
       "      <td>제주직할</td>\n",
       "      <td>방선문5차빌리지</td>\n",
       "      <td>완속01</td>\n",
       "      <td>3529</td>\n",
       "      <td>제주특별자치도 제주시 아라일동 아란1길 30</td>\n",
       "      <td>완속</td>\n",
       "      <td>7.0</td>\n",
       "      <td>14.36</td>\n",
       "      <td>2</td>\n",
       "      <td>13</td>\n",
       "      <td>2020-01-01</td>\n",
       "      <td>2020-01-01 20:51:00</td>\n",
       "      <td>2020-01-01 23:05:00</td>\n",
       "      <td>제주특별자치도</td>\n",
       "      <td>제주시</td>\n",
       "      <td>아라일동 아란1길 30</td>\n",
       "    </tr>\n",
       "    <tr>\n",
       "      <th>3</th>\n",
       "      <td>63</td>\n",
       "      <td>제주</td>\n",
       "      <td>제주직할</td>\n",
       "      <td>종합경기장</td>\n",
       "      <td>급속01</td>\n",
       "      <td>628</td>\n",
       "      <td>제주특별자치도 제주시 서광로2길 24 (오라일동)</td>\n",
       "      <td>급속</td>\n",
       "      <td>50.0</td>\n",
       "      <td>11.03</td>\n",
       "      <td>0</td>\n",
       "      <td>24</td>\n",
       "      <td>2020-01-01</td>\n",
       "      <td>2020-01-01 21:40:00</td>\n",
       "      <td>2020-01-01 22:05:00</td>\n",
       "      <td>제주특별자치도</td>\n",
       "      <td>제주시</td>\n",
       "      <td>서광로2길 24 (오라일동)</td>\n",
       "    </tr>\n",
       "    <tr>\n",
       "      <th>4</th>\n",
       "      <td>65</td>\n",
       "      <td>제주</td>\n",
       "      <td>제주직할</td>\n",
       "      <td>노형2차부영 아파트</td>\n",
       "      <td>완속02</td>\n",
       "      <td>3516</td>\n",
       "      <td>제주특별자치도 제주시 노형동 754-4</td>\n",
       "      <td>완속</td>\n",
       "      <td>7.0</td>\n",
       "      <td>9.44</td>\n",
       "      <td>1</td>\n",
       "      <td>48</td>\n",
       "      <td>2020-01-01</td>\n",
       "      <td>2020-01-01 21:41:00</td>\n",
       "      <td>2020-01-01 23:30:00</td>\n",
       "      <td>제주특별자치도</td>\n",
       "      <td>제주시</td>\n",
       "      <td>노형동 754-4</td>\n",
       "    </tr>\n",
       "    <tr>\n",
       "      <th>...</th>\n",
       "      <td>...</td>\n",
       "      <td>...</td>\n",
       "      <td>...</td>\n",
       "      <td>...</td>\n",
       "      <td>...</td>\n",
       "      <td>...</td>\n",
       "      <td>...</td>\n",
       "      <td>...</td>\n",
       "      <td>...</td>\n",
       "      <td>...</td>\n",
       "      <td>...</td>\n",
       "      <td>...</td>\n",
       "      <td>...</td>\n",
       "      <td>...</td>\n",
       "      <td>...</td>\n",
       "      <td>...</td>\n",
       "      <td>...</td>\n",
       "      <td>...</td>\n",
       "    </tr>\n",
       "    <tr>\n",
       "      <th>248023</th>\n",
       "      <td>2056595</td>\n",
       "      <td>제주</td>\n",
       "      <td>제주직할</td>\n",
       "      <td>부웅크리스탈빌1차</td>\n",
       "      <td>완속1</td>\n",
       "      <td>6137</td>\n",
       "      <td>제주특별자치도 제주시 도남동 원남6길 55-1</td>\n",
       "      <td>완속</td>\n",
       "      <td>7.0</td>\n",
       "      <td>22.00</td>\n",
       "      <td>3</td>\n",
       "      <td>58</td>\n",
       "      <td>2020-12-03</td>\n",
       "      <td>2020-12-02 22:01</td>\n",
       "      <td>2020-12-03 1:59</td>\n",
       "      <td>제주특별자치도</td>\n",
       "      <td>제주시</td>\n",
       "      <td>도남동 원남6길 55-1</td>\n",
       "    </tr>\n",
       "    <tr>\n",
       "      <th>248024</th>\n",
       "      <td>2056598</td>\n",
       "      <td>제주</td>\n",
       "      <td>제주직할</td>\n",
       "      <td>아이린아파트</td>\n",
       "      <td>완속01</td>\n",
       "      <td>6658</td>\n",
       "      <td>제주특별자치도 제주시 서사로7길 1</td>\n",
       "      <td>완속</td>\n",
       "      <td>7.0</td>\n",
       "      <td>32.70</td>\n",
       "      <td>5</td>\n",
       "      <td>4</td>\n",
       "      <td>2020-12-03</td>\n",
       "      <td>2020-12-02 19:08</td>\n",
       "      <td>2020-12-03 0:13</td>\n",
       "      <td>제주특별자치도</td>\n",
       "      <td>제주시</td>\n",
       "      <td>서사로7길 1</td>\n",
       "    </tr>\n",
       "    <tr>\n",
       "      <th>248025</th>\n",
       "      <td>2056601</td>\n",
       "      <td>제주</td>\n",
       "      <td>서귀포</td>\n",
       "      <td>서귀포혁신LH1단지</td>\n",
       "      <td>완속01</td>\n",
       "      <td>5243</td>\n",
       "      <td>제주특별자치도 서귀포시 서호동 서호남로 92-15</td>\n",
       "      <td>완속</td>\n",
       "      <td>7.0</td>\n",
       "      <td>24.10</td>\n",
       "      <td>4</td>\n",
       "      <td>8</td>\n",
       "      <td>2020-12-03</td>\n",
       "      <td>2020-12-02 23:12</td>\n",
       "      <td>2020-12-03 3:20</td>\n",
       "      <td>제주특별자치도</td>\n",
       "      <td>서귀포시</td>\n",
       "      <td>서호동 서호남로 92-15</td>\n",
       "    </tr>\n",
       "    <tr>\n",
       "      <th>248026</th>\n",
       "      <td>2056611</td>\n",
       "      <td>제주</td>\n",
       "      <td>제주직할</td>\n",
       "      <td>노형지구중흥S클래스 아파트</td>\n",
       "      <td>완속02</td>\n",
       "      <td>3522</td>\n",
       "      <td>제주특별자치도 제주시 노형동 광평동로 66</td>\n",
       "      <td>완속</td>\n",
       "      <td>7.0</td>\n",
       "      <td>33.27</td>\n",
       "      <td>4</td>\n",
       "      <td>59</td>\n",
       "      <td>2020-12-03</td>\n",
       "      <td>2020-12-02 19:30</td>\n",
       "      <td>2020-12-03 0:30</td>\n",
       "      <td>제주특별자치도</td>\n",
       "      <td>제주시</td>\n",
       "      <td>노형동 광평동로 66</td>\n",
       "    </tr>\n",
       "    <tr>\n",
       "      <th>248027</th>\n",
       "      <td>2056612</td>\n",
       "      <td>제주</td>\n",
       "      <td>제주직할</td>\n",
       "      <td>아라뜨래별연립주택</td>\n",
       "      <td>완속01</td>\n",
       "      <td>3543</td>\n",
       "      <td>제주특별자치도 제주시 아라이동 인다1길 15</td>\n",
       "      <td>완속</td>\n",
       "      <td>7.0</td>\n",
       "      <td>36.20</td>\n",
       "      <td>6</td>\n",
       "      <td>38</td>\n",
       "      <td>2020-12-03</td>\n",
       "      <td>2020-12-02 18:05</td>\n",
       "      <td>2020-12-03 0:43</td>\n",
       "      <td>제주특별자치도</td>\n",
       "      <td>제주시</td>\n",
       "      <td>아라이동 인다1길 15</td>\n",
       "    </tr>\n",
       "  </tbody>\n",
       "</table>\n",
       "<p>248028 rows × 18 columns</p>\n",
       "</div>"
      ],
      "text/plain": [
       "        Unnamed: 0  본부   사업소            충전소명   충전기  충전기ID  \\\n",
       "0               23  제주  제주직할       아이린4차 아파트  완속01   3558   \n",
       "1               27  제주  제주직할        아라원신 아파트  급속01   3551   \n",
       "2               43  제주  제주직할        방선문5차빌리지  완속01   3529   \n",
       "3               63  제주  제주직할           종합경기장  급속01    628   \n",
       "4               65  제주  제주직할      노형2차부영 아파트  완속02   3516   \n",
       "...            ...  ..   ...             ...   ...    ...   \n",
       "248023     2056595  제주  제주직할       부웅크리스탈빌1차   완속1   6137   \n",
       "248024     2056598  제주  제주직할          아이린아파트  완속01   6658   \n",
       "248025     2056601  제주   서귀포      서귀포혁신LH1단지  완속01   5243   \n",
       "248026     2056611  제주  제주직할  노형지구중흥S클래스 아파트  완속02   3522   \n",
       "248027     2056612  제주  제주직할       아라뜨래별연립주택  완속01   3543   \n",
       "\n",
       "                                 주소 충전기구분  충전용량    충전량  충전시간  충전분      충전종료일자  \\\n",
       "0           제주특별자치도 제주시 이도일동 동광로 35    완속   7.0  12.30     1   57  2020-01-01   \n",
       "1          제주특별자치도 제주시 아라일동 중앙로 578    급속  50.0  50.37     1   34  2020-01-01   \n",
       "2          제주특별자치도 제주시 아라일동 아란1길 30    완속   7.0  14.36     2   13  2020-01-01   \n",
       "3       제주특별자치도 제주시 서광로2길 24 (오라일동)    급속  50.0  11.03     0   24  2020-01-01   \n",
       "4             제주특별자치도 제주시 노형동 754-4    완속   7.0   9.44     1   48  2020-01-01   \n",
       "...                             ...   ...   ...    ...   ...  ...         ...   \n",
       "248023    제주특별자치도 제주시 도남동 원남6길 55-1    완속   7.0  22.00     3   58  2020-12-03   \n",
       "248024          제주특별자치도 제주시 서사로7길 1    완속   7.0  32.70     5    4  2020-12-03   \n",
       "248025  제주특별자치도 서귀포시 서호동 서호남로 92-15    완속   7.0  24.10     4    8  2020-12-03   \n",
       "248026      제주특별자치도 제주시 노형동 광평동로 66    완속   7.0  33.27     4   59  2020-12-03   \n",
       "248027     제주특별자치도 제주시 아라이동 인다1길 15    완속   7.0  36.20     6   38  2020-12-03   \n",
       "\n",
       "                     충전시작시각               충전종료시각        시     구  \\\n",
       "0       2020-01-01 20:34:00  2020-01-01 22:31:00  제주특별자치도   제주시   \n",
       "1       2020-01-01 21:20:00  2020-01-01 22:54:00  제주특별자치도   제주시   \n",
       "2       2020-01-01 20:51:00  2020-01-01 23:05:00  제주특별자치도   제주시   \n",
       "3       2020-01-01 21:40:00  2020-01-01 22:05:00  제주특별자치도   제주시   \n",
       "4       2020-01-01 21:41:00  2020-01-01 23:30:00  제주특별자치도   제주시   \n",
       "...                     ...                  ...      ...   ...   \n",
       "248023     2020-12-02 22:01      2020-12-03 1:59  제주특별자치도   제주시   \n",
       "248024     2020-12-02 19:08      2020-12-03 0:13  제주특별자치도   제주시   \n",
       "248025     2020-12-02 23:12      2020-12-03 3:20  제주특별자치도  서귀포시   \n",
       "248026     2020-12-02 19:30      2020-12-03 0:30  제주특별자치도   제주시   \n",
       "248027     2020-12-02 18:05      2020-12-03 0:43  제주특별자치도   제주시   \n",
       "\n",
       "                  도로명주소  \n",
       "0           이도일동 동광로 35  \n",
       "1          아라일동 중앙로 578  \n",
       "2          아라일동 아란1길 30  \n",
       "3       서광로2길 24 (오라일동)  \n",
       "4             노형동 754-4  \n",
       "...                 ...  \n",
       "248023    도남동 원남6길 55-1  \n",
       "248024          서사로7길 1  \n",
       "248025   서호동 서호남로 92-15  \n",
       "248026      노형동 광평동로 66  \n",
       "248027     아라이동 인다1길 15  \n",
       "\n",
       "[248028 rows x 18 columns]"
      ]
     },
     "execution_count": 2,
     "metadata": {},
     "output_type": "execute_result"
    }
   ],
   "source": [
    "chardatajeju_df = pd.read_excel('제주20년1월부터12월이상치+주소정리.xlsx')\n",
    "chardatajeju_df"
   ]
  },
  {
   "cell_type": "code",
   "execution_count": 3,
   "metadata": {},
   "outputs": [],
   "source": [
    "chardatajeju20_df = chardatajeju_df.loc[:, ['본부', '사업소', '충전소명', '충전기', '주소', '충전기구분', '충전용량', '구']]"
   ]
  },
  {
   "cell_type": "code",
   "execution_count": 6,
   "metadata": {},
   "outputs": [
    {
     "data": {
      "text/html": [
       "<div>\n",
       "<style scoped>\n",
       "    .dataframe tbody tr th:only-of-type {\n",
       "        vertical-align: middle;\n",
       "    }\n",
       "\n",
       "    .dataframe tbody tr th {\n",
       "        vertical-align: top;\n",
       "    }\n",
       "\n",
       "    .dataframe thead th {\n",
       "        text-align: right;\n",
       "    }\n",
       "</style>\n",
       "<table border=\"1\" class=\"dataframe\">\n",
       "  <thead>\n",
       "    <tr style=\"text-align: right;\">\n",
       "      <th></th>\n",
       "      <th>본부</th>\n",
       "      <th>사업소</th>\n",
       "      <th>충전소명</th>\n",
       "      <th>충전기</th>\n",
       "      <th>주소</th>\n",
       "      <th>충전기구분</th>\n",
       "      <th>충전용량</th>\n",
       "      <th>구</th>\n",
       "    </tr>\n",
       "  </thead>\n",
       "  <tbody>\n",
       "    <tr>\n",
       "      <th>0</th>\n",
       "      <td>제주</td>\n",
       "      <td>제주직할</td>\n",
       "      <td>아이린4차 아파트</td>\n",
       "      <td>완속01</td>\n",
       "      <td>제주특별자치도 제주시 이도일동 동광로 35</td>\n",
       "      <td>완속</td>\n",
       "      <td>7.0</td>\n",
       "      <td>제주시</td>\n",
       "    </tr>\n",
       "    <tr>\n",
       "      <th>1</th>\n",
       "      <td>제주</td>\n",
       "      <td>제주직할</td>\n",
       "      <td>아라원신 아파트</td>\n",
       "      <td>급속01</td>\n",
       "      <td>제주특별자치도 제주시 아라일동 중앙로 578</td>\n",
       "      <td>급속</td>\n",
       "      <td>50.0</td>\n",
       "      <td>제주시</td>\n",
       "    </tr>\n",
       "    <tr>\n",
       "      <th>2</th>\n",
       "      <td>제주</td>\n",
       "      <td>제주직할</td>\n",
       "      <td>방선문5차빌리지</td>\n",
       "      <td>완속01</td>\n",
       "      <td>제주특별자치도 제주시 아라일동 아란1길 30</td>\n",
       "      <td>완속</td>\n",
       "      <td>7.0</td>\n",
       "      <td>제주시</td>\n",
       "    </tr>\n",
       "    <tr>\n",
       "      <th>3</th>\n",
       "      <td>제주</td>\n",
       "      <td>제주직할</td>\n",
       "      <td>종합경기장</td>\n",
       "      <td>급속01</td>\n",
       "      <td>제주특별자치도 제주시 서광로2길 24 (오라일동)</td>\n",
       "      <td>급속</td>\n",
       "      <td>50.0</td>\n",
       "      <td>제주시</td>\n",
       "    </tr>\n",
       "    <tr>\n",
       "      <th>4</th>\n",
       "      <td>제주</td>\n",
       "      <td>제주직할</td>\n",
       "      <td>노형2차부영 아파트</td>\n",
       "      <td>완속02</td>\n",
       "      <td>제주특별자치도 제주시 노형동 754-4</td>\n",
       "      <td>완속</td>\n",
       "      <td>7.0</td>\n",
       "      <td>제주시</td>\n",
       "    </tr>\n",
       "    <tr>\n",
       "      <th>...</th>\n",
       "      <td>...</td>\n",
       "      <td>...</td>\n",
       "      <td>...</td>\n",
       "      <td>...</td>\n",
       "      <td>...</td>\n",
       "      <td>...</td>\n",
       "      <td>...</td>\n",
       "      <td>...</td>\n",
       "    </tr>\n",
       "    <tr>\n",
       "      <th>234688</th>\n",
       "      <td>환경부</td>\n",
       "      <td>환경부</td>\n",
       "      <td>동녘도서관</td>\n",
       "      <td>급속02</td>\n",
       "      <td>제주특별자치도 제주시 구좌읍 일주동로 3132</td>\n",
       "      <td>급속</td>\n",
       "      <td>NaN</td>\n",
       "      <td>제주시</td>\n",
       "    </tr>\n",
       "    <tr>\n",
       "      <th>238881</th>\n",
       "      <td>환경부</td>\n",
       "      <td>환경부</td>\n",
       "      <td>제주특별자치도의회</td>\n",
       "      <td>급속01</td>\n",
       "      <td>제주특별자치도 제주시 문연로 13</td>\n",
       "      <td>급속</td>\n",
       "      <td>NaN</td>\n",
       "      <td>제주시</td>\n",
       "    </tr>\n",
       "    <tr>\n",
       "      <th>240399</th>\n",
       "      <td>환경부</td>\n",
       "      <td>환경부</td>\n",
       "      <td>동녘도서관</td>\n",
       "      <td>급속01</td>\n",
       "      <td>제주특별자치도 제주시 구좌읍 일주동로 3132</td>\n",
       "      <td>급속</td>\n",
       "      <td>NaN</td>\n",
       "      <td>제주시</td>\n",
       "    </tr>\n",
       "    <tr>\n",
       "      <th>243468</th>\n",
       "      <td>환경부</td>\n",
       "      <td>환경부</td>\n",
       "      <td>김녕119지역센터</td>\n",
       "      <td>급속01</td>\n",
       "      <td>제주특별자치도 제주시 구좌읍 김녕로 242</td>\n",
       "      <td>급속</td>\n",
       "      <td>NaN</td>\n",
       "      <td>제주시</td>\n",
       "    </tr>\n",
       "    <tr>\n",
       "      <th>243484</th>\n",
       "      <td>환경부</td>\n",
       "      <td>환경부</td>\n",
       "      <td>문화예술진흥원</td>\n",
       "      <td>급속01</td>\n",
       "      <td>제주특별자치도 제주시 동광로 69</td>\n",
       "      <td>급속</td>\n",
       "      <td>NaN</td>\n",
       "      <td>제주시</td>\n",
       "    </tr>\n",
       "  </tbody>\n",
       "</table>\n",
       "<p>612 rows × 8 columns</p>\n",
       "</div>"
      ],
      "text/plain": [
       "         본부   사업소        충전소명   충전기                           주소 충전기구분  충전용량  \\\n",
       "0        제주  제주직할   아이린4차 아파트  완속01      제주특별자치도 제주시 이도일동 동광로 35    완속   7.0   \n",
       "1        제주  제주직할    아라원신 아파트  급속01     제주특별자치도 제주시 아라일동 중앙로 578    급속  50.0   \n",
       "2        제주  제주직할    방선문5차빌리지  완속01     제주특별자치도 제주시 아라일동 아란1길 30    완속   7.0   \n",
       "3        제주  제주직할       종합경기장  급속01  제주특별자치도 제주시 서광로2길 24 (오라일동)    급속  50.0   \n",
       "4        제주  제주직할  노형2차부영 아파트  완속02        제주특별자치도 제주시 노형동 754-4    완속   7.0   \n",
       "...     ...   ...         ...   ...                          ...   ...   ...   \n",
       "234688  환경부   환경부       동녘도서관  급속02    제주특별자치도 제주시 구좌읍 일주동로 3132    급속   NaN   \n",
       "238881  환경부   환경부   제주특별자치도의회  급속01           제주특별자치도 제주시 문연로 13    급속   NaN   \n",
       "240399  환경부   환경부       동녘도서관  급속01    제주특별자치도 제주시 구좌읍 일주동로 3132    급속   NaN   \n",
       "243468  환경부   환경부   김녕119지역센터  급속01      제주특별자치도 제주시 구좌읍 김녕로 242    급속   NaN   \n",
       "243484  환경부   환경부     문화예술진흥원  급속01           제주특별자치도 제주시 동광로 69    급속   NaN   \n",
       "\n",
       "          구  \n",
       "0       제주시  \n",
       "1       제주시  \n",
       "2       제주시  \n",
       "3       제주시  \n",
       "4       제주시  \n",
       "...     ...  \n",
       "234688  제주시  \n",
       "238881  제주시  \n",
       "240399  제주시  \n",
       "243468  제주시  \n",
       "243484  제주시  \n",
       "\n",
       "[612 rows x 8 columns]"
      ]
     },
     "execution_count": 6,
     "metadata": {},
     "output_type": "execute_result"
    }
   ],
   "source": [
    "chardatajeju20_df = chardatajeju20_df.drop_duplicates()\n",
    "chardatajeju20_df"
   ]
  },
  {
   "cell_type": "code",
   "execution_count": 7,
   "metadata": {},
   "outputs": [
    {
     "name": "stdout",
     "output_type": "stream",
     "text": [
      "제주시     414\n",
      "서귀포시    198\n",
      "Name: 구, dtype: int64\n"
     ]
    }
   ],
   "source": [
    "print(chardatajeju20_df['구'].value_counts())"
   ]
  },
  {
   "cell_type": "code",
   "execution_count": 8,
   "metadata": {},
   "outputs": [
    {
     "data": {
      "text/plain": [
       "<bound method NDFrame._add_numeric_operations.<locals>.sum of 0         제주시\n",
       "1         제주시\n",
       "2         제주시\n",
       "3         제주시\n",
       "4         제주시\n",
       "         ... \n",
       "234688    제주시\n",
       "238881    제주시\n",
       "240399    제주시\n",
       "243468    제주시\n",
       "243484    제주시\n",
       "Name: 구, Length: 612, dtype: object>"
      ]
     },
     "execution_count": 8,
     "metadata": {},
     "output_type": "execute_result"
    }
   ],
   "source": [
    "chardatajeju20_df['구'].sum"
   ]
  },
  {
   "cell_type": "code",
   "execution_count": 11,
   "metadata": {},
   "outputs": [
    {
     "data": {
      "text/plain": [
       "제주시     0.68\n",
       "서귀포시    0.32\n",
       "Name: 구, dtype: float64"
      ]
     },
     "execution_count": 11,
     "metadata": {},
     "output_type": "execute_result"
    }
   ],
   "source": [
    "# 2020년 제주도 구별 충전소 가동률\n",
    "np.round(chardatajeju20_df['구'].value_counts().div(612),2)"
   ]
  },
  {
   "cell_type": "code",
   "execution_count": 14,
   "metadata": {},
   "outputs": [
    {
     "data": {
      "image/png": "[encoded data removed]",
      "text/plain": [
       "<Figure size 640x480 with 1 Axes>"
      ]
     },
     "metadata": {},
     "output_type": "display_data"
    }
   ],
   "source": [
    "# 2020년 전기차 충전소 가동비율 그래프\n",
    "ratio = [68,32]\n",
    "labels = ['제주시', '서귀포시']\n",
    "plt.pie(ratio, labels=labels, autopct='%.1f%%', startangle=260, counterclock=False, shadow=True)\n",
    "plt.show()"
   ]
  },
  {
   "cell_type": "code",
   "execution_count": 15,
   "metadata": {},
   "outputs": [
    {
     "name": "stdout",
     "output_type": "stream",
     "text": [
      "급속    393\n",
      "완속    219\n",
      "Name: 충전기구분, dtype: int64\n"
     ]
    }
   ],
   "source": [
    "# 2020년 제주도 전기차 충전소 급속, 완속 충전기합\n",
    "print(chardatajeju20_df['충전기구분'].value_counts())"
   ]
  },
  {
   "cell_type": "code",
   "execution_count": 16,
   "metadata": {},
   "outputs": [
    {
     "data": {
      "text/plain": [
       "<Axes: >"
      ]
     },
     "execution_count": 16,
     "metadata": {},
     "output_type": "execute_result"
    },
    {
     "data": {
      "image/png": "[encoded data removed]",
      "text/plain": [
       "<Figure size 1000x500 with 1 Axes>"
      ]
     },
     "metadata": {},
     "output_type": "display_data"
    }
   ],
   "source": [
    "# 20년도 충전기 대수 가동 현황 총합 (완속, 급속)\n",
    "\n",
    "chargerjeju20dist = pd.value_counts(chardatajeju20_df['충전기구분'].values, sort=True, ascending = True)\n",
    "chargerjeju20dist.plot.barh()\n",
    "chargerjeju20dist.plot.barh(grid=True, color = ['red', 'yellow'], edgecolor = 'black', linewidth = 2.5, figsize=(10,5), fontsize=15)"
   ]
  },
  {
   "cell_type": "code",
   "execution_count": 17,
   "metadata": {},
   "outputs": [
    {
     "data": {
      "text/html": [
       "<div>\n",
       "<style scoped>\n",
       "    .dataframe tbody tr th:only-of-type {\n",
       "        vertical-align: middle;\n",
       "    }\n",
       "\n",
       "    .dataframe tbody tr th {\n",
       "        vertical-align: top;\n",
       "    }\n",
       "\n",
       "    .dataframe thead th {\n",
       "        text-align: right;\n",
       "    }\n",
       "</style>\n",
       "<table border=\"1\" class=\"dataframe\">\n",
       "  <thead>\n",
       "    <tr style=\"text-align: right;\">\n",
       "      <th></th>\n",
       "      <th></th>\n",
       "      <th>0</th>\n",
       "    </tr>\n",
       "    <tr>\n",
       "      <th>구</th>\n",
       "      <th>충전기구분</th>\n",
       "      <th></th>\n",
       "    </tr>\n",
       "  </thead>\n",
       "  <tbody>\n",
       "    <tr>\n",
       "      <th rowspan=\"2\" valign=\"top\">서귀포시</th>\n",
       "      <th>급속</th>\n",
       "      <td>158</td>\n",
       "    </tr>\n",
       "    <tr>\n",
       "      <th>완속</th>\n",
       "      <td>40</td>\n",
       "    </tr>\n",
       "    <tr>\n",
       "      <th rowspan=\"2\" valign=\"top\">제주시</th>\n",
       "      <th>급속</th>\n",
       "      <td>235</td>\n",
       "    </tr>\n",
       "    <tr>\n",
       "      <th>완속</th>\n",
       "      <td>179</td>\n",
       "    </tr>\n",
       "  </tbody>\n",
       "</table>\n",
       "</div>"
      ],
      "text/plain": [
       "              0\n",
       "구    충전기구분     \n",
       "서귀포시 급속     158\n",
       "     완속      40\n",
       "제주시  급속     235\n",
       "     완속     179"
      ]
     },
     "execution_count": 17,
     "metadata": {},
     "output_type": "execute_result"
    }
   ],
   "source": [
    "# 2020년도 제주도 자치구별, 충전기구분별 데이터 프레임을 추출합니다.\n",
    "\n",
    "chargerjeju20_df = chardatajeju20_df[['구', '충전기구분']]\n",
    "chargerjeju20_df = chargerjeju20_df.groupby([\"구\", \"충전기구분\"]).size()\n",
    "pd.DataFrame(chargerjeju20_df)"
   ]
  },
  {
   "cell_type": "code",
   "execution_count": 18,
   "metadata": {},
   "outputs": [
    {
     "data": {
      "text/plain": [
       "(array([0, 1, 2, 3]),\n",
       " [Text(0, 0, '(서귀포시, 급속)'),\n",
       "  Text(1, 0, '(서귀포시, 완속)'),\n",
       "  Text(2, 0, '(제주시, 급속)'),\n",
       "  Text(3, 0, '(제주시, 완속)')])"
      ]
     },
     "execution_count": 18,
     "metadata": {},
     "output_type": "execute_result"
    },
    {
     "data": {
      "image/png": "[encoded data removed]",
      "text/plain": [
       "<Figure size 1500x500 with 1 Axes>"
      ]
     },
     "metadata": {},
     "output_type": "display_data"
    }
   ],
   "source": [
    "# 2020년도 제주도 자치구별 충전기 가동 현황을  시각화합니다. (구, 급속, 완속)\n",
    "\n",
    "chargerjeju20_df.plot.bar()\n",
    "chargerjeju20_df.plot.bar(grid=True, color = ['red', 'yellow'], edgecolor = 'black', linewidth = 2.5, figsize=(15,5), fontsize=13)\n",
    "plt.xticks(rotation = 360)"
   ]
  },
  {
   "cell_type": "code",
   "execution_count": 19,
   "metadata": {},
   "outputs": [
    {
     "name": "stdout",
     "output_type": "stream",
     "text": [
      "제주시     179734\n",
      "서귀포시     68294\n",
      "Name: 구, dtype: int64\n"
     ]
    }
   ],
   "source": [
    "# 202년도 전기차충전소 사용빈도(제주시/서귀포시)\n",
    "print(chardatajeju_df['구'].value_counts())"
   ]
  },
  {
   "cell_type": "code",
   "execution_count": 23,
   "metadata": {},
   "outputs": [
    {
     "data": {
      "text/plain": [
       "<Axes: >"
      ]
     },
     "execution_count": 23,
     "metadata": {},
     "output_type": "execute_result"
    },
    {
     "data": {
      "image/png": "[encoded data removed]",
      "text/plain": [
       "<Figure size 1000x800 with 1 Axes>"
      ]
     },
     "metadata": {},
     "output_type": "display_data"
    }
   ],
   "source": [
    "# 2020년도 제주도 전기차 충전소 사용 빈도 시각화\n",
    "\n",
    "chargecountjeju20_df = pd.value_counts(chardatajeju_df['구'].values, sort=True, ascending = True)\n",
    "chargecountjeju20_df.plot.barh()\n",
    "chargecountjeju20_df.plot.barh(grid=True, color = ['red', 'yellow'], edgecolor = 'black', linewidth = 2.5, figsize=(10,8), fontsize=15)"
   ]
  },
  {
   "cell_type": "code",
   "execution_count": 24,
   "metadata": {},
   "outputs": [
    {
     "name": "stdout",
     "output_type": "stream",
     "text": [
      "급속    184046\n",
      "완속     63982\n",
      "Name: 충전기구분, dtype: int64\n"
     ]
    }
   ],
   "source": [
    "# 2020년도 전기차충전소 사용빈도(급속/완속)\n",
    "print(chardatajeju_df['충전기구분'].value_counts())"
   ]
  },
  {
   "cell_type": "code",
   "execution_count": 25,
   "metadata": {},
   "outputs": [
    {
     "data": {
      "text/plain": [
       "<Axes: >"
      ]
     },
     "execution_count": 25,
     "metadata": {},
     "output_type": "execute_result"
    },
    {
     "data": {
      "image/png": "[encoded data removed]",
      "text/plain": [
       "<Figure size 1000x800 with 1 Axes>"
      ]
     },
     "metadata": {},
     "output_type": "display_data"
    }
   ],
   "source": [
    "# 2020년도 제주도 전기차 충전소(급속/완속) 사용 빈도 시각화\n",
    "\n",
    "chargetypecountjeju20_df = pd.value_counts(chardatajeju_df['충전기구분'].values, sort=True, ascending = True)\n",
    "chargetypecountjeju20_df.plot.barh()\n",
    "chargetypecountjeju20_df.plot.barh(grid=True, color = ['red', 'yellow'], edgecolor = 'black', linewidth = 2.5, figsize=(10,8), fontsize=15)"
   ]
  },
  {
   "cell_type": "code",
   "execution_count": null,
   "metadata": {},
   "outputs": [],
   "source": []
  }
 ],
 "metadata": {
  "kernelspec": {
   "display_name": "base",
   "language": "python",
   "name": "python3"
  },
  "language_info": {
   "codemirror_mode": {
    "name": "ipython",
    "version": 3
   },
   "file_extension": ".py",
   "mimetype": "text/x-python",
   "name": "python",
   "nbconvert_exporter": "python",
   "pygments_lexer": "ipython3",
   "version": "3.10.9"
  },
  "orig_nbformat": 4
 },
 "nbformat": 4,
 "nbformat_minor": 2
}
